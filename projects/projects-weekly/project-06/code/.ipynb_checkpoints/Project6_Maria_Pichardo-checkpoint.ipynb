{
 "cells": [
  {
   "cell_type": "code",
   "execution_count": 59,
   "metadata": {
    "collapsed": false
   },
   "outputs": [],
   "source": [
    "# Imports LIbraries needed \n",
    "import json\n",
    "import urllib\n",
    "import re\n",
    "import pandas as pd\n",
    "import numpy as np\n",
    "import requests\n",
    "import bs4\n",
    "from bs4 import BeautifulSoup\n",
    "import re\n",
    "import matplotlib.pyplot as plt\n",
    "from imdbpie import Imdb\n",
    "import gspread\n",
    "from sklearn.feature_extraction.text import CountVectorizer\n",
    "from ggplot import *\n",
    "plt.style.use('ggplot')\n",
    "\n",
    "%matplotlib inline\n",
    "import seaborn as sns\n",
    "\n",
    "from sklearn.linear_model import LinearRegression\n",
    "from sklearn.metrics import r2_score, classification_report, confusion_matrix, accuracy_score, mean_squared_error\n",
    "from sklearn.tree import DecisionTreeRegressor, DecisionTreeClassifier\n",
    "from sklearn.cross_validation import KFold, cross_val_score, StratifiedKFold, train_test_split\n",
    "from sklearn.grid_search import GridSearchCV\n",
    "from sklearn.ensemble import RandomForestRegressor, AdaBoostRegressor, GradientBoostingRegressor,\\\n",
    "AdaBoostClassifier, GradientBoostingClassifier, BaggingClassifier, RandomForestClassifier, BaggingRegressor\n",
    "from sklearn.neighbors import KNeighborsRegressor"
   ]
  },
  {
   "cell_type": "markdown",
   "metadata": {},
   "source": [
    "## Pre-Task: Describe the goals of  my project and problem statement \n",
    "\n",
    "<p>I have  been hired by Netflix to examine what factors lead to certain ratings for movies, and also to add some of the top movies to their offerings based on popularity and other factors since they have not been focused on collecting data on them.</p>\n",
    "\n",
    "<p>NetFlix has some standards already established on their data science department: They use random forests and decision trees to predict what types of movies an individual user may like.</p>\n",
    "\n",
    "<p>I will use IMDb API to create a model for the predictions.</p>"
   ]
  },
  {
   "cell_type": "code",
   "execution_count": 60,
   "metadata": {
    "collapsed": true
   },
   "outputs": [],
   "source": [
    "# Installed pip install imdbpie\n",
    "#Create an instance of ImdbPie\n",
    "imdb = Imdb()\n",
    "imdb = Imdb(anonymize=True) # to proxy requests"
   ]
  },
  {
   "cell_type": "markdown",
   "metadata": {},
   "source": [
    "## Part 1: Aquire the Data"
   ]
  },
  {
   "cell_type": "code",
   "execution_count": 63,
   "metadata": {
    "collapsed": false
   },
   "outputs": [
    {
     "data": {
      "text/html": [
       "<div>\n",
       "<table border=\"1\" class=\"dataframe\">\n",
       "  <thead>\n",
       "    <tr style=\"text-align: right;\">\n",
       "      <th></th>\n",
       "      <th>can_rate</th>\n",
       "      <th>image</th>\n",
       "      <th>num_votes</th>\n",
       "      <th>rating</th>\n",
       "      <th>tconst</th>\n",
       "      <th>title</th>\n",
       "      <th>type</th>\n",
       "      <th>year</th>\n",
       "    </tr>\n",
       "  </thead>\n",
       "  <tbody>\n",
       "    <tr>\n",
       "      <th>0</th>\n",
       "      <td>True</td>\n",
       "      <td>{u'url': u'https://images-na.ssl-images-amazon...</td>\n",
       "      <td>1722609</td>\n",
       "      <td>9.3</td>\n",
       "      <td>tt0111161</td>\n",
       "      <td>The Shawshank Redemption</td>\n",
       "      <td>feature</td>\n",
       "      <td>1994</td>\n",
       "    </tr>\n",
       "    <tr>\n",
       "      <th>1</th>\n",
       "      <td>True</td>\n",
       "      <td>{u'url': u'https://images-na.ssl-images-amazon...</td>\n",
       "      <td>1177258</td>\n",
       "      <td>9.2</td>\n",
       "      <td>tt0068646</td>\n",
       "      <td>The Godfather</td>\n",
       "      <td>feature</td>\n",
       "      <td>1972</td>\n",
       "    </tr>\n",
       "    <tr>\n",
       "      <th>2</th>\n",
       "      <td>True</td>\n",
       "      <td>{u'url': u'https://images-na.ssl-images-amazon...</td>\n",
       "      <td>806996</td>\n",
       "      <td>9.0</td>\n",
       "      <td>tt0071562</td>\n",
       "      <td>The Godfather: Part II</td>\n",
       "      <td>feature</td>\n",
       "      <td>1974</td>\n",
       "    </tr>\n",
       "    <tr>\n",
       "      <th>3</th>\n",
       "      <td>True</td>\n",
       "      <td>{u'url': u'https://images-na.ssl-images-amazon...</td>\n",
       "      <td>1708382</td>\n",
       "      <td>9.0</td>\n",
       "      <td>tt0468569</td>\n",
       "      <td>The Dark Knight</td>\n",
       "      <td>feature</td>\n",
       "      <td>2008</td>\n",
       "    </tr>\n",
       "    <tr>\n",
       "      <th>4</th>\n",
       "      <td>True</td>\n",
       "      <td>{u'url': u'https://images-na.ssl-images-amazon...</td>\n",
       "      <td>459117</td>\n",
       "      <td>8.9</td>\n",
       "      <td>tt0050083</td>\n",
       "      <td>12 Angry Men</td>\n",
       "      <td>feature</td>\n",
       "      <td>1957</td>\n",
       "    </tr>\n",
       "  </tbody>\n",
       "</table>\n",
       "</div>"
      ],
      "text/plain": [
       "  can_rate                                              image  num_votes  \\\n",
       "0     True  {u'url': u'https://images-na.ssl-images-amazon...    1722609   \n",
       "1     True  {u'url': u'https://images-na.ssl-images-amazon...    1177258   \n",
       "2     True  {u'url': u'https://images-na.ssl-images-amazon...     806996   \n",
       "3     True  {u'url': u'https://images-na.ssl-images-amazon...    1708382   \n",
       "4     True  {u'url': u'https://images-na.ssl-images-amazon...     459117   \n",
       "\n",
       "   rating     tconst                     title     type  year  \n",
       "0     9.3  tt0111161  The Shawshank Redemption  feature  1994  \n",
       "1     9.2  tt0068646             The Godfather  feature  1972  \n",
       "2     9.0  tt0071562    The Godfather: Part II  feature  1974  \n",
       "3     9.0  tt0468569           The Dark Knight  feature  2008  \n",
       "4     8.9  tt0050083              12 Angry Men  feature  1957  "
      ]
     },
     "execution_count": 63,
     "metadata": {},
     "output_type": "execute_result"
    }
   ],
   "source": [
    "#Find the top 250 movies ever\n",
    "\n",
    "df_top = pd.DataFrame(imdb.top_250())\n",
    "df_top.head()\n",
    "\n"
   ]
  },
  {
   "cell_type": "code",
   "execution_count": 22,
   "metadata": {
    "collapsed": true
   },
   "outputs": [],
   "source": [
    "#Another way to Find the top 250 movies ever just for my records\n",
    "#df = pd.read_json(json.dumps(imdb.top_250()))"
   ]
  },
  {
   "cell_type": "markdown",
   "metadata": {},
   "source": [
    "<img src=\"get_url_2.png\">"
   ]
  },
  {
   "cell_type": "code",
   "execution_count": 167,
   "metadata": {
    "collapsed": false
   },
   "outputs": [],
   "source": [
    "#Function to get the movie details. URL was taken from http://www.omdbapi.com  API Documentation see above image\n",
    "\n",
    "def get_movie_detail(tconst):\n",
    "    api_url = \"http://www.omdbapi.com/?i={}&plot=full&r=json\"\n",
    "    r = requests.get(api_url.format(tconst))\n",
    "    detail = json.loads(r.text)\n",
    "    return detail"
   ]
  },
  {
   "cell_type": "code",
   "execution_count": 168,
   "metadata": {
    "collapsed": false
   },
   "outputs": [],
   "source": [
    "#Loop thru the top-250 movies and get the complete information\n",
    "df_complete = pd.DataFrame([get_movie_detail(i) for i in df_top_id])"
   ]
  },
  {
   "cell_type": "code",
   "execution_count": 175,
   "metadata": {
    "collapsed": true
   },
   "outputs": [],
   "source": [
    "#making a copy in case of re-processing - statement above takes time\n",
    "#df_complete_backup = df_complete.copy(deep=True)\n",
    "#df_complete = df_complete_backup.copy(deep=True)"
   ]
  },
  {
   "cell_type": "code",
   "execution_count": 176,
   "metadata": {
    "collapsed": false
   },
   "outputs": [
    {
     "data": {
      "text/html": [
       "<div>\n",
       "<table border=\"1\" class=\"dataframe\">\n",
       "  <thead>\n",
       "    <tr style=\"text-align: right;\">\n",
       "      <th></th>\n",
       "      <th>Actors</th>\n",
       "      <th>Awards</th>\n",
       "      <th>Country</th>\n",
       "      <th>Director</th>\n",
       "      <th>Genre</th>\n",
       "      <th>Language</th>\n",
       "      <th>Metascore</th>\n",
       "      <th>Plot</th>\n",
       "      <th>Poster</th>\n",
       "      <th>Rated</th>\n",
       "      <th>Released</th>\n",
       "      <th>Response</th>\n",
       "      <th>Runtime</th>\n",
       "      <th>Title</th>\n",
       "      <th>Type</th>\n",
       "      <th>Writer</th>\n",
       "      <th>Year</th>\n",
       "      <th>imdbID</th>\n",
       "      <th>imdbRating</th>\n",
       "      <th>imdbVotes</th>\n",
       "    </tr>\n",
       "  </thead>\n",
       "  <tbody>\n",
       "    <tr>\n",
       "      <th>0</th>\n",
       "      <td>Tim Robbins, Morgan Freeman, Bob Gunton, Willi...</td>\n",
       "      <td>Nominated for 7 Oscars. Another 18 wins &amp; 30 n...</td>\n",
       "      <td>USA</td>\n",
       "      <td>Frank Darabont</td>\n",
       "      <td>Crime, Drama</td>\n",
       "      <td>English</td>\n",
       "      <td>80</td>\n",
       "      <td>Chronicles the experiences of a formerly succe...</td>\n",
       "      <td>https://images-na.ssl-images-amazon.com/images...</td>\n",
       "      <td>R</td>\n",
       "      <td>14 Oct 1994</td>\n",
       "      <td>True</td>\n",
       "      <td>142 min</td>\n",
       "      <td>The Shawshank Redemption</td>\n",
       "      <td>movie</td>\n",
       "      <td>Stephen King (short story \"Rita Hayworth and S...</td>\n",
       "      <td>1994</td>\n",
       "      <td>tt0111161</td>\n",
       "      <td>9.3</td>\n",
       "      <td>1,711,064</td>\n",
       "    </tr>\n",
       "    <tr>\n",
       "      <th>1</th>\n",
       "      <td>Marlon Brando, Al Pacino, James Caan, Richard ...</td>\n",
       "      <td>Won 3 Oscars. Another 23 wins &amp; 27 nominations.</td>\n",
       "      <td>USA</td>\n",
       "      <td>Francis Ford Coppola</td>\n",
       "      <td>Crime, Drama</td>\n",
       "      <td>English, Italian, Latin</td>\n",
       "      <td>100</td>\n",
       "      <td>When the aging head of a famous crime family d...</td>\n",
       "      <td>https://images-na.ssl-images-amazon.com/images...</td>\n",
       "      <td>R</td>\n",
       "      <td>24 Mar 1972</td>\n",
       "      <td>True</td>\n",
       "      <td>175 min</td>\n",
       "      <td>The Godfather</td>\n",
       "      <td>movie</td>\n",
       "      <td>Mario Puzo (screenplay), Francis Ford Coppola ...</td>\n",
       "      <td>1972</td>\n",
       "      <td>tt0068646</td>\n",
       "      <td>9.2</td>\n",
       "      <td>1,169,904</td>\n",
       "    </tr>\n",
       "    <tr>\n",
       "      <th>2</th>\n",
       "      <td>Al Pacino, Robert Duvall, Diane Keaton, Robert...</td>\n",
       "      <td>Won 6 Oscars. Another 10 wins &amp; 20 nominations.</td>\n",
       "      <td>USA</td>\n",
       "      <td>Francis Ford Coppola</td>\n",
       "      <td>Crime, Drama</td>\n",
       "      <td>English, Italian, Spanish, Latin, Sicilian</td>\n",
       "      <td>80</td>\n",
       "      <td>The continuing saga of the Corleone crime fami...</td>\n",
       "      <td>https://images-na.ssl-images-amazon.com/images...</td>\n",
       "      <td>R</td>\n",
       "      <td>20 Dec 1974</td>\n",
       "      <td>True</td>\n",
       "      <td>202 min</td>\n",
       "      <td>The Godfather: Part II</td>\n",
       "      <td>movie</td>\n",
       "      <td>Francis Ford Coppola (screenplay), Mario Puzo ...</td>\n",
       "      <td>1974</td>\n",
       "      <td>tt0071562</td>\n",
       "      <td>9.0</td>\n",
       "      <td>800,469</td>\n",
       "    </tr>\n",
       "    <tr>\n",
       "      <th>3</th>\n",
       "      <td>Christian Bale, Heath Ledger, Aaron Eckhart, M...</td>\n",
       "      <td>Won 2 Oscars. Another 146 wins &amp; 142 nominations.</td>\n",
       "      <td>USA, UK</td>\n",
       "      <td>Christopher Nolan</td>\n",
       "      <td>Action, Crime, Drama</td>\n",
       "      <td>English, Mandarin</td>\n",
       "      <td>82</td>\n",
       "      <td>When the menace known as the Joker wreaks havo...</td>\n",
       "      <td>https://images-na.ssl-images-amazon.com/images...</td>\n",
       "      <td>PG-13</td>\n",
       "      <td>18 Jul 2008</td>\n",
       "      <td>True</td>\n",
       "      <td>152 min</td>\n",
       "      <td>The Dark Knight</td>\n",
       "      <td>movie</td>\n",
       "      <td>Jonathan Nolan (screenplay), Christopher Nolan...</td>\n",
       "      <td>2008</td>\n",
       "      <td>tt0468569</td>\n",
       "      <td>9.0</td>\n",
       "      <td>1,699,835</td>\n",
       "    </tr>\n",
       "    <tr>\n",
       "      <th>4</th>\n",
       "      <td>Martin Balsam, John Fiedler, Lee J. Cobb, E.G....</td>\n",
       "      <td>Nominated for 3 Oscars. Another 16 wins &amp; 8 no...</td>\n",
       "      <td>USA</td>\n",
       "      <td>Sidney Lumet</td>\n",
       "      <td>Crime, Drama</td>\n",
       "      <td>English</td>\n",
       "      <td>N/A</td>\n",
       "      <td>The defense and the prosecution have rested an...</td>\n",
       "      <td>https://images-na.ssl-images-amazon.com/images...</td>\n",
       "      <td>APPROVED</td>\n",
       "      <td>01 Apr 1957</td>\n",
       "      <td>True</td>\n",
       "      <td>96 min</td>\n",
       "      <td>12 Angry Men</td>\n",
       "      <td>movie</td>\n",
       "      <td>Reginald Rose (story), Reginald Rose (screenplay)</td>\n",
       "      <td>1957</td>\n",
       "      <td>tt0050083</td>\n",
       "      <td>8.9</td>\n",
       "      <td>455,987</td>\n",
       "    </tr>\n",
       "  </tbody>\n",
       "</table>\n",
       "</div>"
      ],
      "text/plain": [
       "                                              Actors  \\\n",
       "0  Tim Robbins, Morgan Freeman, Bob Gunton, Willi...   \n",
       "1  Marlon Brando, Al Pacino, James Caan, Richard ...   \n",
       "2  Al Pacino, Robert Duvall, Diane Keaton, Robert...   \n",
       "3  Christian Bale, Heath Ledger, Aaron Eckhart, M...   \n",
       "4  Martin Balsam, John Fiedler, Lee J. Cobb, E.G....   \n",
       "\n",
       "                                              Awards  Country  \\\n",
       "0  Nominated for 7 Oscars. Another 18 wins & 30 n...      USA   \n",
       "1    Won 3 Oscars. Another 23 wins & 27 nominations.      USA   \n",
       "2    Won 6 Oscars. Another 10 wins & 20 nominations.      USA   \n",
       "3  Won 2 Oscars. Another 146 wins & 142 nominations.  USA, UK   \n",
       "4  Nominated for 3 Oscars. Another 16 wins & 8 no...      USA   \n",
       "\n",
       "               Director                 Genre  \\\n",
       "0        Frank Darabont          Crime, Drama   \n",
       "1  Francis Ford Coppola          Crime, Drama   \n",
       "2  Francis Ford Coppola          Crime, Drama   \n",
       "3     Christopher Nolan  Action, Crime, Drama   \n",
       "4          Sidney Lumet          Crime, Drama   \n",
       "\n",
       "                                     Language Metascore  \\\n",
       "0                                     English        80   \n",
       "1                     English, Italian, Latin       100   \n",
       "2  English, Italian, Spanish, Latin, Sicilian        80   \n",
       "3                           English, Mandarin        82   \n",
       "4                                     English       N/A   \n",
       "\n",
       "                                                Plot  \\\n",
       "0  Chronicles the experiences of a formerly succe...   \n",
       "1  When the aging head of a famous crime family d...   \n",
       "2  The continuing saga of the Corleone crime fami...   \n",
       "3  When the menace known as the Joker wreaks havo...   \n",
       "4  The defense and the prosecution have rested an...   \n",
       "\n",
       "                                              Poster     Rated     Released  \\\n",
       "0  https://images-na.ssl-images-amazon.com/images...         R  14 Oct 1994   \n",
       "1  https://images-na.ssl-images-amazon.com/images...         R  24 Mar 1972   \n",
       "2  https://images-na.ssl-images-amazon.com/images...         R  20 Dec 1974   \n",
       "3  https://images-na.ssl-images-amazon.com/images...     PG-13  18 Jul 2008   \n",
       "4  https://images-na.ssl-images-amazon.com/images...  APPROVED  01 Apr 1957   \n",
       "\n",
       "  Response  Runtime                     Title   Type  \\\n",
       "0     True  142 min  The Shawshank Redemption  movie   \n",
       "1     True  175 min             The Godfather  movie   \n",
       "2     True  202 min    The Godfather: Part II  movie   \n",
       "3     True  152 min           The Dark Knight  movie   \n",
       "4     True   96 min              12 Angry Men  movie   \n",
       "\n",
       "                                              Writer  Year     imdbID  \\\n",
       "0  Stephen King (short story \"Rita Hayworth and S...  1994  tt0111161   \n",
       "1  Mario Puzo (screenplay), Francis Ford Coppola ...  1972  tt0068646   \n",
       "2  Francis Ford Coppola (screenplay), Mario Puzo ...  1974  tt0071562   \n",
       "3  Jonathan Nolan (screenplay), Christopher Nolan...  2008  tt0468569   \n",
       "4  Reginald Rose (story), Reginald Rose (screenplay)  1957  tt0050083   \n",
       "\n",
       "  imdbRating  imdbVotes  \n",
       "0        9.3  1,711,064  \n",
       "1        9.2  1,169,904  \n",
       "2        9.0    800,469  \n",
       "3        9.0  1,699,835  \n",
       "4        8.9    455,987  "
      ]
     },
     "execution_count": 176,
     "metadata": {},
     "output_type": "execute_result"
    }
   ],
   "source": [
    "df_complete.head()"
   ]
  },
  {
   "cell_type": "code",
   "execution_count": 177,
   "metadata": {
    "collapsed": false
   },
   "outputs": [
    {
     "data": {
      "text/plain": [
       "Index([u'Actors', u'Awards', u'Country', u'Director', u'Genre', u'Language',\n",
       "       u'Metascore', u'Plot', u'Poster', u'Rated', u'Released', u'Response',\n",
       "       u'Runtime', u'Title', u'Type', u'Writer', u'Year', u'imdbID',\n",
       "       u'imdbRating', u'imdbVotes'],\n",
       "      dtype='object')"
      ]
     },
     "execution_count": 177,
     "metadata": {},
     "output_type": "execute_result"
    }
   ],
   "source": [
    "df_complete.columns"
   ]
  },
  {
   "cell_type": "markdown",
   "metadata": {},
   "source": [
    "### DATA EXPLORATION AND MINING"
   ]
  },
  {
   "cell_type": "markdown",
   "metadata": {},
   "source": [
    "### Checking  Rating behavior and distribution "
   ]
  },
  {
   "cell_type": "code",
   "execution_count": 178,
   "metadata": {
    "collapsed": false
   },
   "outputs": [
    {
     "data": {
      "text/plain": [
       "count    250.000000\n",
       "mean       8.309600\n",
       "std        0.232819\n",
       "min        8.000000\n",
       "25%        8.100000\n",
       "50%        8.300000\n",
       "75%        8.400000\n",
       "max        9.300000\n",
       "Name: rating, dtype: float64"
      ]
     },
     "execution_count": 178,
     "metadata": {},
     "output_type": "execute_result"
    }
   ],
   "source": [
    "df_top['rating'].describe()"
   ]
  },
  {
   "cell_type": "code",
   "execution_count": 179,
   "metadata": {
    "collapsed": false
   },
   "outputs": [
    {
     "data": {
      "text/plain": [
       "<matplotlib.axes._subplots.AxesSubplot at 0x120cbb9d0>"
      ]
     },
     "execution_count": 179,
     "metadata": {},
     "output_type": "execute_result"
    },
    {
     "data": {
      "image/png": "[encoded data removed]",
      "text/plain": [
       "<matplotlib.figure.Figure at 0x120cbb790>"
      ]
     },
     "metadata": {},
     "output_type": "display_data"
    }
   ],
   "source": [
    "df_top['rating'].hist()"
   ]
  },
  {
   "cell_type": "markdown",
   "metadata": {},
   "source": [
    "### Testing some of the funtions for future use"
   ]
  },
  {
   "cell_type": "code",
   "execution_count": 180,
   "metadata": {
    "collapsed": false
   },
   "outputs": [
    {
     "data": {
      "text/plain": [
       "True"
      ]
     },
     "execution_count": 180,
     "metadata": {},
     "output_type": "execute_result"
    }
   ],
   "source": [
    "imdb.title_exists('tt1327801')"
   ]
  },
  {
   "cell_type": "code",
   "execution_count": 31,
   "metadata": {
    "collapsed": false,
    "scrolled": true
   },
   "outputs": [],
   "source": [
    "#imdb.get_person_images(\"nm0000033\")"
   ]
  },
  {
   "cell_type": "code",
   "execution_count": 32,
   "metadata": {
    "collapsed": false
   },
   "outputs": [],
   "source": [
    "#imdb.get_title_reviews(\"tt0468569\", max_results=15)"
   ]
  },
  {
   "cell_type": "code",
   "execution_count": 181,
   "metadata": {
    "collapsed": true
   },
   "outputs": [],
   "source": [
    "# Function to determine number of oscars won\n",
    "def no_oscars(x):\n",
    "    try:\n",
    "        oscar = re.findall(r\"([^.]*?Oscar[^.]*\\.)\",x)[0].split()\n",
    "        if oscar[0]==\"Won\":\n",
    "            return oscar[1]\n",
    "        else:\n",
    "            return 0\n",
    "    except:\n",
    "        return 0"
   ]
  },
  {
   "cell_type": "code",
   "execution_count": 182,
   "metadata": {
    "collapsed": true
   },
   "outputs": [],
   "source": [
    "# create column for number of oscars won based on the Awards Column\n",
    "df_complete[\"NumberOscar\"] = df_complete[\"Awards\"].apply(no_oscars)"
   ]
  },
  {
   "cell_type": "code",
   "execution_count": 183,
   "metadata": {
    "collapsed": false
   },
   "outputs": [
    {
     "data": {
      "text/html": [
       "<div>\n",
       "<table border=\"1\" class=\"dataframe\">\n",
       "  <thead>\n",
       "    <tr style=\"text-align: right;\">\n",
       "      <th></th>\n",
       "      <th>Actors</th>\n",
       "      <th>Awards</th>\n",
       "      <th>Country</th>\n",
       "      <th>Director</th>\n",
       "      <th>Genre</th>\n",
       "      <th>Language</th>\n",
       "      <th>Metascore</th>\n",
       "      <th>Plot</th>\n",
       "      <th>Poster</th>\n",
       "      <th>Rated</th>\n",
       "      <th>...</th>\n",
       "      <th>Response</th>\n",
       "      <th>Runtime</th>\n",
       "      <th>Title</th>\n",
       "      <th>Type</th>\n",
       "      <th>Writer</th>\n",
       "      <th>Year</th>\n",
       "      <th>imdbID</th>\n",
       "      <th>imdbRating</th>\n",
       "      <th>imdbVotes</th>\n",
       "      <th>NumberOscar</th>\n",
       "    </tr>\n",
       "  </thead>\n",
       "  <tbody>\n",
       "    <tr>\n",
       "      <th>0</th>\n",
       "      <td>Tim Robbins, Morgan Freeman, Bob Gunton, Willi...</td>\n",
       "      <td>Nominated for 7 Oscars. Another 18 wins &amp; 30 n...</td>\n",
       "      <td>USA</td>\n",
       "      <td>Frank Darabont</td>\n",
       "      <td>Crime, Drama</td>\n",
       "      <td>English</td>\n",
       "      <td>80</td>\n",
       "      <td>Chronicles the experiences of a formerly succe...</td>\n",
       "      <td>https://images-na.ssl-images-amazon.com/images...</td>\n",
       "      <td>R</td>\n",
       "      <td>...</td>\n",
       "      <td>True</td>\n",
       "      <td>142 min</td>\n",
       "      <td>The Shawshank Redemption</td>\n",
       "      <td>movie</td>\n",
       "      <td>Stephen King (short story \"Rita Hayworth and S...</td>\n",
       "      <td>1994</td>\n",
       "      <td>tt0111161</td>\n",
       "      <td>9.3</td>\n",
       "      <td>1,711,064</td>\n",
       "      <td>0</td>\n",
       "    </tr>\n",
       "  </tbody>\n",
       "</table>\n",
       "<p>1 rows × 21 columns</p>\n",
       "</div>"
      ],
      "text/plain": [
       "                                              Actors  \\\n",
       "0  Tim Robbins, Morgan Freeman, Bob Gunton, Willi...   \n",
       "\n",
       "                                              Awards Country        Director  \\\n",
       "0  Nominated for 7 Oscars. Another 18 wins & 30 n...     USA  Frank Darabont   \n",
       "\n",
       "          Genre Language Metascore  \\\n",
       "0  Crime, Drama  English        80   \n",
       "\n",
       "                                                Plot  \\\n",
       "0  Chronicles the experiences of a formerly succe...   \n",
       "\n",
       "                                              Poster Rated     ...      \\\n",
       "0  https://images-na.ssl-images-amazon.com/images...     R     ...       \n",
       "\n",
       "  Response  Runtime                     Title   Type  \\\n",
       "0     True  142 min  The Shawshank Redemption  movie   \n",
       "\n",
       "                                              Writer  Year     imdbID  \\\n",
       "0  Stephen King (short story \"Rita Hayworth and S...  1994  tt0111161   \n",
       "\n",
       "  imdbRating  imdbVotes NumberOscar  \n",
       "0        9.3  1,711,064           0  \n",
       "\n",
       "[1 rows x 21 columns]"
      ]
     },
     "execution_count": 183,
     "metadata": {},
     "output_type": "execute_result"
    }
   ],
   "source": [
    "df_complete.head(1)\n"
   ]
  },
  {
   "cell_type": "markdown",
   "metadata": {},
   "source": [
    "### Create 2 colums one for top actors one for top directors BASED ON HOW MANY MOVIES THEY HAVE IN THE TOP 250. In the order of \"# of movies\"  Descending, the actors and directors with the most movies in the top 250 will be at the top of the dataframe"
   ]
  },
  {
   "cell_type": "code",
   "execution_count": 184,
   "metadata": {
    "collapsed": true
   },
   "outputs": [],
   "source": [
    "# Create a Count vectorizer to create binary column per actor and then count the movies \n",
    "#(a sparse representation of the counts)\n",
    "Cvector=CountVectorizer()"
   ]
  },
  {
   "cell_type": "code",
   "execution_count": 185,
   "metadata": {
    "collapsed": false
   },
   "outputs": [],
   "source": [
    "# Create a column  per actors name \n",
    "\n",
    "df_complete[\"ActorNames\"] = df_complete[\"Actors\"].apply(lambda x: x.lower().replace(\" \",\"\"))\n",
    "Cvector.fit(df_complete[\"ActorNames\"])\n",
    "actors  = pd.DataFrame(Cvector.transform(df_complete[\"ActorNames\"]).todense(),\n",
    "             columns=Cvector.get_feature_names())\n"
   ]
  },
  {
   "cell_type": "code",
   "execution_count": 186,
   "metadata": {
    "collapsed": false
   },
   "outputs": [
    {
     "data": {
      "text/html": [
       "<div>\n",
       "<table border=\"1\" class=\"dataframe\">\n",
       "  <thead>\n",
       "    <tr style=\"text-align: right;\">\n",
       "      <th></th>\n",
       "      <th>aamirkhan</th>\n",
       "      <th>aaroneckhart</th>\n",
       "      <th>abdelahmedghili</th>\n",
       "      <th>adambaldwin</th>\n",
       "      <th>adamdriver</th>\n",
       "      <th>adolphemenjou</th>\n",
       "      <th>adrienbrody</th>\n",
       "      <th>agnesmoorehead</th>\n",
       "      <th>ahneyher</th>\n",
       "      <th>akemiyamaguchi</th>\n",
       "      <th>...</th>\n",
       "      <th>wrentz</th>\n",
       "      <th>xolanimali</th>\n",
       "      <th>yacefsaadi</th>\n",
       "      <th>yoshikoshinohara</th>\n",
       "      <th>yukikoshimazaki</th>\n",
       "      <th>yvesmontand</th>\n",
       "      <th>yôkotsukasa</th>\n",
       "      <th>zachgrenier</th>\n",
       "      <th>zoesaldana</th>\n",
       "      <th>álvaroguerrero</th>\n",
       "    </tr>\n",
       "  </thead>\n",
       "  <tbody>\n",
       "    <tr>\n",
       "      <th>0</th>\n",
       "      <td>0</td>\n",
       "      <td>0</td>\n",
       "      <td>0</td>\n",
       "      <td>0</td>\n",
       "      <td>0</td>\n",
       "      <td>0</td>\n",
       "      <td>0</td>\n",
       "      <td>0</td>\n",
       "      <td>0</td>\n",
       "      <td>0</td>\n",
       "      <td>...</td>\n",
       "      <td>0</td>\n",
       "      <td>0</td>\n",
       "      <td>0</td>\n",
       "      <td>0</td>\n",
       "      <td>0</td>\n",
       "      <td>0</td>\n",
       "      <td>0</td>\n",
       "      <td>0</td>\n",
       "      <td>0</td>\n",
       "      <td>0</td>\n",
       "    </tr>\n",
       "    <tr>\n",
       "      <th>1</th>\n",
       "      <td>0</td>\n",
       "      <td>0</td>\n",
       "      <td>0</td>\n",
       "      <td>0</td>\n",
       "      <td>0</td>\n",
       "      <td>0</td>\n",
       "      <td>0</td>\n",
       "      <td>0</td>\n",
       "      <td>0</td>\n",
       "      <td>0</td>\n",
       "      <td>...</td>\n",
       "      <td>0</td>\n",
       "      <td>0</td>\n",
       "      <td>0</td>\n",
       "      <td>0</td>\n",
       "      <td>0</td>\n",
       "      <td>0</td>\n",
       "      <td>0</td>\n",
       "      <td>0</td>\n",
       "      <td>0</td>\n",
       "      <td>0</td>\n",
       "    </tr>\n",
       "    <tr>\n",
       "      <th>2</th>\n",
       "      <td>0</td>\n",
       "      <td>0</td>\n",
       "      <td>0</td>\n",
       "      <td>0</td>\n",
       "      <td>0</td>\n",
       "      <td>0</td>\n",
       "      <td>0</td>\n",
       "      <td>0</td>\n",
       "      <td>0</td>\n",
       "      <td>0</td>\n",
       "      <td>...</td>\n",
       "      <td>0</td>\n",
       "      <td>0</td>\n",
       "      <td>0</td>\n",
       "      <td>0</td>\n",
       "      <td>0</td>\n",
       "      <td>0</td>\n",
       "      <td>0</td>\n",
       "      <td>0</td>\n",
       "      <td>0</td>\n",
       "      <td>0</td>\n",
       "    </tr>\n",
       "    <tr>\n",
       "      <th>3</th>\n",
       "      <td>0</td>\n",
       "      <td>1</td>\n",
       "      <td>0</td>\n",
       "      <td>0</td>\n",
       "      <td>0</td>\n",
       "      <td>0</td>\n",
       "      <td>0</td>\n",
       "      <td>0</td>\n",
       "      <td>0</td>\n",
       "      <td>0</td>\n",
       "      <td>...</td>\n",
       "      <td>0</td>\n",
       "      <td>0</td>\n",
       "      <td>0</td>\n",
       "      <td>0</td>\n",
       "      <td>0</td>\n",
       "      <td>0</td>\n",
       "      <td>0</td>\n",
       "      <td>0</td>\n",
       "      <td>0</td>\n",
       "      <td>0</td>\n",
       "    </tr>\n",
       "    <tr>\n",
       "      <th>4</th>\n",
       "      <td>0</td>\n",
       "      <td>0</td>\n",
       "      <td>0</td>\n",
       "      <td>0</td>\n",
       "      <td>0</td>\n",
       "      <td>0</td>\n",
       "      <td>0</td>\n",
       "      <td>0</td>\n",
       "      <td>0</td>\n",
       "      <td>0</td>\n",
       "      <td>...</td>\n",
       "      <td>0</td>\n",
       "      <td>0</td>\n",
       "      <td>0</td>\n",
       "      <td>0</td>\n",
       "      <td>0</td>\n",
       "      <td>0</td>\n",
       "      <td>0</td>\n",
       "      <td>0</td>\n",
       "      <td>0</td>\n",
       "      <td>0</td>\n",
       "    </tr>\n",
       "  </tbody>\n",
       "</table>\n",
       "<p>5 rows × 854 columns</p>\n",
       "</div>"
      ],
      "text/plain": [
       "   aamirkhan  aaroneckhart  abdelahmedghili  adambaldwin  adamdriver  \\\n",
       "0          0             0                0            0           0   \n",
       "1          0             0                0            0           0   \n",
       "2          0             0                0            0           0   \n",
       "3          0             1                0            0           0   \n",
       "4          0             0                0            0           0   \n",
       "\n",
       "   adolphemenjou  adrienbrody  agnesmoorehead  ahneyher  akemiyamaguchi  \\\n",
       "0              0            0               0         0               0   \n",
       "1              0            0               0         0               0   \n",
       "2              0            0               0         0               0   \n",
       "3              0            0               0         0               0   \n",
       "4              0            0               0         0               0   \n",
       "\n",
       "        ...        wrentz  xolanimali  yacefsaadi  yoshikoshinohara  \\\n",
       "0       ...             0           0           0                 0   \n",
       "1       ...             0           0           0                 0   \n",
       "2       ...             0           0           0                 0   \n",
       "3       ...             0           0           0                 0   \n",
       "4       ...             0           0           0                 0   \n",
       "\n",
       "   yukikoshimazaki  yvesmontand  yôkotsukasa  zachgrenier  zoesaldana  \\\n",
       "0                0            0            0            0           0   \n",
       "1                0            0            0            0           0   \n",
       "2                0            0            0            0           0   \n",
       "3                0            0            0            0           0   \n",
       "4                0            0            0            0           0   \n",
       "\n",
       "   álvaroguerrero  \n",
       "0               0  \n",
       "1               0  \n",
       "2               0  \n",
       "3               0  \n",
       "4               0  \n",
       "\n",
       "[5 rows x 854 columns]"
      ]
     },
     "execution_count": 186,
     "metadata": {},
     "output_type": "execute_result"
    }
   ],
   "source": [
    "actors.head()"
   ]
  },
  {
   "cell_type": "code",
   "execution_count": 187,
   "metadata": {
    "collapsed": true
   },
   "outputs": [],
   "source": [
    "#top 10 actors\n",
    "top_actors =actors.sum(axis=0).sort_values(ascending=False)[:10]\n",
    "Cvector.fit(top_actors.index)\n",
    "top_actors_count  = pd.DataFrame(Cvector.transform(df_complete[\"ActorNames\"]).todense(),\n",
    "             columns=Cvector.get_feature_names())\n"
   ]
  },
  {
   "cell_type": "code",
   "execution_count": 188,
   "metadata": {
    "collapsed": false
   },
   "outputs": [
    {
     "data": {
      "text/plain": [
       "harrisonford        7\n",
       "leonardodicaprio    7\n",
       "robertdeniro        7\n",
       "tomhanks            6\n",
       "clinteastwood       6\n",
       "tomhardy            5\n",
       "markhamill          5\n",
       "bradpitt            4\n",
       "jamesstewart        4\n",
       "joepesci            4\n",
       "dtype: int64"
      ]
     },
     "execution_count": 188,
     "metadata": {},
     "output_type": "execute_result"
    }
   ],
   "source": [
    "top_actors"
   ]
  },
  {
   "cell_type": "code",
   "execution_count": 189,
   "metadata": {
    "collapsed": false
   },
   "outputs": [],
   "source": [
    "#create the TopActorCount column - meaning how many of the \"defined\" top actors are participating in that movie\n",
    "df_complete[\"TopActorCount\"] = top_actors_count.sum(axis=1)"
   ]
  },
  {
   "cell_type": "code",
   "execution_count": 191,
   "metadata": {
    "collapsed": false
   },
   "outputs": [
    {
     "name": "stdout",
     "output_type": "stream",
     "text": [
      "actors 250\n",
      "top_actors 10\n"
     ]
    }
   ],
   "source": [
    "print \"actors\", len(actors)\n",
    "print \"top_actors\", len(top_actors)\n"
   ]
  },
  {
   "cell_type": "code",
   "execution_count": 192,
   "metadata": {
    "collapsed": false
   },
   "outputs": [],
   "source": [
    "# apply the same logic that was used for actors to directors\n",
    "# Unique Directors\n",
    "\n",
    "df_complete[\"DirectorName2\"] = df_complete[\"Director\"].apply(lambda x: x.lower().replace(\" \",\"\"))\n",
    "Cvector.fit(df_complete[\"DirectorName2\"])\n",
    "Director2  = pd.DataFrame(Cvector.transform(df_complete[\"DirectorName2\"]).todense(),\n",
    "             columns=Cvector.get_feature_names())"
   ]
  },
  {
   "cell_type": "code",
   "execution_count": 193,
   "metadata": {
    "collapsed": false
   },
   "outputs": [],
   "source": [
    "#top 10 Directors\n",
    "top_Directors =Director2.sum(axis=0).sort_values(ascending=False)[:10]\n",
    "Cvector.fit(top_Directors.index)\n",
    "top_Directors_count  = pd.DataFrame(Cvector.transform(df_complete[\"DirectorName2\"]).todense(),\n",
    "             columns=Cvector.get_feature_names())\n",
    "\n"
   ]
  },
  {
   "cell_type": "code",
   "execution_count": 194,
   "metadata": {
    "collapsed": false
   },
   "outputs": [
    {
     "data": {
      "text/plain": [
       "christophernolan    7\n",
       "alfredhitchcock     7\n",
       "martinscorsese      7\n",
       "stanleykubrick      7\n",
       "stevenspielberg     7\n",
       "hayaomiyazaki       6\n",
       "quentintarantino    6\n",
       "charleschaplin      5\n",
       "sergioleone         5\n",
       "billywilder         5\n",
       "dtype: int64"
      ]
     },
     "execution_count": 194,
     "metadata": {},
     "output_type": "execute_result"
    }
   ],
   "source": [
    "#Directors\n",
    "top_Directors\n",
    "#top_Directors.index\n",
    "#Directors_count"
   ]
  },
  {
   "cell_type": "code",
   "execution_count": 195,
   "metadata": {
    "collapsed": true
   },
   "outputs": [],
   "source": [
    "#create the TopDirectorsCount column - meaning how many of the \"defined\" top directors are participating in that movie\n",
    "df_complete[\"TopDirectorsCount\"] = top_Directors_count.sum(axis=1)"
   ]
  },
  {
   "cell_type": "code",
   "execution_count": 196,
   "metadata": {
    "collapsed": false
   },
   "outputs": [],
   "source": [
    "#take the \"min\" put of the runtime column and convert it into an INT\n",
    "df_complete[\"Runtime\"] = df_complete[\"Runtime\"].apply(lambda x: x.replace(' min', '') if ' min' in x else x)\n",
    "df_complete[\"Runtime\"] = df_complete[\"Runtime\"].astype(int)"
   ]
  },
  {
   "cell_type": "code",
   "execution_count": 197,
   "metadata": {
    "collapsed": false
   },
   "outputs": [
    {
     "data": {
      "text/plain": [
       "0    142\n",
       "1    175\n",
       "2    202\n",
       "3    152\n",
       "4     96\n",
       "Name: Runtime, dtype: int64"
      ]
     },
     "execution_count": 197,
     "metadata": {},
     "output_type": "execute_result"
    }
   ],
   "source": [
    "#Check how runtime looks now - after conversion\n",
    "df_complete[\"Runtime\"].head()"
   ]
  },
  {
   "cell_type": "code",
   "execution_count": 198,
   "metadata": {
    "collapsed": false
   },
   "outputs": [
    {
     "data": {
      "text/plain": [
       "Actors               object\n",
       "Awards               object\n",
       "Country              object\n",
       "Director             object\n",
       "Genre                object\n",
       "Language             object\n",
       "Metascore            object\n",
       "Plot                 object\n",
       "Poster               object\n",
       "Rated                object\n",
       "Released             object\n",
       "Response             object\n",
       "Runtime               int64\n",
       "Title                object\n",
       "Type                 object\n",
       "Writer               object\n",
       "Year                 object\n",
       "imdbID               object\n",
       "imdbRating           object\n",
       "imdbVotes            object\n",
       "NumberOscar          object\n",
       "ActorNames           object\n",
       "TopActorCount         int64\n",
       "DirectorName2        object\n",
       "TopDirectorsCount     int64\n",
       "dtype: object"
      ]
     },
     "execution_count": 198,
     "metadata": {},
     "output_type": "execute_result"
    }
   ],
   "source": [
    "#check how the datatypes for the dataframe look so far\n",
    "df_complete.dtypes"
   ]
  },
  {
   "cell_type": "code",
   "execution_count": 200,
   "metadata": {
    "collapsed": false
   },
   "outputs": [
    {
     "name": "stdout",
     "output_type": "stream",
     "text": [
      "Actors               0\n",
      "Awards               0\n",
      "Country              0\n",
      "Director             0\n",
      "Genre                0\n",
      "Language             0\n",
      "Metascore            0\n",
      "Plot                 0\n",
      "Poster               0\n",
      "Rated                0\n",
      "Released             0\n",
      "Response             0\n",
      "Runtime              0\n",
      "Title                0\n",
      "Type                 0\n",
      "Writer               0\n",
      "Year                 0\n",
      "imdbID               0\n",
      "imdbRating           0\n",
      "imdbVotes            0\n",
      "NumberOscar          0\n",
      "ActorNames           0\n",
      "TopActorCount        0\n",
      "DirectorName2        0\n",
      "TopDirectorsCount    0\n",
      "dtype: int64\n"
     ]
    }
   ],
   "source": [
    "# Check missing values per column\n",
    "print np.sum(df_complete.isnull())"
   ]
  },
  {
   "cell_type": "code",
   "execution_count": 203,
   "metadata": {
    "collapsed": false
   },
   "outputs": [],
   "source": [
    "#Fix 'N/A' in Release date - there is one record with \"release = N/A\"\n",
    "df_complete.loc[df_complete[\"Released\"] == 'N/A', \"Released\"] = '01 Jan 1925'"
   ]
  },
  {
   "cell_type": "code",
   "execution_count": 202,
   "metadata": {
    "collapsed": false
   },
   "outputs": [
    {
     "data": {
      "text/html": [
       "<div>\n",
       "<table border=\"1\" class=\"dataframe\">\n",
       "  <thead>\n",
       "    <tr style=\"text-align: right;\">\n",
       "      <th></th>\n",
       "      <th>Actors</th>\n",
       "      <th>Awards</th>\n",
       "      <th>Country</th>\n",
       "      <th>Director</th>\n",
       "      <th>Genre</th>\n",
       "      <th>Language</th>\n",
       "      <th>Metascore</th>\n",
       "      <th>Plot</th>\n",
       "      <th>Poster</th>\n",
       "      <th>Rated</th>\n",
       "      <th>...</th>\n",
       "      <th>Writer</th>\n",
       "      <th>Year</th>\n",
       "      <th>imdbID</th>\n",
       "      <th>imdbRating</th>\n",
       "      <th>imdbVotes</th>\n",
       "      <th>NumberOscar</th>\n",
       "      <th>ActorNames</th>\n",
       "      <th>TopActorCount</th>\n",
       "      <th>DirectorName2</th>\n",
       "      <th>TopDirectorsCount</th>\n",
       "    </tr>\n",
       "  </thead>\n",
       "  <tbody>\n",
       "  </tbody>\n",
       "</table>\n",
       "<p>0 rows × 25 columns</p>\n",
       "</div>"
      ],
      "text/plain": [
       "Empty DataFrame\n",
       "Columns: [Actors, Awards, Country, Director, Genre, Language, Metascore, Plot, Poster, Rated, Released, Response, Runtime, Title, Type, Writer, Year, imdbID, imdbRating, imdbVotes, NumberOscar, ActorNames, TopActorCount, DirectorName2, TopDirectorsCount]\n",
       "Index: []\n",
       "\n",
       "[0 rows x 25 columns]"
      ]
     },
     "execution_count": 202,
     "metadata": {},
     "output_type": "execute_result"
    }
   ],
   "source": [
    "df_complete[df_complete[\"Released\"]== 'N/A']"
   ]
  },
  {
   "cell_type": "code",
   "execution_count": 204,
   "metadata": {
    "collapsed": false
   },
   "outputs": [],
   "source": [
    "# After replacing the 'N/A'  Convert \"Released\" to a date format\n",
    "from datetime import datetime, date\n",
    "df_complete[\"Released\"] = df_complete[\"Released\"].apply(lambda x: datetime.strptime(x,'%d %b %Y'))"
   ]
  },
  {
   "cell_type": "code",
   "execution_count": 205,
   "metadata": {
    "collapsed": true
   },
   "outputs": [],
   "source": [
    "# Convert NumberOscar to interger\n",
    "df_complete['NumberOscar'] = df_complete['NumberOscar'].astype(int)"
   ]
  },
  {
   "cell_type": "code",
   "execution_count": 206,
   "metadata": {
    "collapsed": false
   },
   "outputs": [],
   "source": [
    "# Convert imdbRating to float\n",
    "df_complete['imdbRating'] = df_complete['imdbRating'].astype(float)"
   ]
  },
  {
   "cell_type": "code",
   "execution_count": 207,
   "metadata": {
    "collapsed": false
   },
   "outputs": [],
   "source": [
    "# remove commas from imdbVotes and convert it to interger\n",
    "df_complete[\"imdbVotes\"] = df_complete[\"imdbVotes\"].apply(lambda x: x.replace(',', '') if ',' in x else x)\n",
    "df_complete[\"imdbVotes\"] = df_complete[\"imdbVotes\"].astype(int)"
   ]
  },
  {
   "cell_type": "code",
   "execution_count": 208,
   "metadata": {
    "collapsed": true
   },
   "outputs": [],
   "source": [
    "# Convert Year to interger\n",
    "df_complete[\"Year\"] = df_complete[\"Year\"].astype(int)"
   ]
  },
  {
   "cell_type": "code",
   "execution_count": 210,
   "metadata": {
    "collapsed": true
   },
   "outputs": [],
   "source": [
    "#Create Binary if the film is in English or in part in English\n",
    "df_complete[\"InEnglish\"] = df_complete[\"Language\"].apply(lambda x: \"English\" in x).astype(int)"
   ]
  },
  {
   "cell_type": "code",
   "execution_count": 211,
   "metadata": {
    "collapsed": true
   },
   "outputs": [],
   "source": [
    "#Create Binary if the film made in USA or Partially in USA\n",
    "df_complete[\"InUSA\"] = df_complete[\"Country\"].apply(lambda x: \"USA\" in x).astype(int)"
   ]
  },
  {
   "cell_type": "code",
   "execution_count": 115,
   "metadata": {
    "collapsed": false
   },
   "outputs": [],
   "source": [
    "#Just verifying unique values and that the binary columns were correctly created \n",
    "\n",
    "#df_complete[\"Language\"].unique()\n",
    "#df_complete[\"InEnglish\"].unique()\n",
    "#df_complete[\"Country\"].unique()\n",
    "#df_complete[\"InUSA\"].unique()"
   ]
  },
  {
   "cell_type": "code",
   "execution_count": 212,
   "metadata": {
    "collapsed": true
   },
   "outputs": [],
   "source": [
    "#Scale the year\n",
    "from sklearn.preprocessing import MinMaxScaler\n",
    "\n",
    "df_complete[\"scaled_year\"] = MinMaxScaler().fit_transform(df_complete['Year'].astype(float).reshape(-1, 1))\n",
    "\n"
   ]
  },
  {
   "cell_type": "markdown",
   "metadata": {},
   "source": [
    "### Exploring relationship between Runtime and Rating"
   ]
  },
  {
   "cell_type": "code",
   "execution_count": 213,
   "metadata": {
    "collapsed": false
   },
   "outputs": [
    {
     "data": {
      "text/plain": [
       "(array([ 7.8,  8. ,  8.2,  8.4,  8.6,  8.8,  9. ,  9.2,  9.4]),\n",
       " <a list of 9 Text yticklabel objects>)"
      ]
     },
     "execution_count": 213,
     "metadata": {},
     "output_type": "execute_result"
    },
    {
     "data": {
      "image/png": "[encoded data removed]",
      "text/plain": [
       "<matplotlib.figure.Figure at 0x11b265ad0>"
      ]
     },
     "metadata": {},
     "output_type": "display_data"
    }
   ],
   "source": [
    "# Runtime vs rating\n",
    "plt.figure(figsize = (10,8))\n",
    "plt.scatter(df_complete[\"Runtime\"],df_complete[\"imdbRating\"],s=45, c=\"Blue\")\n",
    "plt.title(\"Runtime vs Rating\", fontsize = 24)\n",
    "plt.xlabel(\"Runtime (mins)\", fontsize = 20)\n",
    "plt.ylabel(\"Rating\", fontsize = 20)\n",
    "plt.xticks(fontsize=16)\n",
    "plt.yticks(fontsize=16)"
   ]
  },
  {
   "cell_type": "markdown",
   "metadata": {},
   "source": [
    "### Exploring relationship between Number of Oscars and Rating"
   ]
  },
  {
   "cell_type": "code",
   "execution_count": 214,
   "metadata": {
    "collapsed": false
   },
   "outputs": [
    {
     "data": {
      "text/plain": [
       "(array([ 7.8,  8. ,  8.2,  8.4,  8.6,  8.8,  9. ,  9.2,  9.4]),\n",
       " <a list of 9 Text yticklabel objects>)"
      ]
     },
     "execution_count": 214,
     "metadata": {},
     "output_type": "execute_result"
    },
    {
     "data": {
      "image/png": "[encoded data removed]",
      "text/plain": [
       "<matplotlib.figure.Figure at 0x11ffbbbd0>"
      ]
     },
     "metadata": {},
     "output_type": "display_data"
    }
   ],
   "source": [
    "# Runtime vs rating\n",
    "plt.figure(figsize = (10,8))\n",
    "plt.scatter(df_complete[\"NumberOscar\"],df_complete[\"imdbRating\"],s=45, c=\"Blue\")\n",
    "plt.title(\"Rating vs Number of Oscars\", fontsize = 24)\n",
    "plt.xlabel(\"NumberOscar\", fontsize = 20)\n",
    "plt.ylabel(\"Rating\", fontsize = 20)\n",
    "plt.xticks(fontsize=16)\n",
    "plt.yticks(fontsize=16)"
   ]
  },
  {
   "cell_type": "code",
   "execution_count": 215,
   "metadata": {
    "collapsed": false
   },
   "outputs": [],
   "source": [
    "#Split the data for the GENRE types per movie \n",
    "df_complete[\"GenreNew\"]= df_complete[\"Genre\"].apply(lambda x: (str(x)).split(','))"
   ]
  },
  {
   "cell_type": "code",
   "execution_count": 216,
   "metadata": {
    "collapsed": false
   },
   "outputs": [],
   "source": [
    "#GET A UNIQUE LIST OF VALUES FOR GENRE\n",
    "genre = []\n",
    "for i  in (df_complete[\"GenreNew\"]):\n",
    "    for j in range(len(i)):\n",
    "        genre.append(i[j].strip())\n",
    "    \n",
    "genre = set(genre)\n"
   ]
  },
  {
   "cell_type": "code",
   "execution_count": 219,
   "metadata": {
    "collapsed": false
   },
   "outputs": [
    {
     "data": {
      "text/html": [
       "<div>\n",
       "<table border=\"1\" class=\"dataframe\">\n",
       "  <thead>\n",
       "    <tr style=\"text-align: right;\">\n",
       "      <th></th>\n",
       "      <th>Actors</th>\n",
       "      <th>Awards</th>\n",
       "      <th>Country</th>\n",
       "      <th>Director</th>\n",
       "      <th>Genre</th>\n",
       "      <th>Language</th>\n",
       "      <th>Metascore</th>\n",
       "      <th>Plot</th>\n",
       "      <th>Poster</th>\n",
       "      <th>Rated</th>\n",
       "      <th>...</th>\n",
       "      <th>imdbVotes</th>\n",
       "      <th>NumberOscar</th>\n",
       "      <th>ActorNames</th>\n",
       "      <th>TopActorCount</th>\n",
       "      <th>DirectorName2</th>\n",
       "      <th>TopDirectorsCount</th>\n",
       "      <th>InEnglish</th>\n",
       "      <th>InUSA</th>\n",
       "      <th>scaled_year</th>\n",
       "      <th>GenreNew</th>\n",
       "    </tr>\n",
       "  </thead>\n",
       "  <tbody>\n",
       "    <tr>\n",
       "      <th>0</th>\n",
       "      <td>Tim Robbins, Morgan Freeman, Bob Gunton, Willi...</td>\n",
       "      <td>Nominated for 7 Oscars. Another 18 wins &amp; 30 n...</td>\n",
       "      <td>USA</td>\n",
       "      <td>Frank Darabont</td>\n",
       "      <td>Crime, Drama</td>\n",
       "      <td>English</td>\n",
       "      <td>80</td>\n",
       "      <td>Chronicles the experiences of a formerly succe...</td>\n",
       "      <td>https://images-na.ssl-images-amazon.com/images...</td>\n",
       "      <td>R</td>\n",
       "      <td>...</td>\n",
       "      <td>1711064</td>\n",
       "      <td>0</td>\n",
       "      <td>timrobbins,morganfreeman,bobgunton,williamsadler</td>\n",
       "      <td>0</td>\n",
       "      <td>frankdarabont</td>\n",
       "      <td>0</td>\n",
       "      <td>1</td>\n",
       "      <td>1</td>\n",
       "      <td>0.768421</td>\n",
       "      <td>[Crime,  Drama]</td>\n",
       "    </tr>\n",
       "  </tbody>\n",
       "</table>\n",
       "<p>1 rows × 29 columns</p>\n",
       "</div>"
      ],
      "text/plain": [
       "                                              Actors  \\\n",
       "0  Tim Robbins, Morgan Freeman, Bob Gunton, Willi...   \n",
       "\n",
       "                                              Awards Country        Director  \\\n",
       "0  Nominated for 7 Oscars. Another 18 wins & 30 n...     USA  Frank Darabont   \n",
       "\n",
       "          Genre Language Metascore  \\\n",
       "0  Crime, Drama  English        80   \n",
       "\n",
       "                                                Plot  \\\n",
       "0  Chronicles the experiences of a formerly succe...   \n",
       "\n",
       "                                              Poster Rated       ...         \\\n",
       "0  https://images-na.ssl-images-amazon.com/images...     R       ...          \n",
       "\n",
       "  imdbVotes NumberOscar                                        ActorNames  \\\n",
       "0   1711064           0  timrobbins,morganfreeman,bobgunton,williamsadler   \n",
       "\n",
       "  TopActorCount  DirectorName2 TopDirectorsCount  InEnglish InUSA  \\\n",
       "0             0  frankdarabont                 0          1     1   \n",
       "\n",
       "   scaled_year         GenreNew  \n",
       "0     0.768421  [Crime,  Drama]  \n",
       "\n",
       "[1 rows x 29 columns]"
      ]
     },
     "execution_count": 219,
     "metadata": {},
     "output_type": "execute_result"
    }
   ],
   "source": [
    "df_complete.head(1)"
   ]
  },
  {
   "cell_type": "code",
   "execution_count": 220,
   "metadata": {
    "collapsed": false
   },
   "outputs": [
    {
     "data": {
      "text/plain": [
       "{'Action',\n",
       " 'Adventure',\n",
       " 'Animation',\n",
       " 'Biography',\n",
       " 'Comedy',\n",
       " 'Crime',\n",
       " 'Drama',\n",
       " 'Family',\n",
       " 'Fantasy',\n",
       " 'Film-Noir',\n",
       " 'History',\n",
       " 'Horror',\n",
       " 'Music',\n",
       " 'Musical',\n",
       " 'Mystery',\n",
       " 'Romance',\n",
       " 'Sci-Fi',\n",
       " 'Sport',\n",
       " 'Thriller',\n",
       " 'War',\n",
       " 'Western'}"
      ]
     },
     "execution_count": 220,
     "metadata": {},
     "output_type": "execute_result"
    }
   ],
   "source": [
    "genre"
   ]
  },
  {
   "cell_type": "code",
   "execution_count": 221,
   "metadata": {
    "collapsed": true
   },
   "outputs": [],
   "source": [
    "#Creating Binary columns for GENRE to explore if it influences rating or no\n",
    "for i in genre:\n",
    "    df_complete['genre_'+i] = df_complete['Genre'].map(lambda x: 1 if i in x else 0)"
   ]
  },
  {
   "cell_type": "code",
   "execution_count": 240,
   "metadata": {
    "collapsed": false
   },
   "outputs": [
    {
     "data": {
      "text/plain": [
       "array([ 9.3,  9.2,  9. ,  8.9,  8.8,  8.7,  8.6,  8.5,  8.4,  8.3,  8.2,\n",
       "        8.1,  8. ])"
      ]
     },
     "execution_count": 240,
     "metadata": {},
     "output_type": "execute_result"
    }
   ],
   "source": [
    "#Check unique values for \"imdbRating\"\n",
    "df_complete[\"imdbRating\"].unique()"
   ]
  },
  {
   "cell_type": "code",
   "execution_count": 252,
   "metadata": {
    "collapsed": false
   },
   "outputs": [
    {
     "data": {
      "text/plain": [
       "Actors                       object\n",
       "Awards                       object\n",
       "Country                      object\n",
       "Director                     object\n",
       "Genre                        object\n",
       "Language                     object\n",
       "Metascore                    object\n",
       "Plot                         object\n",
       "Poster                       object\n",
       "Rated                        object\n",
       "Released             datetime64[ns]\n",
       "Response                     object\n",
       "Runtime                       int64\n",
       "Title                        object\n",
       "Type                         object\n",
       "Writer                       object\n",
       "Year                          int64\n",
       "imdbID                       object\n",
       "imdbRating                  float64\n",
       "imdbVotes                     int64\n",
       "NumberOscar                   int64\n",
       "ActorNames                   object\n",
       "TopActorCount                 int64\n",
       "DirectorName2                object\n",
       "TopDirectorsCount             int64\n",
       "InEnglish                     int64\n",
       "InUSA                         int64\n",
       "scaled_year                 float64\n",
       "GenreNew                     object\n",
       "genre_Mystery                 int64\n",
       "genre_Romance                 int64\n",
       "genre_Sport                   int64\n",
       "genre_Sci-Fi                  int64\n",
       "genre_Family                  int64\n",
       "genre_Horror                  int64\n",
       "genre_Thriller                int64\n",
       "genre_Film-Noir               int64\n",
       "genre_Crime                   int64\n",
       "genre_Drama                   int64\n",
       "genre_Fantasy                 int64\n",
       "genre_Musical                 int64\n",
       "genre_Animation               int64\n",
       "genre_War                     int64\n",
       "genre_Adventure               int64\n",
       "genre_Action                  int64\n",
       "genre_Music                   int64\n",
       "genre_Comedy                  int64\n",
       "genre_Western                 int64\n",
       "genre_Biography               int64\n",
       "genre_History                 int64\n",
       "RateCategory                 object\n",
       "dtype: object"
      ]
     },
     "execution_count": 252,
     "metadata": {},
     "output_type": "execute_result"
    }
   ],
   "source": [
    "df_complete.dtypes"
   ]
  },
  {
   "cell_type": "code",
   "execution_count": 247,
   "metadata": {
    "collapsed": true
   },
   "outputs": [],
   "source": [
    "#Cretated a function to assign categorical value for \"imdbRating\" - To create a pairplot and study the possibility of a classified model\n",
    "Top =  [9.3, 9.2, 9.0]\n",
    "VeryHigh = [8.9, 8.8, 8.7, 8.6, 8.5]\n",
    "High =  [8.4, 8.3, 8.2, 8.1, 8.0]\n",
    "\n",
    "def rate_category(x):\n",
    "    if x in Top:\n",
    "        return \"Top\"\n",
    "    elif x in VeryHigh:\n",
    "        return \"VeryHigh\"\n",
    "    elif x in High:\n",
    "        return \"High\""
   ]
  },
  {
   "cell_type": "code",
   "execution_count": 248,
   "metadata": {
    "collapsed": false
   },
   "outputs": [],
   "source": [
    "#Cretated a categorical column for \"imdbRating\"  base on rate_category fiunction created\n",
    "df_complete['RateCategory'] = df_complete['imdbRating'].apply(rate_category)"
   ]
  },
  {
   "cell_type": "code",
   "execution_count": 250,
   "metadata": {
    "collapsed": false
   },
   "outputs": [
    {
     "data": {
      "text/plain": [
       "array(['Top', 'VeryHigh', 'High'], dtype=object)"
      ]
     },
     "execution_count": 250,
     "metadata": {},
     "output_type": "execute_result"
    }
   ],
   "source": [
    "#Verifying the rate classification was done correctly\n",
    "df_complete['RateCategory'].unique()"
   ]
  },
  {
   "cell_type": "markdown",
   "metadata": {},
   "source": [
    "### Exploring correlations thru a heatmap"
   ]
  },
  {
   "cell_type": "code",
   "execution_count": 253,
   "metadata": {
    "collapsed": false
   },
   "outputs": [
    {
     "data": {
      "image/png": "[encoded data removed]",
      "text/plain": [
       "<matplotlib.figure.Figure at 0x11fc1add0>"
      ]
     },
     "metadata": {},
     "output_type": "display_data"
    }
   ],
   "source": [
    "#CHECK CORRELATIONS\n",
    "sns.heatmap(df_complete[['Actors', 'Awards', 'Country', 'Director', 'Genre',\n",
    "                 'Language', 'Metascore', 'Plot', 'Poster', 'Rated', 'Released', 'Response',\n",
    "                 'Runtime', 'Title', 'Type', 'Writer', 'Year', 'imdbID',\n",
    "                 'imdbRating', 'NumberOscar','TopActorCount', 'TopDirectorsCount', 'InEnglish', 'InUSA', \"scaled_year\"  ]].corr());\n",
    "\n"
   ]
  },
  {
   "cell_type": "markdown",
   "metadata": {},
   "source": [
    "### Observations on heatmap above\n",
    "The most correlated values are:\n",
    "\"Runtime\", NumberOscar, Topactorscount, TopDirectorsCount and InUSA"
   ]
  },
  {
   "cell_type": "markdown",
   "metadata": {},
   "source": [
    "### Now let's check if GENRE has some correlation and which specific ones\n"
   ]
  },
  {
   "cell_type": "code",
   "execution_count": 257,
   "metadata": {
    "collapsed": false
   },
   "outputs": [
    {
     "data": {
      "image/png": "[encoded data removed]",
      "text/plain": [
       "<matplotlib.figure.Figure at 0x1221ac0d0>"
      ]
     },
     "metadata": {},
     "output_type": "display_data"
    }
   ],
   "source": [
    "#Correlation with GENRE and RATING\n",
    "sns.heatmap(df_complete[[ 'genre_Mystery','genre_Romance', 'genre_Sport','genre_Sci-Fi','genre_Family',  'genre_Horror', 'genre_Thriller',\n",
    "'genre_Film-Noir',  'genre_Crime',  'genre_Drama','genre_Fantasy', 'genre_Musical', 'genre_Animation',\n",
    "'genre_War','genre_Adventure',  'genre_Action','genre_Music',  'genre_Comedy', 'genre_Western','genre_Biography', \n",
    "'genre_History', 'imdbRating' ]].corr());"
   ]
  },
  {
   "cell_type": "markdown",
   "metadata": {},
   "source": [
    "####  We can observe in above heat map that the most correlated genre(s) are:\n",
    "'genre_Crime',  'genre_Drama', 'genre_Action',and 'genre_Western'\n",
    "\n",
    "####   A closer look below:\n"
   ]
  },
  {
   "cell_type": "code",
   "execution_count": 258,
   "metadata": {
    "collapsed": false
   },
   "outputs": [
    {
     "data": {
      "image/png": "[encoded data removed]",
      "text/plain": [
       "<matplotlib.figure.Figure at 0x12245b090>"
      ]
     },
     "metadata": {},
     "output_type": "display_data"
    }
   ],
   "source": [
    "#TAKE A CLOSER LOOK The most correlated GENRE and RATING\n",
    "sns.heatmap(df_complete[['genre_Crime',  'genre_Drama', 'genre_Action','genre_Western', 'imdbRating' ]].corr());"
   ]
  },
  {
   "cell_type": "markdown",
   "metadata": {},
   "source": [
    "#### A look of the variables relationship with our categorical target \"RateCategory\" using pairplot\n"
   ]
  },
  {
   "cell_type": "code",
   "execution_count": 259,
   "metadata": {
    "collapsed": false
   },
   "outputs": [
    {
     "data": {
      "text/plain": [
       "<seaborn.axisgrid.PairGrid at 0x122309390>"
      ]
     },
     "execution_count": 259,
     "metadata": {},
     "output_type": "execute_result"
    },
    {
     "data": {
      "image/png": "[encoded data removed]",
      "text/plain": [
       "<matplotlib.figure.Figure at 0x1222ff450>"
      ]
     },
     "metadata": {},
     "output_type": "display_data"
    }
   ],
   "source": [
    "var_list = ['RateCategory', 'NumberOscar','TopActorCount', 'TopDirectorsCount', 'InUSA', 'Runtime', 'genre_Crime',  'genre_Drama', 'genre_Action','genre_Western']\n",
    "sns.set(style=\"ticks\", color_codes=True)\n",
    "sns.pairplot(data=df_complete[var_list], hue=\"RateCategory\", dropna=True) "
   ]
  },
  {
   "cell_type": "code",
   "execution_count": 261,
   "metadata": {
    "collapsed": false
   },
   "outputs": [
    {
     "data": {
      "text/plain": [
       "RateCategory         object\n",
       "NumberOscar           int64\n",
       "TopActorCount         int64\n",
       "TopDirectorsCount     int64\n",
       "InUSA                 int64\n",
       "Runtime               int64\n",
       "genre_Crime           int64\n",
       "genre_Drama           int64\n",
       "genre_Action          int64\n",
       "genre_Western         int64\n",
       "dtype: object"
      ]
     },
     "execution_count": 261,
     "metadata": {},
     "output_type": "execute_result"
    }
   ],
   "source": [
    "df_complete[var_list].dtypes"
   ]
  },
  {
   "cell_type": "markdown",
   "metadata": {},
   "source": [
    "## Modeling "
   ]
  },
  {
   "cell_type": "code",
   "execution_count": 319,
   "metadata": {
    "collapsed": true
   },
   "outputs": [],
   "source": [
    "#define features\n",
    "features = ['NumberOscar','TopActorCount', 'TopDirectorsCount', 'InUSA', 'Runtime', 'genre_Crime',  'genre_Drama', 'genre_Action','genre_Western']"
   ]
  },
  {
   "cell_type": "code",
   "execution_count": 320,
   "metadata": {
    "collapsed": true
   },
   "outputs": [],
   "source": [
    "y = df_complete[\"imdbRating\"]\n",
    "X = df_complete[features]"
   ]
  },
  {
   "cell_type": "code",
   "execution_count": 321,
   "metadata": {
    "collapsed": false
   },
   "outputs": [
    {
     "data": {
      "text/html": [
       "<div>\n",
       "<table border=\"1\" class=\"dataframe\">\n",
       "  <thead>\n",
       "    <tr style=\"text-align: right;\">\n",
       "      <th></th>\n",
       "      <th>NumberOscar</th>\n",
       "      <th>TopActorCount</th>\n",
       "      <th>TopDirectorsCount</th>\n",
       "      <th>InUSA</th>\n",
       "      <th>Runtime</th>\n",
       "      <th>genre_Crime</th>\n",
       "      <th>genre_Drama</th>\n",
       "      <th>genre_Action</th>\n",
       "      <th>genre_Western</th>\n",
       "    </tr>\n",
       "  </thead>\n",
       "  <tbody>\n",
       "    <tr>\n",
       "      <th>0</th>\n",
       "      <td>0</td>\n",
       "      <td>0</td>\n",
       "      <td>0</td>\n",
       "      <td>1</td>\n",
       "      <td>142</td>\n",
       "      <td>1</td>\n",
       "      <td>1</td>\n",
       "      <td>0</td>\n",
       "      <td>0</td>\n",
       "    </tr>\n",
       "    <tr>\n",
       "      <th>1</th>\n",
       "      <td>3</td>\n",
       "      <td>0</td>\n",
       "      <td>0</td>\n",
       "      <td>1</td>\n",
       "      <td>175</td>\n",
       "      <td>1</td>\n",
       "      <td>1</td>\n",
       "      <td>0</td>\n",
       "      <td>0</td>\n",
       "    </tr>\n",
       "    <tr>\n",
       "      <th>2</th>\n",
       "      <td>6</td>\n",
       "      <td>1</td>\n",
       "      <td>0</td>\n",
       "      <td>1</td>\n",
       "      <td>202</td>\n",
       "      <td>1</td>\n",
       "      <td>1</td>\n",
       "      <td>0</td>\n",
       "      <td>0</td>\n",
       "    </tr>\n",
       "    <tr>\n",
       "      <th>3</th>\n",
       "      <td>2</td>\n",
       "      <td>0</td>\n",
       "      <td>1</td>\n",
       "      <td>1</td>\n",
       "      <td>152</td>\n",
       "      <td>1</td>\n",
       "      <td>1</td>\n",
       "      <td>1</td>\n",
       "      <td>0</td>\n",
       "    </tr>\n",
       "    <tr>\n",
       "      <th>4</th>\n",
       "      <td>0</td>\n",
       "      <td>0</td>\n",
       "      <td>0</td>\n",
       "      <td>1</td>\n",
       "      <td>96</td>\n",
       "      <td>1</td>\n",
       "      <td>1</td>\n",
       "      <td>0</td>\n",
       "      <td>0</td>\n",
       "    </tr>\n",
       "  </tbody>\n",
       "</table>\n",
       "</div>"
      ],
      "text/plain": [
       "   NumberOscar  TopActorCount  TopDirectorsCount  InUSA  Runtime  genre_Crime  \\\n",
       "0            0              0                  0      1      142            1   \n",
       "1            3              0                  0      1      175            1   \n",
       "2            6              1                  0      1      202            1   \n",
       "3            2              0                  1      1      152            1   \n",
       "4            0              0                  0      1       96            1   \n",
       "\n",
       "   genre_Drama  genre_Action  genre_Western  \n",
       "0            1             0              0  \n",
       "1            1             0              0  \n",
       "2            1             0              0  \n",
       "3            1             1              0  \n",
       "4            1             0              0  "
      ]
     },
     "execution_count": 321,
     "metadata": {},
     "output_type": "execute_result"
    }
   ],
   "source": [
    "X.head()"
   ]
  },
  {
   "cell_type": "code",
   "execution_count": 322,
   "metadata": {
    "collapsed": false
   },
   "outputs": [
    {
     "name": "stdout",
     "output_type": "stream",
     "text": [
      "min 8.0\n",
      "max 9.3\n"
     ]
    }
   ],
   "source": [
    "print \"min\", y.min()\n",
    "print \"max\", y.max()"
   ]
  },
  {
   "cell_type": "code",
   "execution_count": 328,
   "metadata": {
    "collapsed": true
   },
   "outputs": [],
   "source": [
    "#define do_cross_val function\n",
    "def do_cross_val(model, cv):\n",
    "    scores = cross_val_score(model, X, y, cv=cv, n_jobs=-1, scoring='r2')\n",
    "    return scores.mean(), scores.std()"
   ]
  },
  {
   "cell_type": "code",
   "execution_count": 329,
   "metadata": {
    "collapsed": false
   },
   "outputs": [
    {
     "data": {
      "text/plain": [
       "250"
      ]
     },
     "execution_count": 329,
     "metadata": {},
     "output_type": "execute_result"
    }
   ],
   "source": [
    "len(y)"
   ]
  },
  {
   "cell_type": "code",
   "execution_count": 330,
   "metadata": {
    "collapsed": false
   },
   "outputs": [
    {
     "name": "stdout",
     "output_type": "stream",
     "text": [
      "sklearn.cross_validation.KFold(n=250, n_folds=3, shuffle=True, random_state=None)\n"
     ]
    }
   ],
   "source": [
    "cv = KFold(len(y), shuffle=True)\n",
    "all_models = {}  # Dictionary created for model comparison\n",
    "print cv"
   ]
  },
  {
   "cell_type": "code",
   "execution_count": 374,
   "metadata": {
    "collapsed": false
   },
   "outputs": [
    {
     "data": {
      "text/plain": [
       "array([-0.74194561, -0.86417355, -1.18631362])"
      ]
     },
     "execution_count": 374,
     "metadata": {},
     "output_type": "execute_result"
    }
   ],
   "source": [
    "#Tree-based models (use any combination of ensemble techniques: random forests, bagging, boosting).\n",
    "\n",
    "dtr = DecisionTreeRegressor()\n",
    "scores = cross_val_score(dtr, X, y, cv=cv, n_jobs=-1, scoring='r2')\n",
    "scores"
   ]
  },
  {
   "cell_type": "code",
   "execution_count": 377,
   "metadata": {
    "collapsed": false
   },
   "outputs": [],
   "source": [
    "def do_plot(model, m=None):\n",
    "    for fold, color in zip(cv, ['r', 'g', 'b']):\n",
    "        X_train = X.iloc[fold[0]]\n",
    "        X_test  = X.iloc[fold[1]]\n",
    "        y_train = y.iloc[fold[0]]\n",
    "        y_test  = y.iloc[fold[1]]\n",
    "        model.fit(X_train, y_train)\n",
    "        y_pred = model.predict(X_test)\n",
    "        \n",
    "        plt.scatter(y_test, y_pred, color=color)\n",
    "        plt.plot([8.0,9.5],[8.0,9.5])\n",
    "        plt.text(9,9.5, \"R2: \"+str(m) , fontsize=20, )\n",
    "        plt.title(str(model).rpartition('(')[0], fontsize = 24)\n",
    "        "
   ]
  },
  {
   "cell_type": "code",
   "execution_count": 379,
   "metadata": {
    "collapsed": false
   },
   "outputs": [
    {
     "data": {
      "image/png": "[encoded data removed]",
      "text/plain": [
       "<matplotlib.figure.Figure at 0x12caedad0>"
      ]
     },
     "metadata": {},
     "output_type": "display_data"
    }
   ],
   "source": [
    "do_plot(dtr, scores.mean().round(2))"
   ]
  },
  {
   "cell_type": "code",
   "execution_count": 380,
   "metadata": {
    "collapsed": false
   },
   "outputs": [
    {
     "name": "stdout",
     "output_type": "stream",
     "text": [
      "0.03578\n"
     ]
    }
   ],
   "source": [
    "y_pred = dtr.predict(X)\n",
    "mse = mean_squared_error(y, y_pred)\n",
    "print mse\n",
    "all_models['dtr'] = {'model': 'DecisionTree',\n",
    "                     'R2': scores.mean().round(2),\n",
    "                     'MSE': mse.round(5)}"
   ]
  },
  {
   "cell_type": "code",
   "execution_count": 382,
   "metadata": {
    "collapsed": false
   },
   "outputs": [
    {
     "data": {
      "text/plain": [
       "array([-0.11311227, -0.09140709,  0.00597985])"
      ]
     },
     "execution_count": 382,
     "metadata": {},
     "output_type": "execute_result"
    }
   ],
   "source": [
    "bdtr = BaggingRegressor(DecisionTreeRegressor())\n",
    "scores = cross_val_score(bdtr, X, y, cv=cv, n_jobs=-1, scoring='r2')\n",
    "scores\n"
   ]
  },
  {
   "cell_type": "code",
   "execution_count": 383,
   "metadata": {
    "collapsed": false
   },
   "outputs": [
    {
     "data": {
      "image/png": "[encoded data removed]",
      "text/plain": [
       "<matplotlib.figure.Figure at 0x124b6fdd0>"
      ]
     },
     "metadata": {},
     "output_type": "display_data"
    }
   ],
   "source": [
    "do_plot(bdtr, scores.mean().round(2))"
   ]
  },
  {
   "cell_type": "code",
   "execution_count": 384,
   "metadata": {
    "collapsed": false
   },
   "outputs": [
    {
     "name": "stdout",
     "output_type": "stream",
     "text": [
      "0.025297327\n"
     ]
    }
   ],
   "source": [
    "y_pred = bdtr.predict(X)\n",
    "mse = mean_squared_error(y, y_pred)\n",
    "print mse\n",
    "all_models['bdtr'] = {'model': 'BaggingDecisionTree',\n",
    "                     'R2': scores.mean().round(2),\n",
    "                     'MSE': mse.round(5)}"
   ]
  },
  {
   "cell_type": "markdown",
   "metadata": {},
   "source": [
    "####  Running Gridsearch to see we can optimizethe dession tree regressor\n"
   ]
  },
  {
   "cell_type": "code",
   "execution_count": 385,
   "metadata": {
    "collapsed": true
   },
   "outputs": [],
   "source": [
    "params = {\"splitter\": ['best', 'random'],\n",
    "          \"max_depth\": [3,5,10,20],\n",
    "          \"max_features\": [None, \"auto\"],\n",
    "          \"min_samples_leaf\": [1, 3, 5, 7, 10],\n",
    "          \"min_samples_split\": [2, 5, 7]\n",
    "         }\n",
    "    \n",
    "\n",
    "gsdtr = GridSearchCV(dtr, params, n_jobs=-1, cv=cv)"
   ]
  },
  {
   "cell_type": "code",
   "execution_count": 386,
   "metadata": {
    "collapsed": false
   },
   "outputs": [
    {
     "data": {
      "text/plain": [
       "GridSearchCV(cv=sklearn.cross_validation.KFold(n=250, n_folds=3, shuffle=True, random_state=None),\n",
       "       error_score='raise',\n",
       "       estimator=DecisionTreeRegressor(criterion='mse', max_depth=None, max_features=None,\n",
       "           max_leaf_nodes=None, min_samples_leaf=1, min_samples_split=2,\n",
       "           min_weight_fraction_leaf=0.0, presort=False, random_state=None,\n",
       "           splitter='best'),\n",
       "       fit_params={}, iid=True, n_jobs=-1,\n",
       "       param_grid={'max_features': [None, 'auto'], 'splitter': ['best', 'random'], 'min_samples_split': [2, 5, 7], 'max_depth': [3, 5, 10, 20], 'min_samples_leaf': [1, 3, 5, 7, 10]},\n",
       "       pre_dispatch='2*n_jobs', refit=True, scoring=None, verbose=0)"
      ]
     },
     "execution_count": 386,
     "metadata": {},
     "output_type": "execute_result"
    }
   ],
   "source": [
    "gsdtr.fit(X, y)"
   ]
  },
  {
   "cell_type": "code",
   "execution_count": 387,
   "metadata": {
    "collapsed": false
   },
   "outputs": [
    {
     "data": {
      "text/plain": [
       "{'max_depth': 20,\n",
       " 'max_features': 'auto',\n",
       " 'min_samples_leaf': 7,\n",
       " 'min_samples_split': 2,\n",
       " 'splitter': 'random'}"
      ]
     },
     "execution_count": 387,
     "metadata": {},
     "output_type": "execute_result"
    }
   ],
   "source": [
    "gsdtr.best_params_"
   ]
  },
  {
   "cell_type": "code",
   "execution_count": 388,
   "metadata": {
    "collapsed": false
   },
   "outputs": [
    {
     "data": {
      "text/plain": [
       "0.030910078467503412"
      ]
     },
     "execution_count": 388,
     "metadata": {},
     "output_type": "execute_result"
    }
   ],
   "source": [
    "gsdtr.best_score_"
   ]
  },
  {
   "cell_type": "code",
   "execution_count": 389,
   "metadata": {
    "collapsed": false
   },
   "outputs": [
    {
     "data": {
      "text/plain": [
       "DecisionTreeRegressor(criterion='mse', max_depth=20, max_features='auto',\n",
       "           max_leaf_nodes=None, min_samples_leaf=7, min_samples_split=2,\n",
       "           min_weight_fraction_leaf=0.0, presort=False, random_state=None,\n",
       "           splitter='random')"
      ]
     },
     "execution_count": 389,
     "metadata": {},
     "output_type": "execute_result"
    }
   ],
   "source": [
    "gsdtr.best_estimator_"
   ]
  },
  {
   "cell_type": "code",
   "execution_count": 390,
   "metadata": {
    "collapsed": false
   },
   "outputs": [
    {
     "data": {
      "text/plain": [
       "array([-0.11982915, -0.04969635, -0.01301632])"
      ]
     },
     "execution_count": 390,
     "metadata": {},
     "output_type": "execute_result"
    }
   ],
   "source": [
    "from sklearn.ensemble import RandomForestRegressor\n",
    "\n",
    "\n",
    "rfr = RandomForestRegressor()\n",
    "\n",
    "scores = cross_val_score(rfr, X, y, cv=cv, n_jobs=-1, scoring='r2')\n",
    "scores"
   ]
  },
  {
   "cell_type": "code",
   "execution_count": 391,
   "metadata": {
    "collapsed": false
   },
   "outputs": [
    {
     "data": {
      "image/png": "[encoded data removed]",
      "text/plain": [
       "<matplotlib.figure.Figure at 0x12a563310>"
      ]
     },
     "metadata": {},
     "output_type": "display_data"
    }
   ],
   "source": [
    "do_plot(rfr, scores.mean().round(2))"
   ]
  },
  {
   "cell_type": "code",
   "execution_count": 392,
   "metadata": {
    "collapsed": true
   },
   "outputs": [],
   "source": [
    "y_pred = rfr.predict(X)"
   ]
  },
  {
   "cell_type": "code",
   "execution_count": 393,
   "metadata": {
    "collapsed": false
   },
   "outputs": [],
   "source": [
    "see_results = pd.DataFrame([df_complete[\"imdbRating\"], y_pred], index=[\"actual\", \"predicted\"]).T"
   ]
  },
  {
   "cell_type": "code",
   "execution_count": 394,
   "metadata": {
    "collapsed": false
   },
   "outputs": [
    {
     "data": {
      "text/plain": [
       "0.59442365950669829"
      ]
     },
     "execution_count": 394,
     "metadata": {},
     "output_type": "execute_result"
    }
   ],
   "source": [
    "rfr.score(X,y)"
   ]
  },
  {
   "cell_type": "code",
   "execution_count": 395,
   "metadata": {
    "collapsed": false
   },
   "outputs": [
    {
     "data": {
      "text/plain": [
       "0.021668094444444477"
      ]
     },
     "execution_count": 395,
     "metadata": {},
     "output_type": "execute_result"
    }
   ],
   "source": [
    "mse = mean_squared_error(y, y_pred)\n",
    "mse"
   ]
  },
  {
   "cell_type": "code",
   "execution_count": 396,
   "metadata": {
    "collapsed": false
   },
   "outputs": [],
   "source": [
    "all_models['rfr'] = {'model': 'RandomForest',\n",
    "                     'R2': scores.mean().round(2),\n",
    "                     'MSE': mse.round(5)}"
   ]
  },
  {
   "cell_type": "code",
   "execution_count": 300,
   "metadata": {
    "collapsed": false
   },
   "outputs": [],
   "source": [
    "#see_results "
   ]
  },
  {
   "cell_type": "code",
   "execution_count": 301,
   "metadata": {
    "collapsed": false
   },
   "outputs": [],
   "source": [
    "#y_pred"
   ]
  },
  {
   "cell_type": "code",
   "execution_count": 397,
   "metadata": {
    "collapsed": false
   },
   "outputs": [
    {
     "data": {
      "text/plain": [
       "array([ 0.0136166 , -0.03415262,  0.09488526])"
      ]
     },
     "execution_count": 397,
     "metadata": {},
     "output_type": "execute_result"
    }
   ],
   "source": [
    "from sklearn.ensemble import AdaBoostRegressor\n",
    "\n",
    "\n",
    "abr = AdaBoostRegressor()\n",
    "\n",
    "scores =cross_val_score(abr, X, y, cv=cv, n_jobs=-1, scoring='r2')\n",
    "scores"
   ]
  },
  {
   "cell_type": "code",
   "execution_count": 398,
   "metadata": {
    "collapsed": false
   },
   "outputs": [
    {
     "data": {
      "image/png": "[encoded data removed]",
      "text/plain": [
       "<matplotlib.figure.Figure at 0x12c6cf850>"
      ]
     },
     "metadata": {},
     "output_type": "display_data"
    }
   ],
   "source": [
    "do_plot(abr, scores.mean().round(2))"
   ]
  },
  {
   "cell_type": "code",
   "execution_count": 399,
   "metadata": {
    "collapsed": false
   },
   "outputs": [
    {
     "name": "stdout",
     "output_type": "stream",
     "text": [
      "0.0392085476153\n"
     ]
    }
   ],
   "source": [
    "y_pred = abr.predict(X)\n",
    "mse = mean_squared_error(y, y_pred)\n",
    "print mse\n",
    "all_models['abr'] = {'model': 'AdaBoost',\n",
    "                     'R2': scores.mean().round(2),\n",
    "                     'MSE': mse.round(5)}"
   ]
  },
  {
   "cell_type": "code",
   "execution_count": 400,
   "metadata": {
    "collapsed": false
   },
   "outputs": [
    {
     "data": {
      "text/plain": [
       "array([-0.26474912, -0.1276763 ,  0.14583429])"
      ]
     },
     "execution_count": 400,
     "metadata": {},
     "output_type": "execute_result"
    }
   ],
   "source": [
    "from sklearn.ensemble import GradientBoostingRegressor\n",
    "\n",
    "\n",
    "gbr = GradientBoostingRegressor()\n",
    "\n",
    "scores = cross_val_score(gbr, X, y, cv=cv, n_jobs=-1, scoring='r2')\n",
    "scores"
   ]
  },
  {
   "cell_type": "code",
   "execution_count": 401,
   "metadata": {
    "collapsed": false
   },
   "outputs": [
    {
     "data": {
      "image/png": "[encoded data removed]",
      "text/plain": [
       "<matplotlib.figure.Figure at 0x126c9cf10>"
      ]
     },
     "metadata": {},
     "output_type": "display_data"
    }
   ],
   "source": [
    "do_plot(gbr, scores.mean().round(2))"
   ]
  },
  {
   "cell_type": "code",
   "execution_count": 402,
   "metadata": {
    "collapsed": false
   },
   "outputs": [
    {
     "name": "stdout",
     "output_type": "stream",
     "text": [
      "0.0249572442858\n"
     ]
    }
   ],
   "source": [
    "y_pred = gbr.predict(X)\n",
    "mse = mean_squared_error(y, y_pred)\n",
    "print mse\n",
    "all_models['gbr'] = {'model': 'GradientBoost',\n",
    "                     'R2': scores.mean().round(2),\n",
    "                     'MSE': mse.round(5)}"
   ]
  },
  {
   "cell_type": "code",
   "execution_count": 408,
   "metadata": {
    "collapsed": false
   },
   "outputs": [
    {
     "data": {
      "text/html": [
       "<div>\n",
       "<table border=\"1\" class=\"dataframe\">\n",
       "  <thead>\n",
       "    <tr style=\"text-align: right;\">\n",
       "      <th></th>\n",
       "      <th>R2</th>\n",
       "      <th>MSE</th>\n",
       "    </tr>\n",
       "    <tr>\n",
       "      <th>model</th>\n",
       "      <th></th>\n",
       "      <th></th>\n",
       "    </tr>\n",
       "  </thead>\n",
       "  <tbody>\n",
       "    <tr>\n",
       "      <th>AdaBoost</th>\n",
       "      <td>0.02</td>\n",
       "      <td>0.03921</td>\n",
       "    </tr>\n",
       "    <tr>\n",
       "      <th>RandomForest</th>\n",
       "      <td>-0.06</td>\n",
       "      <td>0.02167</td>\n",
       "    </tr>\n",
       "    <tr>\n",
       "      <th>BaggingDecisionTree</th>\n",
       "      <td>-0.07</td>\n",
       "      <td>0.02530</td>\n",
       "    </tr>\n",
       "    <tr>\n",
       "      <th>GradientBoost</th>\n",
       "      <td>-0.08</td>\n",
       "      <td>0.02496</td>\n",
       "    </tr>\n",
       "    <tr>\n",
       "      <th>DecisionTree</th>\n",
       "      <td>-0.93</td>\n",
       "      <td>0.03578</td>\n",
       "    </tr>\n",
       "  </tbody>\n",
       "</table>\n",
       "</div>"
      ],
      "text/plain": [
       "                       R2      MSE\n",
       "model                             \n",
       "AdaBoost             0.02  0.03921\n",
       "RandomForest        -0.06  0.02167\n",
       "BaggingDecisionTree -0.07  0.02530\n",
       "GradientBoost       -0.08  0.02496\n",
       "DecisionTree        -0.93  0.03578"
      ]
     },
     "execution_count": 408,
     "metadata": {},
     "output_type": "execute_result"
    },
    {
     "data": {
      "image/png": "[encoded data removed]",
      "text/plain": [
       "<matplotlib.figure.Figure at 0x12100c890>"
      ]
     },
     "metadata": {},
     "output_type": "display_data"
    }
   ],
   "source": [
    "R2scores = pd.DataFrame([(v['model'], v['R2'], v['MSE']) for k, v in all_models.iteritems()],\n",
    "             columns=['model', 'R2', 'MSE']).set_index('model').sort_values('R2', ascending=False)\n",
    "\n",
    "\n",
    "R2scores['R2'].plot(kind='bar')\n",
    "plt.ylim(-1, 1.1)\n",
    "plt.title(\"R2 model comparision\", fontsize = 24)\n",
    "\n",
    "\n",
    "R2scores"
   ]
  },
  {
   "cell_type": "code",
   "execution_count": 409,
   "metadata": {
    "collapsed": false
   },
   "outputs": [
    {
     "data": {
      "text/plain": [
       "<matplotlib.text.Text at 0x12abe6150>"
      ]
     },
     "execution_count": 409,
     "metadata": {},
     "output_type": "execute_result"
    },
    {
     "data": {
      "image/png": "[encoded data removed]",
      "text/plain": [
       "<matplotlib.figure.Figure at 0x128960cd0>"
      ]
     },
     "metadata": {},
     "output_type": "display_data"
    }
   ],
   "source": [
    "\n",
    "R2scores = R2scores.sort_values('MSE', ascending=False)\n",
    "R2scores['MSE'].plot(kind='bar')\n",
    "plt.ylim(-0.01, 0.05)\n",
    "plt.title(\"MSE model comparision\", fontsize = 24)"
   ]
  },
  {
   "cell_type": "code",
   "execution_count": 404,
   "metadata": {
    "collapsed": false
   },
   "outputs": [
    {
     "data": {
      "text/plain": [
       "<matplotlib.text.Text at 0x12cd822d0>"
      ]
     },
     "execution_count": 404,
     "metadata": {},
     "output_type": "execute_result"
    },
    {
     "data": {
      "image/png": "[encoded data removed]",
      "text/plain": [
       "<matplotlib.figure.Figure at 0x1284f2b50>"
      ]
     },
     "metadata": {},
     "output_type": "display_data"
    }
   ],
   "source": [
    "feature = pd.DataFrame([X.columns, rfr.feature_importances_] ).transpose()\n",
    "feature.columns=['Feature', 'Importance']\n",
    "feature = feature.sort_values('Importance', ascending=False).set_index('Feature')\n",
    "#feature = feature.reset_index(drop=True)\n",
    "feature\n",
    "feature['Importance'].plot(kind='bar')\n",
    "plt.ylim(0, 1)\n",
    "\n",
    "plt.xlabel(\"GENRE(S)\", fontsize=14, fontweight='bold')\n",
    "plt.ylabel(\"Importance\", fontsize=14, fontweight='bold')\n"
   ]
  },
  {
   "cell_type": "code",
   "execution_count": 405,
   "metadata": {
    "collapsed": false
   },
   "outputs": [
    {
     "data": {
      "text/plain": [
       "Index([      u'NumberOscar',     u'TopActorCount', u'TopDirectorsCount',\n",
       "                   u'InUSA',           u'Runtime',       u'genre_Crime',\n",
       "             u'genre_Drama',      u'genre_Action',     u'genre_Western'],\n",
       "      dtype='object')"
      ]
     },
     "execution_count": 405,
     "metadata": {},
     "output_type": "execute_result"
    }
   ],
   "source": [
    "X.columns"
   ]
  },
  {
   "cell_type": "code",
   "execution_count": 406,
   "metadata": {
    "collapsed": false
   },
   "outputs": [
    {
     "data": {
      "text/plain": [
       "<bound method RandomForestRegressor.get_params of RandomForestRegressor(bootstrap=True, criterion='mse', max_depth=None,\n",
       "           max_features='auto', max_leaf_nodes=None, min_samples_leaf=1,\n",
       "           min_samples_split=2, min_weight_fraction_leaf=0.0,\n",
       "           n_estimators=10, n_jobs=1, oob_score=False, random_state=None,\n",
       "           verbose=0, warm_start=False)>"
      ]
     },
     "execution_count": 406,
     "metadata": {},
     "output_type": "execute_result"
    }
   ],
   "source": [
    "rfr.get_params\n"
   ]
  },
  {
   "cell_type": "code",
   "execution_count": 407,
   "metadata": {
    "collapsed": false
   },
   "outputs": [
    {
     "data": {
      "text/plain": [
       "[DecisionTreeRegressor(criterion='mse', max_depth=None, max_features='auto',\n",
       "            max_leaf_nodes=None, min_samples_leaf=1, min_samples_split=2,\n",
       "            min_weight_fraction_leaf=0.0, presort=False,\n",
       "            random_state=1294245784, splitter='best'),\n",
       " DecisionTreeRegressor(criterion='mse', max_depth=None, max_features='auto',\n",
       "            max_leaf_nodes=None, min_samples_leaf=1, min_samples_split=2,\n",
       "            min_weight_fraction_leaf=0.0, presort=False,\n",
       "            random_state=897076283, splitter='best'),\n",
       " DecisionTreeRegressor(criterion='mse', max_depth=None, max_features='auto',\n",
       "            max_leaf_nodes=None, min_samples_leaf=1, min_samples_split=2,\n",
       "            min_weight_fraction_leaf=0.0, presort=False,\n",
       "            random_state=355115201, splitter='best'),\n",
       " DecisionTreeRegressor(criterion='mse', max_depth=None, max_features='auto',\n",
       "            max_leaf_nodes=None, min_samples_leaf=1, min_samples_split=2,\n",
       "            min_weight_fraction_leaf=0.0, presort=False,\n",
       "            random_state=430094060, splitter='best'),\n",
       " DecisionTreeRegressor(criterion='mse', max_depth=None, max_features='auto',\n",
       "            max_leaf_nodes=None, min_samples_leaf=1, min_samples_split=2,\n",
       "            min_weight_fraction_leaf=0.0, presort=False,\n",
       "            random_state=1812885179, splitter='best'),\n",
       " DecisionTreeRegressor(criterion='mse', max_depth=None, max_features='auto',\n",
       "            max_leaf_nodes=None, min_samples_leaf=1, min_samples_split=2,\n",
       "            min_weight_fraction_leaf=0.0, presort=False,\n",
       "            random_state=1583263378, splitter='best'),\n",
       " DecisionTreeRegressor(criterion='mse', max_depth=None, max_features='auto',\n",
       "            max_leaf_nodes=None, min_samples_leaf=1, min_samples_split=2,\n",
       "            min_weight_fraction_leaf=0.0, presort=False,\n",
       "            random_state=908688196, splitter='best'),\n",
       " DecisionTreeRegressor(criterion='mse', max_depth=None, max_features='auto',\n",
       "            max_leaf_nodes=None, min_samples_leaf=1, min_samples_split=2,\n",
       "            min_weight_fraction_leaf=0.0, presort=False,\n",
       "            random_state=1785774454, splitter='best'),\n",
       " DecisionTreeRegressor(criterion='mse', max_depth=None, max_features='auto',\n",
       "            max_leaf_nodes=None, min_samples_leaf=1, min_samples_split=2,\n",
       "            min_weight_fraction_leaf=0.0, presort=False,\n",
       "            random_state=1075629886, splitter='best'),\n",
       " DecisionTreeRegressor(criterion='mse', max_depth=None, max_features='auto',\n",
       "            max_leaf_nodes=None, min_samples_leaf=1, min_samples_split=2,\n",
       "            min_weight_fraction_leaf=0.0, presort=False,\n",
       "            random_state=763575439, splitter='best')]"
      ]
     },
     "execution_count": 407,
     "metadata": {},
     "output_type": "execute_result"
    }
   ],
   "source": [
    "rfr.estimators_"
   ]
  },
  {
   "cell_type": "code",
   "execution_count": 410,
   "metadata": {
    "collapsed": true
   },
   "outputs": [],
   "source": [
    "df_complete.to_csv('imdb.csv', sep=',', encoding='utf-8')"
   ]
  },
  {
   "cell_type": "code",
   "execution_count": 412,
   "metadata": {
    "collapsed": false
   },
   "outputs": [
    {
     "data": {
      "text/plain": [
       "250"
      ]
     },
     "execution_count": 412,
     "metadata": {},
     "output_type": "execute_result"
    }
   ],
   "source": [
    "len(df_complete)"
   ]
  },
  {
   "cell_type": "code",
   "execution_count": 413,
   "metadata": {
    "collapsed": false
   },
   "outputs": [
    {
     "data": {
      "text/plain": [
       "51"
      ]
     },
     "execution_count": 413,
     "metadata": {},
     "output_type": "execute_result"
    }
   ],
   "source": [
    "len(df_complete.columns)"
   ]
  },
  {
   "cell_type": "code",
   "execution_count": 414,
   "metadata": {
    "collapsed": false
   },
   "outputs": [
    {
     "data": {
      "text/html": [
       "<div>\n",
       "<table border=\"1\" class=\"dataframe\">\n",
       "  <thead>\n",
       "    <tr style=\"text-align: right;\">\n",
       "      <th></th>\n",
       "      <th>Importance</th>\n",
       "    </tr>\n",
       "    <tr>\n",
       "      <th>Feature</th>\n",
       "      <th></th>\n",
       "    </tr>\n",
       "  </thead>\n",
       "  <tbody>\n",
       "    <tr>\n",
       "      <th>Runtime</th>\n",
       "      <td>0.505294</td>\n",
       "    </tr>\n",
       "    <tr>\n",
       "      <th>NumberOscar</th>\n",
       "      <td>0.110409</td>\n",
       "    </tr>\n",
       "    <tr>\n",
       "      <th>genre_Crime</th>\n",
       "      <td>0.0987964</td>\n",
       "    </tr>\n",
       "    <tr>\n",
       "      <th>TopActorCount</th>\n",
       "      <td>0.0774152</td>\n",
       "    </tr>\n",
       "    <tr>\n",
       "      <th>InUSA</th>\n",
       "      <td>0.0582095</td>\n",
       "    </tr>\n",
       "    <tr>\n",
       "      <th>TopDirectorsCount</th>\n",
       "      <td>0.0548904</td>\n",
       "    </tr>\n",
       "    <tr>\n",
       "      <th>genre_Drama</th>\n",
       "      <td>0.040104</td>\n",
       "    </tr>\n",
       "    <tr>\n",
       "      <th>genre_Action</th>\n",
       "      <td>0.0344474</td>\n",
       "    </tr>\n",
       "    <tr>\n",
       "      <th>genre_Western</th>\n",
       "      <td>0.0204342</td>\n",
       "    </tr>\n",
       "  </tbody>\n",
       "</table>\n",
       "</div>"
      ],
      "text/plain": [
       "                  Importance\n",
       "Feature                     \n",
       "Runtime             0.505294\n",
       "NumberOscar         0.110409\n",
       "genre_Crime        0.0987964\n",
       "TopActorCount      0.0774152\n",
       "InUSA              0.0582095\n",
       "TopDirectorsCount  0.0548904\n",
       "genre_Drama         0.040104\n",
       "genre_Action       0.0344474\n",
       "genre_Western      0.0204342"
      ]
     },
     "execution_count": 414,
     "metadata": {},
     "output_type": "execute_result"
    }
   ],
   "source": [
    "feature"
   ]
  },
  {
   "cell_type": "markdown",
   "metadata": {},
   "source": [
    "## Findings\n",
    "\n",
    "- I created multiple models for comparison. The Ramdom Forest Model is the one with the lower MSE.\n",
    "- The most influenctial feature is the 'Runtime', followed by the Number of Oscars and the \"Crime' Genre among others that you can see in the graphic and dataframe above\n",
    "- Number of reviews seems to be a goos feature too, but it did not make sense to include that snce the reason was because the most popular movies got more reviews and this is only causing noise in there\n",
    "\n",
    "\n"
   ]
  },
  {
   "cell_type": "markdown",
   "metadata": {},
   "source": [
    "## Recomendation and Next Steps\n",
    "- I used the Ramdom forest for the predictions. This model has the lowest MSE (mean squared error) of all the  models.\n",
    "- After creating multiple models and compare them, there is not that much differece in terms of R2(s) and MSE(s) with the exception of the Decision Tree that has a R2 -0.93 and MSE of 0.03578\n",
    "- There are so much data available in this API and in the web, we can work much more on evaluating if there are more features that can do a better prediction.  I also simplified or summarized some variables like actors, directors country, we can be more specific on this and get more \"refined\" features.\n",
    "- I concentrated only in the Top 250, if we want the model to me smarter and optimal we MUST add the medium and low rated movies to the datset."
   ]
  },
  {
   "cell_type": "code",
   "execution_count": null,
   "metadata": {
    "collapsed": true
   },
   "outputs": [],
   "source": []
  },
  {
   "cell_type": "code",
   "execution_count": null,
   "metadata": {
    "collapsed": true
   },
   "outputs": [],
   "source": []
  }
 ],
 "metadata": {
  "anaconda-cloud": {},
  "kernelspec": {
   "display_name": "Python [Root]",
   "language": "python",
   "name": "Python [Root]"
  },
  "language_info": {
   "codemirror_mode": {
    "name": "ipython",
    "version": 2
   },
   "file_extension": ".py",
   "mimetype": "text/x-python",
   "name": "python",
   "nbconvert_exporter": "python",
   "pygments_lexer": "ipython2",
   "version": "2.7.12"
  }
 },
 "nbformat": 4,
 "nbformat_minor": 0
}
