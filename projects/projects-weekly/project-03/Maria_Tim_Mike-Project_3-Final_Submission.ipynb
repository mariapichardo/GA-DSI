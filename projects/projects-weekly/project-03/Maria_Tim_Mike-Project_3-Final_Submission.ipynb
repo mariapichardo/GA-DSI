{
 "cells": [
  {
   "cell_type": "markdown",
   "metadata": {},
   "source": [
    "# Problem Statement:\n",
    "\n",
    "We intend to explore the Iowa State liquor sales dataset to identify the features most correlated with sales and make recommendations -- at the county level -- on the counties we feel will generate the highest sales.\n",
    "\n",
    "## Goals and Criteria for success\n",
    "\n",
    "Our goal is to identify the features most correlated with sales and build a model that best explains the factors that drive sales. To do this, we've used the provided data and added additional demographic data that the liquor sales literature suggest may lead to increased liquor sales, including: proportion of the population that's male vs. female, employment data and the proportion of the population 21 years or older. \n",
    "\n",
    "Our criteria for success would be a model with a high r^2 that remains high after cross validation and a low MSE."
   ]
  },
  {
   "cell_type": "markdown",
   "metadata": {},
   "source": [
    "# Getting started\n",
    "\n",
    "Once you've chosen your scenario, download the data from [the Iowa website](https://data.iowa.gov/Economy/Iowa-Liquor-Sales/m3tr-qhgy) in csv format. Start by loading the data with pandas. You may need to parse the date columns appropriately."
   ]
  },
  {
   "cell_type": "code",
   "execution_count": 134,
   "metadata": {
    "collapsed": false
   },
   "outputs": [],
   "source": [
    "## LIBRARY AND DATA LOADING\n",
    "# Numeric and statistics packages:\n",
    "import numpy as np\n",
    "import scipy.stats as stats\n",
    "\n",
    "# Pandas handles dataset loading and manipulation:\n",
    "import pandas as pd\n",
    "\n",
    "# import the plotting functions:\n",
    "import matplotlib.pyplot as plt\n",
    "import seaborn as sns\n",
    "# import plotly\n",
    "# import plotly.plotly as py\n",
    "# import plotly.graph_objs as go\n",
    "import math\n",
    "import csv\n",
    "from datetime import datetime\n",
    "\n",
    "#Model Building Libraries\n",
    "from sklearn import linear_model\n",
    "from sklearn.metrics import r2_score\n",
    "from sklearn.metrics import mean_squared_error\n",
    "from sklearn.cross_validation import train_test_split\n",
    "from sklearn.cross_validation import cross_val_predict, cross_val_score\n",
    "\n",
    "# Initialize plotly notebook mode:\n",
    "# plotly.offline.init_notebook_mode()\n",
    "\n",
    "# Setup matplotlib to display in notebook:\n",
    "%matplotlib inline"
   ]
  },
  {
   "cell_type": "code",
   "execution_count": 4,
   "metadata": {
    "collapsed": false
   },
   "outputs": [
    {
     "data": {
      "text/html": [
       "<div>\n",
       "<table border=\"1\" class=\"dataframe\">\n",
       "  <thead>\n",
       "    <tr style=\"text-align: right;\">\n",
       "      <th></th>\n",
       "      <th>Date</th>\n",
       "      <th>Store Number</th>\n",
       "      <th>City</th>\n",
       "      <th>Zip Code</th>\n",
       "      <th>County Number</th>\n",
       "      <th>County</th>\n",
       "      <th>Category</th>\n",
       "      <th>Category Name</th>\n",
       "      <th>Vendor Number</th>\n",
       "      <th>Item Number</th>\n",
       "      <th>Item Description</th>\n",
       "      <th>Bottle Volume (ml)</th>\n",
       "      <th>State Bottle Cost</th>\n",
       "      <th>State Bottle Retail</th>\n",
       "      <th>Bottles Sold</th>\n",
       "      <th>Sale (Dollars)</th>\n",
       "      <th>Volume Sold (Liters)</th>\n",
       "      <th>Volume Sold (Gallons)</th>\n",
       "    </tr>\n",
       "  </thead>\n",
       "  <tbody>\n",
       "    <tr>\n",
       "      <th>0</th>\n",
       "      <td>11/04/2015</td>\n",
       "      <td>3717</td>\n",
       "      <td>SUMNER</td>\n",
       "      <td>50674</td>\n",
       "      <td>9.0</td>\n",
       "      <td>Bremer</td>\n",
       "      <td>1051100.0</td>\n",
       "      <td>APRICOT BRANDIES</td>\n",
       "      <td>55</td>\n",
       "      <td>54436</td>\n",
       "      <td>Mr. Boston Apricot Brandy</td>\n",
       "      <td>750</td>\n",
       "      <td>$4.50</td>\n",
       "      <td>$6.75</td>\n",
       "      <td>12</td>\n",
       "      <td>$81.00</td>\n",
       "      <td>9.0</td>\n",
       "      <td>2.38</td>\n",
       "    </tr>\n",
       "    <tr>\n",
       "      <th>1</th>\n",
       "      <td>03/02/2016</td>\n",
       "      <td>2614</td>\n",
       "      <td>DAVENPORT</td>\n",
       "      <td>52807</td>\n",
       "      <td>82.0</td>\n",
       "      <td>Scott</td>\n",
       "      <td>1011100.0</td>\n",
       "      <td>BLENDED WHISKIES</td>\n",
       "      <td>395</td>\n",
       "      <td>27605</td>\n",
       "      <td>Tin Cup</td>\n",
       "      <td>750</td>\n",
       "      <td>$13.75</td>\n",
       "      <td>$20.63</td>\n",
       "      <td>2</td>\n",
       "      <td>$41.26</td>\n",
       "      <td>1.5</td>\n",
       "      <td>0.40</td>\n",
       "    </tr>\n",
       "    <tr>\n",
       "      <th>2</th>\n",
       "      <td>02/11/2016</td>\n",
       "      <td>2106</td>\n",
       "      <td>CEDAR FALLS</td>\n",
       "      <td>50613</td>\n",
       "      <td>7.0</td>\n",
       "      <td>Black Hawk</td>\n",
       "      <td>1011200.0</td>\n",
       "      <td>STRAIGHT BOURBON WHISKIES</td>\n",
       "      <td>65</td>\n",
       "      <td>19067</td>\n",
       "      <td>Jim Beam</td>\n",
       "      <td>1000</td>\n",
       "      <td>$12.59</td>\n",
       "      <td>$18.89</td>\n",
       "      <td>24</td>\n",
       "      <td>$453.36</td>\n",
       "      <td>24.0</td>\n",
       "      <td>6.34</td>\n",
       "    </tr>\n",
       "  </tbody>\n",
       "</table>\n",
       "</div>"
      ],
      "text/plain": [
       "         Date  Store Number         City Zip Code  County Number      County  \\\n",
       "0  11/04/2015          3717       SUMNER    50674            9.0      Bremer   \n",
       "1  03/02/2016          2614    DAVENPORT    52807           82.0       Scott   \n",
       "2  02/11/2016          2106  CEDAR FALLS    50613            7.0  Black Hawk   \n",
       "\n",
       "    Category              Category Name  Vendor Number  Item Number  \\\n",
       "0  1051100.0           APRICOT BRANDIES             55        54436   \n",
       "1  1011100.0           BLENDED WHISKIES            395        27605   \n",
       "2  1011200.0  STRAIGHT BOURBON WHISKIES             65        19067   \n",
       "\n",
       "            Item Description  Bottle Volume (ml) State Bottle Cost  \\\n",
       "0  Mr. Boston Apricot Brandy                 750             $4.50   \n",
       "1                    Tin Cup                 750            $13.75   \n",
       "2                   Jim Beam                1000            $12.59   \n",
       "\n",
       "  State Bottle Retail  Bottles Sold Sale (Dollars)  Volume Sold (Liters)  \\\n",
       "0               $6.75            12         $81.00                   9.0   \n",
       "1              $20.63             2         $41.26                   1.5   \n",
       "2              $18.89            24        $453.36                  24.0   \n",
       "\n",
       "   Volume Sold (Gallons)  \n",
       "0                   2.38  \n",
       "1                   0.40  \n",
       "2                   6.34  "
      ]
     },
     "execution_count": 4,
     "metadata": {},
     "output_type": "execute_result"
    }
   ],
   "source": [
    "## Load the data into a DataFrame\n",
    "df = pd.read_csv('../assets/Iowa_Liquor_sales_sample_10pct.csv', encoding='latin1')\n",
    "df.head(3)\n"
   ]
  },
  {
   "cell_type": "code",
   "execution_count": 5,
   "metadata": {
    "collapsed": false
   },
   "outputs": [
    {
     "data": {
      "text/html": [
       "<div>\n",
       "<table border=\"1\" class=\"dataframe\">\n",
       "  <thead>\n",
       "    <tr style=\"text-align: right;\">\n",
       "      <th></th>\n",
       "      <th>FIPS</th>\n",
       "      <th>County</th>\n",
       "      <th>Year</th>\n",
       "      <th>Population</th>\n",
       "      <th>Primary County Coordinates</th>\n",
       "    </tr>\n",
       "  </thead>\n",
       "  <tbody>\n",
       "    <tr>\n",
       "      <th>0</th>\n",
       "      <td>19001</td>\n",
       "      <td>Adair County</td>\n",
       "      <td>July 01 2015</td>\n",
       "      <td>7228</td>\n",
       "      <td>(41.3307464, -94.4709413)</td>\n",
       "    </tr>\n",
       "    <tr>\n",
       "      <th>1</th>\n",
       "      <td>19003</td>\n",
       "      <td>Adams County</td>\n",
       "      <td>July 01 2015</td>\n",
       "      <td>3796</td>\n",
       "      <td>(41.0289839, -94.6991849)</td>\n",
       "    </tr>\n",
       "    <tr>\n",
       "      <th>2</th>\n",
       "      <td>19005</td>\n",
       "      <td>Allamakee County</td>\n",
       "      <td>July 01 2015</td>\n",
       "      <td>13886</td>\n",
       "      <td>(43.2842838, -91.3780923)</td>\n",
       "    </tr>\n",
       "  </tbody>\n",
       "</table>\n",
       "</div>"
      ],
      "text/plain": [
       "    FIPS            County          Year  Population  \\\n",
       "0  19001      Adair County  July 01 2015        7228   \n",
       "1  19003      Adams County  July 01 2015        3796   \n",
       "2  19005  Allamakee County  July 01 2015       13886   \n",
       "\n",
       "  Primary County Coordinates  \n",
       "0  (41.3307464, -94.4709413)  \n",
       "1  (41.0289839, -94.6991849)  \n",
       "2  (43.2842838, -91.3780923)  "
      ]
     },
     "execution_count": 5,
     "metadata": {},
     "output_type": "execute_result"
    }
   ],
   "source": [
    "## Load Demographic per County data into a DataFrame\n",
    "demo_df = pd.read_csv('/Users/mikeroman/Downloads/Total_County_Population_by_Year.csv')\n",
    "demo_df.head(3)"
   ]
  },
  {
   "cell_type": "code",
   "execution_count": 6,
   "metadata": {
    "collapsed": false
   },
   "outputs": [
    {
     "data": {
      "text/html": [
       "<div>\n",
       "<table border=\"1\" class=\"dataframe\">\n",
       "  <thead>\n",
       "    <tr style=\"text-align: right;\">\n",
       "      <th></th>\n",
       "      <th>FIPS</th>\n",
       "      <th>County</th>\n",
       "      <th>Year</th>\n",
       "      <th>Population</th>\n",
       "      <th>Primary County Coordinates</th>\n",
       "    </tr>\n",
       "  </thead>\n",
       "  <tbody>\n",
       "    <tr>\n",
       "      <th>0</th>\n",
       "      <td>19001</td>\n",
       "      <td>Adair</td>\n",
       "      <td>July 01 2015</td>\n",
       "      <td>7228</td>\n",
       "      <td>(41.3307464, -94.4709413)</td>\n",
       "    </tr>\n",
       "    <tr>\n",
       "      <th>1</th>\n",
       "      <td>19003</td>\n",
       "      <td>Adams</td>\n",
       "      <td>July 01 2015</td>\n",
       "      <td>3796</td>\n",
       "      <td>(41.0289839, -94.6991849)</td>\n",
       "    </tr>\n",
       "    <tr>\n",
       "      <th>2</th>\n",
       "      <td>19005</td>\n",
       "      <td>Allamakee</td>\n",
       "      <td>July 01 2015</td>\n",
       "      <td>13886</td>\n",
       "      <td>(43.2842838, -91.3780923)</td>\n",
       "    </tr>\n",
       "  </tbody>\n",
       "</table>\n",
       "</div>"
      ],
      "text/plain": [
       "    FIPS     County          Year  Population Primary County Coordinates\n",
       "0  19001      Adair  July 01 2015        7228  (41.3307464, -94.4709413)\n",
       "1  19003      Adams  July 01 2015        3796  (41.0289839, -94.6991849)\n",
       "2  19005  Allamakee  July 01 2015       13886  (43.2842838, -91.3780923)"
      ]
     },
     "execution_count": 6,
     "metadata": {},
     "output_type": "execute_result"
    }
   ],
   "source": [
    "#Remove the word \"County\" from each element, leaving us with just the county name. \n",
    "demo_df['County'] = [x.replace(\" County\", \"\") if \" County\" in x else x for x in demo_df['County']]\n",
    "demo_df.head(3)"
   ]
  },
  {
   "cell_type": "code",
   "execution_count": 7,
   "metadata": {
    "collapsed": false
   },
   "outputs": [
    {
     "data": {
      "text/html": [
       "<div>\n",
       "<table border=\"1\" class=\"dataframe\">\n",
       "  <thead>\n",
       "    <tr style=\"text-align: right;\">\n",
       "      <th></th>\n",
       "      <th>County</th>\n",
       "      <th>Population</th>\n",
       "    </tr>\n",
       "  </thead>\n",
       "  <tbody>\n",
       "    <tr>\n",
       "      <th>0</th>\n",
       "      <td>Adair</td>\n",
       "      <td>7228</td>\n",
       "    </tr>\n",
       "    <tr>\n",
       "      <th>1</th>\n",
       "      <td>Adams</td>\n",
       "      <td>3796</td>\n",
       "    </tr>\n",
       "    <tr>\n",
       "      <th>2</th>\n",
       "      <td>Allamakee</td>\n",
       "      <td>13886</td>\n",
       "    </tr>\n",
       "  </tbody>\n",
       "</table>\n",
       "</div>"
      ],
      "text/plain": [
       "      County  Population\n",
       "0      Adair        7228\n",
       "1      Adams        3796\n",
       "2  Allamakee       13886"
      ]
     },
     "execution_count": 7,
     "metadata": {},
     "output_type": "execute_result"
    }
   ],
   "source": [
    "#Just taking the population column from our dataset. \n",
    "demo_df = demo_df.drop(demo_df.columns[[0, 2, 4]], axis=1) \n",
    "demo_df.head(3)"
   ]
  },
  {
   "cell_type": "code",
   "execution_count": 10,
   "metadata": {
    "collapsed": false
   },
   "outputs": [
    {
     "data": {
      "text/html": [
       "<div>\n",
       "<table border=\"1\" class=\"dataframe\">\n",
       "  <thead>\n",
       "    <tr style=\"text-align: right;\">\n",
       "      <th></th>\n",
       "      <th>County</th>\n",
       "      <th>Average of LABORFORCE</th>\n",
       "      <th>Average of EMPLAB</th>\n",
       "      <th>Average of UNEMP</th>\n",
       "      <th>Average of UNEMPRATE</th>\n",
       "    </tr>\n",
       "  </thead>\n",
       "  <tbody>\n",
       "    <tr>\n",
       "      <th>0</th>\n",
       "      <td>Adair County</td>\n",
       "      <td>4268.33</td>\n",
       "      <td>4131.67</td>\n",
       "      <td>135.83</td>\n",
       "      <td>3.17</td>\n",
       "    </tr>\n",
       "    <tr>\n",
       "      <th>1</th>\n",
       "      <td>Adams County</td>\n",
       "      <td>2300.83</td>\n",
       "      <td>2235.83</td>\n",
       "      <td>63.33</td>\n",
       "      <td>2.76</td>\n",
       "    </tr>\n",
       "    <tr>\n",
       "      <th>2</th>\n",
       "      <td>Allamakee County</td>\n",
       "      <td>7725.83</td>\n",
       "      <td>7354.17</td>\n",
       "      <td>373.33</td>\n",
       "      <td>4.83</td>\n",
       "    </tr>\n",
       "  </tbody>\n",
       "</table>\n",
       "</div>"
      ],
      "text/plain": [
       "             County  Average of LABORFORCE  Average of EMPLAB  \\\n",
       "0      Adair County                4268.33            4131.67   \n",
       "1      Adams County                2300.83            2235.83   \n",
       "2  Allamakee County                7725.83            7354.17   \n",
       "\n",
       "   Average of UNEMP  Average of UNEMPRATE  \n",
       "0            135.83                  3.17  \n",
       "1             63.33                  2.76  \n",
       "2            373.33                  4.83  "
      ]
     },
     "execution_count": 10,
     "metadata": {},
     "output_type": "execute_result"
    }
   ],
   "source": [
    "## Load Employment data per County data into a DataFrame\n",
    "empl_df = pd.read_csv('/Users/mikeroman/Documents/Employment_Data_Iowa_2015.csv')\n",
    "empl_df.columns = ['County', 'Average of LABORFORCE', 'Average of EMPLAB','Average of UNEMP', 'Average of UNEMPRATE']\n",
    "empl_df.head(3)"
   ]
  },
  {
   "cell_type": "code",
   "execution_count": 11,
   "metadata": {
    "collapsed": false
   },
   "outputs": [
    {
     "data": {
      "text/html": [
       "<div>\n",
       "<table border=\"1\" class=\"dataframe\">\n",
       "  <thead>\n",
       "    <tr style=\"text-align: right;\">\n",
       "      <th></th>\n",
       "      <th>County</th>\n",
       "      <th>Average of LABORFORCE</th>\n",
       "      <th>Average of EMPLAB</th>\n",
       "      <th>Average of UNEMP</th>\n",
       "      <th>Average of UNEMPRATE</th>\n",
       "    </tr>\n",
       "  </thead>\n",
       "  <tbody>\n",
       "    <tr>\n",
       "      <th>0</th>\n",
       "      <td>Adair</td>\n",
       "      <td>4268.33</td>\n",
       "      <td>4131.67</td>\n",
       "      <td>135.83</td>\n",
       "      <td>3.17</td>\n",
       "    </tr>\n",
       "    <tr>\n",
       "      <th>1</th>\n",
       "      <td>Adams</td>\n",
       "      <td>2300.83</td>\n",
       "      <td>2235.83</td>\n",
       "      <td>63.33</td>\n",
       "      <td>2.76</td>\n",
       "    </tr>\n",
       "    <tr>\n",
       "      <th>2</th>\n",
       "      <td>Allamakee</td>\n",
       "      <td>7725.83</td>\n",
       "      <td>7354.17</td>\n",
       "      <td>373.33</td>\n",
       "      <td>4.83</td>\n",
       "    </tr>\n",
       "  </tbody>\n",
       "</table>\n",
       "</div>"
      ],
      "text/plain": [
       "      County  Average of LABORFORCE  Average of EMPLAB  Average of UNEMP  \\\n",
       "0      Adair                4268.33            4131.67            135.83   \n",
       "1      Adams                2300.83            2235.83             63.33   \n",
       "2  Allamakee                7725.83            7354.17            373.33   \n",
       "\n",
       "   Average of UNEMPRATE  \n",
       "0                  3.17  \n",
       "1                  2.76  \n",
       "2                  4.83  "
      ]
     },
     "execution_count": 11,
     "metadata": {},
     "output_type": "execute_result"
    }
   ],
   "source": [
    "#Remove the word \"County\" from each element, leaving us with just the county name. \n",
    "empl_df['County'] = [x.replace(\" County\", \"\") if \" County\" in x else x for x in empl_df['County']]\n",
    "empl_df.head(3)"
   ]
  },
  {
   "cell_type": "code",
   "execution_count": 12,
   "metadata": {
    "collapsed": false
   },
   "outputs": [
    {
     "data": {
      "text/html": [
       "<div>\n",
       "<table border=\"1\" class=\"dataframe\">\n",
       "  <thead>\n",
       "    <tr style=\"text-align: right;\">\n",
       "      <th></th>\n",
       "      <th>County</th>\n",
       "      <th>Prop. Male</th>\n",
       "      <th>Prop. Female</th>\n",
       "      <th>Prop. Population over 21</th>\n",
       "    </tr>\n",
       "  </thead>\n",
       "  <tbody>\n",
       "    <tr>\n",
       "      <th>0</th>\n",
       "      <td>Adair</td>\n",
       "      <td>0.49</td>\n",
       "      <td>0.51</td>\n",
       "      <td>0.86</td>\n",
       "    </tr>\n",
       "    <tr>\n",
       "      <th>1</th>\n",
       "      <td>Adams</td>\n",
       "      <td>0.49</td>\n",
       "      <td>0.51</td>\n",
       "      <td>0.88</td>\n",
       "    </tr>\n",
       "    <tr>\n",
       "      <th>2</th>\n",
       "      <td>Allamakee</td>\n",
       "      <td>0.51</td>\n",
       "      <td>0.49</td>\n",
       "      <td>0.86</td>\n",
       "    </tr>\n",
       "  </tbody>\n",
       "</table>\n",
       "</div>"
      ],
      "text/plain": [
       "      County  Prop. Male  Prop. Female  Prop. Population over 21\n",
       "0      Adair        0.49          0.51                      0.86\n",
       "1      Adams        0.49          0.51                      0.88\n",
       "2  Allamakee        0.51          0.49                      0.86"
      ]
     },
     "execution_count": 12,
     "metadata": {},
     "output_type": "execute_result"
    }
   ],
   "source": [
    "## Load age demographics and sex demographics per County data into a DataFrame\n",
    "po21_df = pd.read_csv('/Users/mikeroman/Downloads/Iowa_over21_mf.csv')\n",
    "po21_df['County'] = [x.replace(\" County\", \"\") if \" County\" in x else x for x in po21_df['County']]\n",
    "po21_df.head(3)"
   ]
  },
  {
   "cell_type": "code",
   "execution_count": 13,
   "metadata": {
    "collapsed": false
   },
   "outputs": [
    {
     "data": {
      "text/plain": [
       "Date                      object\n",
       "Store Number               int64\n",
       "City                      object\n",
       "Zip Code                  object\n",
       "County Number            float64\n",
       "County                    object\n",
       "Category                 float64\n",
       "Category Name             object\n",
       "Vendor Number              int64\n",
       "Item Number                int64\n",
       "Item Description          object\n",
       "Bottle Volume (ml)         int64\n",
       "State Bottle Cost         object\n",
       "State Bottle Retail       object\n",
       "Bottles Sold               int64\n",
       "Sale (Dollars)            object\n",
       "Volume Sold (Liters)     float64\n",
       "Volume Sold (Gallons)    float64\n",
       "dtype: object"
      ]
     },
     "execution_count": 13,
     "metadata": {},
     "output_type": "execute_result"
    }
   ],
   "source": [
    "#df.info() or \n",
    "df.dtypes"
   ]
  },
  {
   "cell_type": "code",
   "execution_count": 14,
   "metadata": {
    "collapsed": false
   },
   "outputs": [
    {
     "data": {
      "text/plain": [
       "Index([u'Date', u'StoreNumber', u'City', u'ZipCode', u'CountyNumber',\n",
       "       u'County', u'Category', u'CategoryName', u'VendorNumber', u'ItemNumber',\n",
       "       u'ItemDescription', u'BottleVolumeml', u'StateBottleCost',\n",
       "       u'StateBottleRetail', u'BottlesSold', u'SaleDollars',\n",
       "       u'VolumeSoldLiters', u'VolumeSoldGallons'],\n",
       "      dtype='object')"
      ]
     },
     "execution_count": 14,
     "metadata": {},
     "output_type": "execute_result"
    }
   ],
   "source": [
    "##DATA CLEANING\n",
    "# Rename columns - eliminate spaces and parenthesis in column names\n",
    "\n",
    "df.columns = [x.replace(\" \", \"\") if ' ' in x else x \\\n",
    "              for x in df.columns]\n",
    "\n",
    "df.columns = [x.replace(\"(\", \"\") if '(' in x else x \\\n",
    "              for x in df.columns]\n",
    "\n",
    "df.columns = [x.replace(\")\", \"\") if ')' in x else x \\\n",
    "              for x in df.columns]\n",
    "\n",
    "df.columns = [x.sentence.split() if ' ' in x else x \\\n",
    "              for x in df.columns]\n",
    "df.columns"
   ]
  },
  {
   "cell_type": "code",
   "execution_count": 15,
   "metadata": {
    "collapsed": false
   },
   "outputs": [
    {
     "data": {
      "text/html": [
       "<div>\n",
       "<table border=\"1\" class=\"dataframe\">\n",
       "  <thead>\n",
       "    <tr style=\"text-align: right;\">\n",
       "      <th></th>\n",
       "      <th>Date</th>\n",
       "      <th>StoreNumber</th>\n",
       "      <th>City</th>\n",
       "      <th>ZipCode</th>\n",
       "      <th>CountyNumber</th>\n",
       "      <th>County</th>\n",
       "      <th>Category</th>\n",
       "      <th>CategoryName</th>\n",
       "      <th>VendorNumber</th>\n",
       "      <th>ItemNumber</th>\n",
       "      <th>ItemDescription</th>\n",
       "      <th>BottleVolumeml</th>\n",
       "      <th>StateBottleCost</th>\n",
       "      <th>StateBottleRetail</th>\n",
       "      <th>BottlesSold</th>\n",
       "      <th>SaleDollars</th>\n",
       "      <th>VolumeSoldLiters</th>\n",
       "      <th>VolumeSoldGallons</th>\n",
       "      <th>Year</th>\n",
       "      <th>Month</th>\n",
       "    </tr>\n",
       "  </thead>\n",
       "  <tbody>\n",
       "    <tr>\n",
       "      <th>0</th>\n",
       "      <td>2015-11-04</td>\n",
       "      <td>3717</td>\n",
       "      <td>SUMNER</td>\n",
       "      <td>50674</td>\n",
       "      <td>9.0</td>\n",
       "      <td>Bremer</td>\n",
       "      <td>1051100.0</td>\n",
       "      <td>APRICOT BRANDIES</td>\n",
       "      <td>55</td>\n",
       "      <td>54436</td>\n",
       "      <td>Mr. Boston Apricot Brandy</td>\n",
       "      <td>750</td>\n",
       "      <td>$4.50</td>\n",
       "      <td>$6.75</td>\n",
       "      <td>12</td>\n",
       "      <td>$81.00</td>\n",
       "      <td>9.0</td>\n",
       "      <td>2.38</td>\n",
       "      <td>2015</td>\n",
       "      <td>11</td>\n",
       "    </tr>\n",
       "    <tr>\n",
       "      <th>1</th>\n",
       "      <td>2016-03-02</td>\n",
       "      <td>2614</td>\n",
       "      <td>DAVENPORT</td>\n",
       "      <td>52807</td>\n",
       "      <td>82.0</td>\n",
       "      <td>Scott</td>\n",
       "      <td>1011100.0</td>\n",
       "      <td>BLENDED WHISKIES</td>\n",
       "      <td>395</td>\n",
       "      <td>27605</td>\n",
       "      <td>Tin Cup</td>\n",
       "      <td>750</td>\n",
       "      <td>$13.75</td>\n",
       "      <td>$20.63</td>\n",
       "      <td>2</td>\n",
       "      <td>$41.26</td>\n",
       "      <td>1.5</td>\n",
       "      <td>0.40</td>\n",
       "      <td>2016</td>\n",
       "      <td>3</td>\n",
       "    </tr>\n",
       "    <tr>\n",
       "      <th>2</th>\n",
       "      <td>2016-02-11</td>\n",
       "      <td>2106</td>\n",
       "      <td>CEDAR FALLS</td>\n",
       "      <td>50613</td>\n",
       "      <td>7.0</td>\n",
       "      <td>Black Hawk</td>\n",
       "      <td>1011200.0</td>\n",
       "      <td>STRAIGHT BOURBON WHISKIES</td>\n",
       "      <td>65</td>\n",
       "      <td>19067</td>\n",
       "      <td>Jim Beam</td>\n",
       "      <td>1000</td>\n",
       "      <td>$12.59</td>\n",
       "      <td>$18.89</td>\n",
       "      <td>24</td>\n",
       "      <td>$453.36</td>\n",
       "      <td>24.0</td>\n",
       "      <td>6.34</td>\n",
       "      <td>2016</td>\n",
       "      <td>2</td>\n",
       "    </tr>\n",
       "  </tbody>\n",
       "</table>\n",
       "</div>"
      ],
      "text/plain": [
       "        Date  StoreNumber         City ZipCode  CountyNumber      County  \\\n",
       "0 2015-11-04         3717       SUMNER   50674           9.0      Bremer   \n",
       "1 2016-03-02         2614    DAVENPORT   52807          82.0       Scott   \n",
       "2 2016-02-11         2106  CEDAR FALLS   50613           7.0  Black Hawk   \n",
       "\n",
       "    Category               CategoryName  VendorNumber  ItemNumber  \\\n",
       "0  1051100.0           APRICOT BRANDIES            55       54436   \n",
       "1  1011100.0           BLENDED WHISKIES           395       27605   \n",
       "2  1011200.0  STRAIGHT BOURBON WHISKIES            65       19067   \n",
       "\n",
       "             ItemDescription  BottleVolumeml StateBottleCost  \\\n",
       "0  Mr. Boston Apricot Brandy             750           $4.50   \n",
       "1                    Tin Cup             750          $13.75   \n",
       "2                   Jim Beam            1000          $12.59   \n",
       "\n",
       "  StateBottleRetail  BottlesSold SaleDollars  VolumeSoldLiters  \\\n",
       "0             $6.75           12      $81.00               9.0   \n",
       "1            $20.63            2      $41.26               1.5   \n",
       "2            $18.89           24     $453.36              24.0   \n",
       "\n",
       "   VolumeSoldGallons  Year  Month  \n",
       "0               2.38  2015     11  \n",
       "1               0.40  2016      3  \n",
       "2               6.34  2016      2  "
      ]
     },
     "execution_count": 15,
     "metadata": {},
     "output_type": "execute_result"
    }
   ],
   "source": [
    "## Transform the dates to datetime objects.\n",
    "df[\"Date\"] = pd.to_datetime(df[\"Date\"], infer_datetime_format=True)\n",
    "df['Year'] = df['Date'].apply(lambda x: x.year)\n",
    "df['Month'] = df['Date'].apply(lambda x: x.month)\n",
    "df.head(3)"
   ]
  },
  {
   "cell_type": "code",
   "execution_count": 16,
   "metadata": {
    "collapsed": false
   },
   "outputs": [
    {
     "name": "stdout",
     "output_type": "stream",
     "text": [
      "Records for 2015 218594\n",
      "Records for 2016 52361\n"
     ]
    }
   ],
   "source": [
    "#Exploration of the year split in the data. \n",
    "print 'Records for 2015', len(df[df['Year']==2015])\n",
    "print 'Records for 2016', len(df[df['Year']==2016])"
   ]
  },
  {
   "cell_type": "code",
   "execution_count": 17,
   "metadata": {
    "collapsed": false
   },
   "outputs": [
    {
     "data": {
      "text/plain": [
       "415"
      ]
     },
     "execution_count": 17,
     "metadata": {},
     "output_type": "execute_result"
    }
   ],
   "source": [
    "#Exploration of the Zip Codes. \n",
    "df['ZipCode'].nunique()"
   ]
  },
  {
   "cell_type": "code",
   "execution_count": 20,
   "metadata": {
    "collapsed": false
   },
   "outputs": [
    {
     "name": "stdout",
     "output_type": "stream",
     "text": [
      "CountyNumber 1077\n",
      "County 1077\n",
      "Category 68\n",
      "CategoryName 632\n"
     ]
    }
   ],
   "source": [
    "# Preping the dataframe for NaN removal.\n",
    "\n",
    "nanlist = []\n",
    "\n",
    "for col in df.columns:\n",
    "    x = sum(pd.isnull(df[col]))\n",
    "    if x != 0:\n",
    "        nanlist.append(col)\n",
    "        print col, x"
   ]
  },
  {
   "cell_type": "code",
   "execution_count": 21,
   "metadata": {
    "collapsed": false
   },
   "outputs": [
    {
     "data": {
      "text/html": [
       "<div>\n",
       "<table border=\"1\" class=\"dataframe\">\n",
       "  <thead>\n",
       "    <tr style=\"text-align: right;\">\n",
       "      <th></th>\n",
       "      <th>Date</th>\n",
       "      <th>StoreNumber</th>\n",
       "      <th>City</th>\n",
       "      <th>ZipCode</th>\n",
       "      <th>CountyNumber</th>\n",
       "      <th>County</th>\n",
       "      <th>Category</th>\n",
       "      <th>CategoryName</th>\n",
       "      <th>VendorNumber</th>\n",
       "      <th>ItemNumber</th>\n",
       "      <th>ItemDescription</th>\n",
       "      <th>BottleVolumeml</th>\n",
       "      <th>StateBottleCost</th>\n",
       "      <th>StateBottleRetail</th>\n",
       "      <th>BottlesSold</th>\n",
       "      <th>SaleDollars</th>\n",
       "      <th>VolumeSoldLiters</th>\n",
       "      <th>VolumeSoldGallons</th>\n",
       "      <th>Year</th>\n",
       "      <th>Month</th>\n",
       "    </tr>\n",
       "  </thead>\n",
       "  <tbody>\n",
       "    <tr>\n",
       "      <th>135</th>\n",
       "      <td>2016-01-20</td>\n",
       "      <td>5222</td>\n",
       "      <td>CEDAR RAPIDS</td>\n",
       "      <td>52402</td>\n",
       "      <td>NaN</td>\n",
       "      <td>NaN</td>\n",
       "      <td>1051010.0</td>\n",
       "      <td>AMERICAN GRAPE BRANDIES</td>\n",
       "      <td>115</td>\n",
       "      <td>53214</td>\n",
       "      <td>Paul Masson Grande Amber Brandy</td>\n",
       "      <td>375</td>\n",
       "      <td>$3.22</td>\n",
       "      <td>$4.83</td>\n",
       "      <td>24</td>\n",
       "      <td>$115.92</td>\n",
       "      <td>9.00</td>\n",
       "      <td>2.38</td>\n",
       "      <td>2016</td>\n",
       "      <td>1</td>\n",
       "    </tr>\n",
       "    <tr>\n",
       "      <th>198</th>\n",
       "      <td>2016-03-02</td>\n",
       "      <td>3820</td>\n",
       "      <td>SIOUX CITY</td>\n",
       "      <td>51103</td>\n",
       "      <td>NaN</td>\n",
       "      <td>NaN</td>\n",
       "      <td>1032080.0</td>\n",
       "      <td>IMPORTED VODKA</td>\n",
       "      <td>35</td>\n",
       "      <td>34359</td>\n",
       "      <td>Grey Goose Vodka</td>\n",
       "      <td>200</td>\n",
       "      <td>$5.00</td>\n",
       "      <td>$7.50</td>\n",
       "      <td>12</td>\n",
       "      <td>$90.00</td>\n",
       "      <td>2.40</td>\n",
       "      <td>0.63</td>\n",
       "      <td>2016</td>\n",
       "      <td>3</td>\n",
       "    </tr>\n",
       "    <tr>\n",
       "      <th>272</th>\n",
       "      <td>2016-03-21</td>\n",
       "      <td>4222</td>\n",
       "      <td>EVANSDALE</td>\n",
       "      <td>50707</td>\n",
       "      <td>NaN</td>\n",
       "      <td>NaN</td>\n",
       "      <td>1062300.0</td>\n",
       "      <td>FLAVORED RUM</td>\n",
       "      <td>370</td>\n",
       "      <td>42716</td>\n",
       "      <td>Malibu Coconut Rum</td>\n",
       "      <td>750</td>\n",
       "      <td>$7.49</td>\n",
       "      <td>$11.24</td>\n",
       "      <td>3</td>\n",
       "      <td>$33.72</td>\n",
       "      <td>2.25</td>\n",
       "      <td>0.59</td>\n",
       "      <td>2016</td>\n",
       "      <td>3</td>\n",
       "    </tr>\n",
       "    <tr>\n",
       "      <th>290</th>\n",
       "      <td>2016-03-21</td>\n",
       "      <td>5236</td>\n",
       "      <td>ANAMOSA</td>\n",
       "      <td>52205</td>\n",
       "      <td>NaN</td>\n",
       "      <td>NaN</td>\n",
       "      <td>1081600.0</td>\n",
       "      <td>WHISKEY LIQUEUR</td>\n",
       "      <td>421</td>\n",
       "      <td>64868</td>\n",
       "      <td>Fireball Cinnamon Whiskey</td>\n",
       "      <td>1750</td>\n",
       "      <td>$15.33</td>\n",
       "      <td>$23.00</td>\n",
       "      <td>6</td>\n",
       "      <td>$138.00</td>\n",
       "      <td>10.50</td>\n",
       "      <td>2.77</td>\n",
       "      <td>2016</td>\n",
       "      <td>3</td>\n",
       "    </tr>\n",
       "    <tr>\n",
       "      <th>321</th>\n",
       "      <td>2016-02-23</td>\n",
       "      <td>4203</td>\n",
       "      <td>WAVERLY</td>\n",
       "      <td>50677</td>\n",
       "      <td>NaN</td>\n",
       "      <td>NaN</td>\n",
       "      <td>1051100.0</td>\n",
       "      <td>APRICOT BRANDIES</td>\n",
       "      <td>434</td>\n",
       "      <td>55084</td>\n",
       "      <td>Paramount Blackberry Brandy</td>\n",
       "      <td>375</td>\n",
       "      <td>$3.55</td>\n",
       "      <td>$5.33</td>\n",
       "      <td>24</td>\n",
       "      <td>$127.92</td>\n",
       "      <td>9.00</td>\n",
       "      <td>2.38</td>\n",
       "      <td>2016</td>\n",
       "      <td>2</td>\n",
       "    </tr>\n",
       "  </tbody>\n",
       "</table>\n",
       "</div>"
      ],
      "text/plain": [
       "          Date  StoreNumber          City ZipCode  CountyNumber County  \\\n",
       "135 2016-01-20         5222  CEDAR RAPIDS   52402           NaN    NaN   \n",
       "198 2016-03-02         3820    SIOUX CITY   51103           NaN    NaN   \n",
       "272 2016-03-21         4222     EVANSDALE   50707           NaN    NaN   \n",
       "290 2016-03-21         5236       ANAMOSA   52205           NaN    NaN   \n",
       "321 2016-02-23         4203       WAVERLY   50677           NaN    NaN   \n",
       "\n",
       "      Category             CategoryName  VendorNumber  ItemNumber  \\\n",
       "135  1051010.0  AMERICAN GRAPE BRANDIES           115       53214   \n",
       "198  1032080.0           IMPORTED VODKA            35       34359   \n",
       "272  1062300.0             FLAVORED RUM           370       42716   \n",
       "290  1081600.0          WHISKEY LIQUEUR           421       64868   \n",
       "321  1051100.0         APRICOT BRANDIES           434       55084   \n",
       "\n",
       "                     ItemDescription  BottleVolumeml StateBottleCost  \\\n",
       "135  Paul Masson Grande Amber Brandy             375           $3.22   \n",
       "198                 Grey Goose Vodka             200           $5.00   \n",
       "272               Malibu Coconut Rum             750           $7.49   \n",
       "290        Fireball Cinnamon Whiskey            1750          $15.33   \n",
       "321      Paramount Blackberry Brandy             375           $3.55   \n",
       "\n",
       "    StateBottleRetail  BottlesSold SaleDollars  VolumeSoldLiters  \\\n",
       "135             $4.83           24     $115.92              9.00   \n",
       "198             $7.50           12      $90.00              2.40   \n",
       "272            $11.24            3      $33.72              2.25   \n",
       "290            $23.00            6     $138.00             10.50   \n",
       "321             $5.33           24     $127.92              9.00   \n",
       "\n",
       "     VolumeSoldGallons  Year  Month  \n",
       "135               2.38  2016      1  \n",
       "198               0.63  2016      3  \n",
       "272               0.59  2016      3  \n",
       "290               2.77  2016      3  \n",
       "321               2.38  2016      2  "
      ]
     },
     "execution_count": 21,
     "metadata": {},
     "output_type": "execute_result"
    }
   ],
   "source": [
    "dfnan = df[pd.isnull(df).any(axis = 1)]\n",
    "dfnan.head()"
   ]
  },
  {
   "cell_type": "code",
   "execution_count": 22,
   "metadata": {
    "collapsed": false
   },
   "outputs": [],
   "source": [
    "##Replacing missing cateogry names.\n",
    "df.loc[df['Category'] == 1032100, 'CategoryName'] = 'Imported Vodka'\n",
    "df.loc[df['Category'] == 1052100, 'CategoryName'] = 'Imported Brandies'\n",
    "df.loc[df['Category'] == 1082100, 'CategoryName'] = 'Misc. Imported Cordials & Liqueuers'\n",
    "df.loc[df['Category'] == 1091100, 'CategoryName'] = 'Distilled Spirits Specialty'\n",
    "df.loc[df['Category'] == 1022200, 'CategoryName'] = 'Agave Tequila'"
   ]
  },
  {
   "cell_type": "code",
   "execution_count": 23,
   "metadata": {
    "collapsed": false
   },
   "outputs": [
    {
     "data": {
      "text/plain": [
       "[u'CEDAR RAPIDS',\n",
       " u'SIOUX CITY',\n",
       " u'EVANSDALE',\n",
       " u'ANAMOSA',\n",
       " u'WAVERLY',\n",
       " u'HAMPTON',\n",
       " u'DES MOINES',\n",
       " u'WATERLOO',\n",
       " u'BELMOND',\n",
       " u'MASON CITY',\n",
       " u'CORALVILLE',\n",
       " u'DAVENPORT',\n",
       " u'SIGOURNEY',\n",
       " u'CLINTON',\n",
       " u'NORWALK',\n",
       " u'SIBLEY',\n",
       " u'CLARINDA',\n",
       " u'DUBUQUE',\n",
       " u'IOWA FALLS',\n",
       " u'AMES',\n",
       " u'NORTH LIBERTY',\n",
       " u'WINDSOR HEIGHTS',\n",
       " u'PLEASANTVILLE',\n",
       " u'STORM LAKE',\n",
       " u'ALTOONA',\n",
       " u'WEST BURLINGTON',\n",
       " u'MOUNT PLEASANT',\n",
       " u'URBANDALE',\n",
       " u'DUNLAP',\n",
       " u'ATLANTIC',\n",
       " u'CHARITON',\n",
       " u'ANKENY',\n",
       " u'MUSCATINE',\n",
       " u'CEDAR FALLS',\n",
       " u'CRESCO',\n",
       " u'GRINNELL',\n",
       " u'WESLEY',\n",
       " u'MOUNT VERNON',\n",
       " u'COUNCIL BLUFFS',\n",
       " u'NORTHWOOD',\n",
       " u'ACKLEY',\n",
       " u'GREENFIELD',\n",
       " u'ROCKWELL',\n",
       " u'CLIVE',\n",
       " u'JEFFERSON',\n",
       " u'BURLINGTON',\n",
       " u'HARLAN',\n",
       " u'FORT DODGE',\n",
       " u'WASHINGTON',\n",
       " u'LAMONI',\n",
       " u'MARSHALLTOWN',\n",
       " u'BOONE',\n",
       " u'OELWEIN',\n",
       " u'CLEAR LAKE',\n",
       " u'ALBIA',\n",
       " u'PACIFIC JUNCTION',\n",
       " u'WEST BRANCH',\n",
       " u'OSKALOOSA',\n",
       " u'WEBSTER CITY',\n",
       " u'ROCK RAPIDS',\n",
       " u'WEST DES MOINES',\n",
       " u'OTTUWMA',\n",
       " u'NEWTON',\n",
       " u'CENTERVILLE',\n",
       " u'IOWA CITY',\n",
       " u'JOHNSTON',\n",
       " u'TABOR',\n",
       " u'AUDUBON',\n",
       " u'LANSING',\n",
       " u'SEYMOUR',\n",
       " u'ELKADER',\n",
       " u'GUTTENBERG',\n",
       " u'CHEROKEE',\n",
       " u'FORT MADISON',\n",
       " u'DECORAH',\n",
       " u'OTTUMWA',\n",
       " u'LARCHWOOD',\n",
       " u'FAIRFIELD',\n",
       " u'MONTICELLO',\n",
       " u'INDIANOLA',\n",
       " u'TIPTON',\n",
       " u'MARION',\n",
       " u'PLEASANT HILL',\n",
       " u'TOLEDO',\n",
       " u'KNOXVILLE',\n",
       " u'BETTENDORF',\n",
       " u'RED OAK',\n",
       " u'DENISON',\n",
       " u'OSCEOLA',\n",
       " u'ELDRIDGE',\n",
       " u'POLK CITY',\n",
       " u'ESTHERVILLE',\n",
       " u'PERRY',\n",
       " u'LATIMER',\n",
       " u'SHENANDOAH',\n",
       " u'SIOUX CENTER',\n",
       " u'SHELLSBURG',\n",
       " u'MT PLEASANT',\n",
       " u'MILFORD',\n",
       " u'RIVERSIDE',\n",
       " u'CHARLES CITY',\n",
       " u'KEOKUK',\n",
       " u'LE CLAIRE',\n",
       " u'CARROLL',\n",
       " u'INDEPENDENCE',\n",
       " u'MOUNT AYR',\n",
       " u'PELLA',\n",
       " u'RUNNELLS',\n",
       " u'EAGLE GROVE',\n",
       " u'MISSOURI VALLEY',\n",
       " u'SPIRIT LAKE',\n",
       " u'SWISHER',\n",
       " u'MANCHESTER',\n",
       " u'WAUKEE',\n",
       " u'GUTHRIE CENTER',\n",
       " u'CARLISLE',\n",
       " u'NEVADA',\n",
       " u'LECLAIRE',\n",
       " u'MAQUOKETA',\n",
       " u'LEMARS',\n",
       " u'ZWINGLE',\n",
       " u'ARNOLDS PARK',\n",
       " u'DENVER',\n",
       " u'HUBBARD',\n",
       " u'GRIMES',\n",
       " u'HIAWATHA',\n",
       " u'ANITA',\n",
       " u'ELDORA']"
      ]
     },
     "execution_count": 23,
     "metadata": {},
     "output_type": "execute_result"
    }
   ],
   "source": [
    "#Exploring cities with NaN counties.\n",
    "city_with_nan_counties = list(dfnan['City'].unique())\n",
    "\n",
    "city_with_nan_counties"
   ]
  },
  {
   "cell_type": "code",
   "execution_count": 24,
   "metadata": {
    "collapsed": false
   },
   "outputs": [],
   "source": [
    "#Get the county value for the cities above from records that belong to the same city where county is populated\n",
    "citydict = {}\n",
    "\n",
    "for i in city_with_nan_counties:\n",
    "    county_d = {x for x in df[df['City']==i]['County'] if x > 0} \n",
    "    county_n = {x for x in df[df['City']==i]['CountyNumber'] if x > 0}\n",
    "    citydict[i] = [list(county_d), list(county_n)]"
   ]
  },
  {
   "cell_type": "code",
   "execution_count": 25,
   "metadata": {
    "collapsed": true
   },
   "outputs": [],
   "source": [
    "## Populate Empty counties\n",
    "\n",
    "for x in citydict:\n",
    "    try:\n",
    "        df.loc[df['City'] == x, 'County'] = citydict[x][0][0]\n",
    "        df.loc[df['City'] == x, \"CountyNumber\"] = citydict[x][1][0]\n",
    "    except:\n",
    "        pass"
   ]
  },
  {
   "cell_type": "code",
   "execution_count": 26,
   "metadata": {
    "collapsed": false
   },
   "outputs": [
    {
     "data": {
      "text/plain": [
       "array([u'TABOR', u'SEYMOUR', u'RUNNELLS'], dtype=object)"
      ]
     },
     "execution_count": 26,
     "metadata": {},
     "output_type": "execute_result"
    }
   ],
   "source": [
    "#Second sweep to see if there are any NaN counties.\n",
    "dfnan = df[pd.isnull(df[['County','CountyNumber']]).any(axis = 1)]\n",
    "\n",
    "dfnan['City'].unique()"
   ]
  },
  {
   "cell_type": "code",
   "execution_count": 27,
   "metadata": {
    "collapsed": false
   },
   "outputs": [
    {
     "data": {
      "text/html": [
       "<div>\n",
       "<table border=\"1\" class=\"dataframe\">\n",
       "  <thead>\n",
       "    <tr style=\"text-align: right;\">\n",
       "      <th></th>\n",
       "      <th>Date</th>\n",
       "      <th>StoreNumber</th>\n",
       "      <th>City</th>\n",
       "      <th>ZipCode</th>\n",
       "      <th>CountyNumber</th>\n",
       "      <th>County</th>\n",
       "      <th>Category</th>\n",
       "      <th>CategoryName</th>\n",
       "      <th>VendorNumber</th>\n",
       "      <th>ItemNumber</th>\n",
       "      <th>ItemDescription</th>\n",
       "      <th>BottleVolumeml</th>\n",
       "      <th>StateBottleCost</th>\n",
       "      <th>StateBottleRetail</th>\n",
       "      <th>BottlesSold</th>\n",
       "      <th>SaleDollars</th>\n",
       "      <th>VolumeSoldLiters</th>\n",
       "      <th>VolumeSoldGallons</th>\n",
       "      <th>Year</th>\n",
       "      <th>Month</th>\n",
       "    </tr>\n",
       "  </thead>\n",
       "  <tbody>\n",
       "  </tbody>\n",
       "</table>\n",
       "</div>"
      ],
      "text/plain": [
       "Empty DataFrame\n",
       "Columns: [Date, StoreNumber, City, ZipCode, CountyNumber, County, Category, CategoryName, VendorNumber, ItemNumber, ItemDescription, BottleVolumeml, StateBottleCost, StateBottleRetail, BottlesSold, SaleDollars, VolumeSoldLiters, VolumeSoldGallons, Year, Month]\n",
       "Index: []"
      ]
     },
     "execution_count": 27,
     "metadata": {},
     "output_type": "execute_result"
    }
   ],
   "source": [
    "# Update null counties manually for 'TABOR', 'SEYMOUR', 'RUNNELLS' records with empty counties\n",
    "\n",
    "df.loc[df['City'] == 'TABOR', 'County'] = 'Fremont'\n",
    "df.loc[df['City'] == 'TABOR', 'CountyNumber'] = 36\n",
    "df.loc[df['City'] == 'RUNNELLS', 'County'] = 'Polk'\n",
    "df.loc[df['City'] == 'RUNNELLS', 'CountyNumber'] = 77\n",
    "df.loc[df['City'] == 'SEYMOUR', 'County'] = 'Wayne'\n",
    "df.loc[df['City'] == 'SEYMOUR', 'CountyNumber'] = 93\n",
    "\n",
    "#Third sweep to see if there are more null values for county.\n",
    "dfnan = df[pd.isnull(df[['County','CountyNumber']]).any(axis = 1)]\n",
    "dfnan"
   ]
  },
  {
   "cell_type": "code",
   "execution_count": 28,
   "metadata": {
    "collapsed": false,
    "scrolled": false
   },
   "outputs": [
    {
     "data": {
      "text/plain": [
       "array([u'DUNLAP'], dtype=object)"
      ]
     },
     "execution_count": 28,
     "metadata": {},
     "output_type": "execute_result"
    }
   ],
   "source": [
    "#Cleaning Zip codes. Erroneous '-' in Dunlap's Zip Code. \n",
    "if df.dtypes.ZipCode != 'int':\n",
    "    check_zip = df[df['ZipCode']=='712-2']\n",
    "\n",
    "check_zip['City'].unique()"
   ]
  },
  {
   "cell_type": "code",
   "execution_count": 29,
   "metadata": {
    "collapsed": true
   },
   "outputs": [],
   "source": [
    "# Replacing Dunlap's erroneous Zip.\n",
    "df['ZipCode'] = df['ZipCode'].replace('712-2', '51529')"
   ]
  },
  {
   "cell_type": "code",
   "execution_count": 30,
   "metadata": {
    "collapsed": false
   },
   "outputs": [],
   "source": [
    "#Convert Zip code to int.\n",
    "df['ZipCode'] = df['ZipCode'].astype(int)"
   ]
  },
  {
   "cell_type": "code",
   "execution_count": 32,
   "metadata": {
    "collapsed": false
   },
   "outputs": [
    {
     "data": {
      "text/plain": [
       "Date                 datetime64[ns]\n",
       "StoreNumber                   int64\n",
       "City                         object\n",
       "ZipCode                       int64\n",
       "CountyNumber                  int64\n",
       "County                       object\n",
       "Category                    float64\n",
       "CategoryName                 object\n",
       "VendorNumber                  int64\n",
       "ItemNumber                    int64\n",
       "ItemDescription              object\n",
       "BottleVolumeml                int64\n",
       "StateBottleCost              object\n",
       "StateBottleRetail            object\n",
       "BottlesSold                   int64\n",
       "SaleDollars                  object\n",
       "VolumeSoldLiters            float64\n",
       "VolumeSoldGallons           float64\n",
       "Year                          int64\n",
       "Month                         int64\n",
       "dtype: object"
      ]
     },
     "execution_count": 32,
     "metadata": {},
     "output_type": "execute_result"
    }
   ],
   "source": [
    "#Converting County numbers to int\n",
    "df['CountyNumber'].unique()\n",
    "df['CountyNumber'] = df['CountyNumber'].astype(int)\n",
    "df.dtypes"
   ]
  },
  {
   "cell_type": "code",
   "execution_count": 33,
   "metadata": {
    "collapsed": false
   },
   "outputs": [
    {
     "data": {
      "text/plain": [
       "Date                 datetime64[ns]\n",
       "StoreNumber                   int64\n",
       "City                         object\n",
       "ZipCode                       int64\n",
       "CountyNumber                  int64\n",
       "County                       object\n",
       "Category                      int64\n",
       "CategoryName                 object\n",
       "VendorNumber                  int64\n",
       "ItemNumber                    int64\n",
       "ItemDescription              object\n",
       "BottleVolumeml                int64\n",
       "StateBottleCost              object\n",
       "StateBottleRetail            object\n",
       "BottlesSold                   int64\n",
       "SaleDollars                  object\n",
       "VolumeSoldLiters            float64\n",
       "VolumeSoldGallons           float64\n",
       "Year                          int64\n",
       "Month                         int64\n",
       "dtype: object"
      ]
     },
     "execution_count": 33,
     "metadata": {},
     "output_type": "execute_result"
    }
   ],
   "source": [
    "# Cleaning Category column, converting to int. \n",
    "df['Category'].unique()\n",
    "df['Category'] = df['Category'].replace('nan', '0')\n",
    "df['Category'] = df['Category'].astype(int)\n",
    "df.dtypes"
   ]
  },
  {
   "cell_type": "code",
   "execution_count": 34,
   "metadata": {
    "collapsed": false
   },
   "outputs": [],
   "source": [
    "# Converting datatypes to float:\n",
    "if df.dtypes.StateBottleCost != 'float64':\n",
    "    df['StateBottleCost'] = [x.replace(\"$\", \"0\") if '$' in x else x for x in df['StateBottleCost']]\n",
    "    df['StateBottleCost'] = df['StateBottleCost'].astype(float)\n",
    "\n",
    "if df.dtypes.StateBottleRetail != 'float64':\n",
    "    df['StateBottleRetail'] = [x.replace(\"$\", \"0\") if '$' in x else x for x in df['StateBottleRetail']]\n",
    "    df['StateBottleRetail'] = df['StateBottleRetail'].astype(float)\n",
    "\n",
    "if df.dtypes.SaleDollars != 'float64':\n",
    "    df['SaleDollars'] = [x.replace(\"$\", \"0\") if '$' in x else x for x in df['SaleDollars']]\n",
    "    df['SaleDollars'] = df['SaleDollars'].astype(float)\n"
   ]
  },
  {
   "cell_type": "code",
   "execution_count": 36,
   "metadata": {
    "collapsed": true
   },
   "outputs": [],
   "source": [
    "# Created additional column to explore tax revenues (retail-cost)\n",
    "\n",
    "df['TotalDolBotStateCost'] = df['BottlesSold'] * df['StateBottleCost']  # Based on Cost\n",
    "df['TotalDolBotStateRet'] = df['BottlesSold'] * df['StateBottleRetail'] # Based on retail price \n",
    "df['Tax'] = df['SaleDollars'] - df['TotalDolBotStateCost'] #tax calculation"
   ]
  },
  {
   "cell_type": "code",
   "execution_count": 37,
   "metadata": {
    "collapsed": false
   },
   "outputs": [
    {
     "data": {
      "text/plain": [
       "37932"
      ]
     },
     "execution_count": 37,
     "metadata": {},
     "output_type": "execute_result"
    }
   ],
   "source": [
    "#Exploration of accuracy of data - viewing any instances sum of retail differs from Sale dollars, which shouldn't happen. We do find some examples of this, however, they were due to rounding errors. \n",
    "\n",
    "diff = df[df['TotalDolBotStateRet'] - df['SaleDollars']!= 0]\n",
    "len(diff)\n"
   ]
  },
  {
   "cell_type": "code",
   "execution_count": 43,
   "metadata": {
    "collapsed": false
   },
   "outputs": [
    {
     "name": "stdout",
     "output_type": "stream",
     "text": [
      "    CountyNumber   County\n",
      "24            25     Polk\n",
      "36            36  Fremont\n",
      "79            77     Polk\n",
      "95            93    Wayne\n",
      "No of records with Polk 25 0\n",
      "No of records with Polk 77 51384\n"
     ]
    }
   ],
   "source": [
    "# Cleaning Polk County Number data (there are two countty numbers associated with Polk). \n",
    "print county_df[county_df['County'].str.upper().isin({'FREMONT', 'WAYNE', 'POLK'})]\n",
    "\n",
    "df['CountyNumber'] = df['CountyNumber'].replace(25, 77)\n",
    "\n",
    "print 'No of records with Polk 25', len (df[df['CountyNumber']==25])\n",
    "print 'No of records with Polk 77', len (df[df['CountyNumber']==77])"
   ]
  },
  {
   "cell_type": "markdown",
   "metadata": {},
   "source": [
    "# Explore the data\n",
    "\n",
    "Perform some exploratory statistical analysis and make some plots, such as histograms of transaction totals, bottles sold, etc."
   ]
  },
  {
   "cell_type": "code",
   "execution_count": 44,
   "metadata": {
    "collapsed": false
   },
   "outputs": [
    {
     "data": {
      "text/plain": [
       "count    270955.000000\n",
       "mean        924.830341\n",
       "std         493.088489\n",
       "min          50.000000\n",
       "25%         750.000000\n",
       "50%         750.000000\n",
       "75%        1000.000000\n",
       "max        6000.000000\n",
       "Name: BottleVolumeml, dtype: float64"
      ]
     },
     "execution_count": 44,
     "metadata": {},
     "output_type": "execute_result"
    }
   ],
   "source": [
    "df['BottleVolumeml'].describe()"
   ]
  },
  {
   "cell_type": "code",
   "execution_count": 45,
   "metadata": {
    "collapsed": false
   },
   "outputs": [
    {
     "name": "stdout",
     "output_type": "stream",
     "text": [
      "The most common botle volume is  750.0 ML\n"
     ]
    }
   ],
   "source": [
    "print \"The most common botle volume is \", df['BottleVolumeml'].median(), 'ML'"
   ]
  },
  {
   "cell_type": "code",
   "execution_count": 46,
   "metadata": {
    "collapsed": false
   },
   "outputs": [
    {
     "data": {
      "text/plain": [
       "<matplotlib.axes._subplots.AxesSubplot at 0x11be6afd0>"
      ]
     },
     "execution_count": 46,
     "metadata": {},
     "output_type": "execute_result"
    },
    {
     "data": {
      "image/png": "[encoded data removed]",
      "text/plain": [
       "<matplotlib.figure.Figure at 0x116ad8a90>"
      ]
     },
     "metadata": {},
     "output_type": "display_data"
    }
   ],
   "source": [
    "df['BottleVolumeml'].hist(bins = 200)"
   ]
  },
  {
   "cell_type": "code",
   "execution_count": 52,
   "metadata": {
    "collapsed": false
   },
   "outputs": [
    {
     "data": {
      "image/png": "[encoded data removed]",
      "text/plain": [
       "<matplotlib.figure.Figure at 0x11aca9f50>"
      ]
     },
     "metadata": {},
     "output_type": "display_data"
    }
   ],
   "source": [
    "# Overview of histograms\n",
    "\n",
    "df.hist(figsize=(15,15));"
   ]
  },
  {
   "cell_type": "code",
   "execution_count": 53,
   "metadata": {
    "collapsed": false
   },
   "outputs": [
    {
     "data": {
      "image/png": "[encoded data removed]",
      "text/plain": [
       "<matplotlib.figure.Figure at 0x119cfddd0>"
      ]
     },
     "metadata": {},
     "output_type": "display_data"
    }
   ],
   "source": [
    "# Overview of histograms\n",
    "\n",
    "df['ZipCode'].hist(figsize=(15,15));"
   ]
  },
  {
   "cell_type": "code",
   "execution_count": 54,
   "metadata": {
    "collapsed": false
   },
   "outputs": [
    {
     "data": {
      "text/plain": [
       "385"
      ]
     },
     "execution_count": 54,
     "metadata": {},
     "output_type": "execute_result"
    }
   ],
   "source": [
    "df['City'].nunique()"
   ]
  },
  {
   "cell_type": "code",
   "execution_count": 55,
   "metadata": {
    "collapsed": false
   },
   "outputs": [
    {
     "data": {
      "text/plain": [
       "Date                    datetime64[ns]\n",
       "StoreNumber                      int64\n",
       "City                            object\n",
       "ZipCode                          int64\n",
       "CountyNumber                     int64\n",
       "County                          object\n",
       "Category                         int64\n",
       "CategoryName                    object\n",
       "VendorNumber                     int64\n",
       "ItemNumber                       int64\n",
       "ItemDescription                 object\n",
       "BottleVolumeml                   int64\n",
       "StateBottleCost                float64\n",
       "StateBottleRetail              float64\n",
       "BottlesSold                      int64\n",
       "SaleDollars                    float64\n",
       "VolumeSoldLiters               float64\n",
       "VolumeSoldGallons              float64\n",
       "Year                             int64\n",
       "Month                            int64\n",
       "TotalDolBotStateCost           float64\n",
       "TotalDolBotStateRet            float64\n",
       "Tax                            float64\n",
       "dtype: object"
      ]
     },
     "execution_count": 55,
     "metadata": {},
     "output_type": "execute_result"
    }
   ],
   "source": [
    "df.dtypes"
   ]
  },
  {
   "cell_type": "code",
   "execution_count": 56,
   "metadata": {
    "collapsed": false
   },
   "outputs": [
    {
     "data": {
      "text/plain": [
       "count    270955.000000\n",
       "mean         43.097436\n",
       "std         128.597325\n",
       "min           0.000000\n",
       "25%          10.165000\n",
       "50%          23.520000\n",
       "75%          45.000000\n",
       "max       12130.800000\n",
       "Name: Tax, dtype: float64"
      ]
     },
     "execution_count": 56,
     "metadata": {},
     "output_type": "execute_result"
    }
   ],
   "source": [
    "df['Tax'].describe()"
   ]
  },
  {
   "cell_type": "code",
   "execution_count": 62,
   "metadata": {
    "collapsed": false
   },
   "outputs": [
    {
     "name": "stderr",
     "output_type": "stream",
     "text": [
      "/anaconda/envs/py27/lib/python2.7/site-packages/ipykernel/__main__.py:35: FutureWarning: sort(columns=....) is deprecated, use sort_values(by=.....)\n",
      "/anaconda/envs/py27/lib/python2.7/site-packages/ipykernel/__main__.py:40: FutureWarning: sort(columns=....) is deprecated, use sort_values(by=.....)\n"
     ]
    },
    {
     "data": {
      "text/html": [
       "<div>\n",
       "<table border=\"1\" class=\"dataframe\">\n",
       "  <thead>\n",
       "    <tr style=\"text-align: right;\">\n",
       "      <th></th>\n",
       "      <th>City</th>\n",
       "      <th>Year</th>\n",
       "      <th>TotalNoStores</th>\n",
       "      <th>TotalSaleDollars</th>\n",
       "      <th>TotalBottlesSold</th>\n",
       "      <th>TotalTaxDollars</th>\n",
       "    </tr>\n",
       "  </thead>\n",
       "  <tbody>\n",
       "    <tr>\n",
       "      <th>0</th>\n",
       "      <td>DES MOINES</td>\n",
       "      <td>2016</td>\n",
       "      <td>76</td>\n",
       "      <td>814355.45</td>\n",
       "      <td>65250</td>\n",
       "      <td>271700.52</td>\n",
       "    </tr>\n",
       "    <tr>\n",
       "      <th>1</th>\n",
       "      <td>CEDAR RAPIDS</td>\n",
       "      <td>2016</td>\n",
       "      <td>71</td>\n",
       "      <td>437361.85</td>\n",
       "      <td>34805</td>\n",
       "      <td>145953.13</td>\n",
       "    </tr>\n",
       "    <tr>\n",
       "      <th>2</th>\n",
       "      <td>DAVENPORT</td>\n",
       "      <td>2016</td>\n",
       "      <td>44</td>\n",
       "      <td>319680.64</td>\n",
       "      <td>30601</td>\n",
       "      <td>106653.37</td>\n",
       "    </tr>\n",
       "    <tr>\n",
       "      <th>3</th>\n",
       "      <td>SIOUX CITY</td>\n",
       "      <td>2016</td>\n",
       "      <td>34</td>\n",
       "      <td>261621.86</td>\n",
       "      <td>18845</td>\n",
       "      <td>87439.03</td>\n",
       "    </tr>\n",
       "    <tr>\n",
       "      <th>4</th>\n",
       "      <td>COUNCIL BLUFFS</td>\n",
       "      <td>2016</td>\n",
       "      <td>38</td>\n",
       "      <td>250016.18</td>\n",
       "      <td>17402</td>\n",
       "      <td>83399.73</td>\n",
       "    </tr>\n",
       "    <tr>\n",
       "      <th>5</th>\n",
       "      <td>IOWA CITY</td>\n",
       "      <td>2016</td>\n",
       "      <td>25</td>\n",
       "      <td>232506.06</td>\n",
       "      <td>18289</td>\n",
       "      <td>77568.16</td>\n",
       "    </tr>\n",
       "    <tr>\n",
       "      <th>6</th>\n",
       "      <td>WATERLOO</td>\n",
       "      <td>2016</td>\n",
       "      <td>40</td>\n",
       "      <td>228750.20</td>\n",
       "      <td>20717</td>\n",
       "      <td>76321.35</td>\n",
       "    </tr>\n",
       "    <tr>\n",
       "      <th>7</th>\n",
       "      <td>WEST DES MOINES</td>\n",
       "      <td>2016</td>\n",
       "      <td>29</td>\n",
       "      <td>222532.42</td>\n",
       "      <td>14210</td>\n",
       "      <td>74225.29</td>\n",
       "    </tr>\n",
       "    <tr>\n",
       "      <th>8</th>\n",
       "      <td>DUBUQUE</td>\n",
       "      <td>2016</td>\n",
       "      <td>28</td>\n",
       "      <td>179402.17</td>\n",
       "      <td>13430</td>\n",
       "      <td>59869.13</td>\n",
       "    </tr>\n",
       "    <tr>\n",
       "      <th>9</th>\n",
       "      <td>AMES</td>\n",
       "      <td>2016</td>\n",
       "      <td>24</td>\n",
       "      <td>169224.29</td>\n",
       "      <td>11785</td>\n",
       "      <td>56495.34</td>\n",
       "    </tr>\n",
       "    <tr>\n",
       "      <th>10</th>\n",
       "      <td>ANKENY</td>\n",
       "      <td>2016</td>\n",
       "      <td>21</td>\n",
       "      <td>120131.88</td>\n",
       "      <td>8413</td>\n",
       "      <td>40081.22</td>\n",
       "    </tr>\n",
       "    <tr>\n",
       "      <th>11</th>\n",
       "      <td>CEDAR FALLS</td>\n",
       "      <td>2016</td>\n",
       "      <td>17</td>\n",
       "      <td>114712.91</td>\n",
       "      <td>8823</td>\n",
       "      <td>38279.00</td>\n",
       "    </tr>\n",
       "    <tr>\n",
       "      <th>12</th>\n",
       "      <td>BETTENDORF</td>\n",
       "      <td>2016</td>\n",
       "      <td>11</td>\n",
       "      <td>108016.44</td>\n",
       "      <td>7202</td>\n",
       "      <td>36040.39</td>\n",
       "    </tr>\n",
       "    <tr>\n",
       "      <th>13</th>\n",
       "      <td>CORALVILLE</td>\n",
       "      <td>2016</td>\n",
       "      <td>12</td>\n",
       "      <td>100892.95</td>\n",
       "      <td>6466</td>\n",
       "      <td>33658.70</td>\n",
       "    </tr>\n",
       "    <tr>\n",
       "      <th>14</th>\n",
       "      <td>FORT DODGE</td>\n",
       "      <td>2016</td>\n",
       "      <td>16</td>\n",
       "      <td>87942.97</td>\n",
       "      <td>6850</td>\n",
       "      <td>29521.54</td>\n",
       "    </tr>\n",
       "    <tr>\n",
       "      <th>15</th>\n",
       "      <td>WINDSOR HEIGHTS</td>\n",
       "      <td>2016</td>\n",
       "      <td>6</td>\n",
       "      <td>83995.76</td>\n",
       "      <td>5438</td>\n",
       "      <td>28050.28</td>\n",
       "    </tr>\n",
       "    <tr>\n",
       "      <th>16</th>\n",
       "      <td>MASON CITY</td>\n",
       "      <td>2016</td>\n",
       "      <td>14</td>\n",
       "      <td>83627.76</td>\n",
       "      <td>6853</td>\n",
       "      <td>27928.06</td>\n",
       "    </tr>\n",
       "    <tr>\n",
       "      <th>17</th>\n",
       "      <td>KEOKUK</td>\n",
       "      <td>2016</td>\n",
       "      <td>7</td>\n",
       "      <td>74122.70</td>\n",
       "      <td>4749</td>\n",
       "      <td>24717.61</td>\n",
       "    </tr>\n",
       "    <tr>\n",
       "      <th>18</th>\n",
       "      <td>MARSHALLTOWN</td>\n",
       "      <td>2016</td>\n",
       "      <td>11</td>\n",
       "      <td>71585.25</td>\n",
       "      <td>5508</td>\n",
       "      <td>23877.36</td>\n",
       "    </tr>\n",
       "    <tr>\n",
       "      <th>19</th>\n",
       "      <td>BURLINGTON</td>\n",
       "      <td>2016</td>\n",
       "      <td>14</td>\n",
       "      <td>65448.23</td>\n",
       "      <td>5854</td>\n",
       "      <td>21844.13</td>\n",
       "    </tr>\n",
       "    <tr>\n",
       "      <th>20</th>\n",
       "      <td>CLINTON</td>\n",
       "      <td>2016</td>\n",
       "      <td>11</td>\n",
       "      <td>64118.22</td>\n",
       "      <td>5495</td>\n",
       "      <td>21396.18</td>\n",
       "    </tr>\n",
       "    <tr>\n",
       "      <th>21</th>\n",
       "      <td>MUSCATINE</td>\n",
       "      <td>2016</td>\n",
       "      <td>14</td>\n",
       "      <td>58586.95</td>\n",
       "      <td>4726</td>\n",
       "      <td>19542.14</td>\n",
       "    </tr>\n",
       "    <tr>\n",
       "      <th>22</th>\n",
       "      <td>URBANDALE</td>\n",
       "      <td>2016</td>\n",
       "      <td>16</td>\n",
       "      <td>58340.13</td>\n",
       "      <td>4600</td>\n",
       "      <td>19465.39</td>\n",
       "    </tr>\n",
       "    <tr>\n",
       "      <th>23</th>\n",
       "      <td>ALTOONA</td>\n",
       "      <td>2016</td>\n",
       "      <td>9</td>\n",
       "      <td>57378.10</td>\n",
       "      <td>4923</td>\n",
       "      <td>19151.93</td>\n",
       "    </tr>\n",
       "    <tr>\n",
       "      <th>24</th>\n",
       "      <td>MOUNT VERNON</td>\n",
       "      <td>2016</td>\n",
       "      <td>2</td>\n",
       "      <td>57144.94</td>\n",
       "      <td>4348</td>\n",
       "      <td>19071.09</td>\n",
       "    </tr>\n",
       "    <tr>\n",
       "      <th>25</th>\n",
       "      <td>MARION</td>\n",
       "      <td>2016</td>\n",
       "      <td>11</td>\n",
       "      <td>46533.15</td>\n",
       "      <td>3793</td>\n",
       "      <td>15526.28</td>\n",
       "    </tr>\n",
       "    <tr>\n",
       "      <th>26</th>\n",
       "      <td>CLEAR LAKE</td>\n",
       "      <td>2016</td>\n",
       "      <td>6</td>\n",
       "      <td>43020.86</td>\n",
       "      <td>3049</td>\n",
       "      <td>14353.58</td>\n",
       "    </tr>\n",
       "    <tr>\n",
       "      <th>27</th>\n",
       "      <td>OTTUMWA</td>\n",
       "      <td>2016</td>\n",
       "      <td>9</td>\n",
       "      <td>42738.36</td>\n",
       "      <td>3322</td>\n",
       "      <td>14255.19</td>\n",
       "    </tr>\n",
       "    <tr>\n",
       "      <th>28</th>\n",
       "      <td>WAUKEE</td>\n",
       "      <td>2016</td>\n",
       "      <td>5</td>\n",
       "      <td>40910.84</td>\n",
       "      <td>2869</td>\n",
       "      <td>13656.14</td>\n",
       "    </tr>\n",
       "    <tr>\n",
       "      <th>29</th>\n",
       "      <td>STORM LAKE</td>\n",
       "      <td>2016</td>\n",
       "      <td>9</td>\n",
       "      <td>38541.09</td>\n",
       "      <td>3087</td>\n",
       "      <td>13004.27</td>\n",
       "    </tr>\n",
       "    <tr>\n",
       "      <th>...</th>\n",
       "      <td>...</td>\n",
       "      <td>...</td>\n",
       "      <td>...</td>\n",
       "      <td>...</td>\n",
       "      <td>...</td>\n",
       "      <td>...</td>\n",
       "    </tr>\n",
       "    <tr>\n",
       "      <th>346</th>\n",
       "      <td>VAN METER</td>\n",
       "      <td>2016</td>\n",
       "      <td>1</td>\n",
       "      <td>407.52</td>\n",
       "      <td>54</td>\n",
       "      <td>136.02</td>\n",
       "    </tr>\n",
       "    <tr>\n",
       "      <th>347</th>\n",
       "      <td>GILBERTVILLE</td>\n",
       "      <td>2016</td>\n",
       "      <td>1</td>\n",
       "      <td>407.61</td>\n",
       "      <td>33</td>\n",
       "      <td>135.93</td>\n",
       "    </tr>\n",
       "    <tr>\n",
       "      <th>348</th>\n",
       "      <td>VICTOR</td>\n",
       "      <td>2016</td>\n",
       "      <td>2</td>\n",
       "      <td>392.46</td>\n",
       "      <td>22</td>\n",
       "      <td>130.86</td>\n",
       "    </tr>\n",
       "    <tr>\n",
       "      <th>349</th>\n",
       "      <td>Cumming</td>\n",
       "      <td>2016</td>\n",
       "      <td>1</td>\n",
       "      <td>361.56</td>\n",
       "      <td>36</td>\n",
       "      <td>120.60</td>\n",
       "    </tr>\n",
       "    <tr>\n",
       "      <th>350</th>\n",
       "      <td>ARMSTRONG</td>\n",
       "      <td>2016</td>\n",
       "      <td>1</td>\n",
       "      <td>351.18</td>\n",
       "      <td>36</td>\n",
       "      <td>117.18</td>\n",
       "    </tr>\n",
       "    <tr>\n",
       "      <th>351</th>\n",
       "      <td>LATIMER</td>\n",
       "      <td>2016</td>\n",
       "      <td>1</td>\n",
       "      <td>347.40</td>\n",
       "      <td>30</td>\n",
       "      <td>115.80</td>\n",
       "    </tr>\n",
       "    <tr>\n",
       "      <th>352</th>\n",
       "      <td>EXIRA</td>\n",
       "      <td>2016</td>\n",
       "      <td>1</td>\n",
       "      <td>338.34</td>\n",
       "      <td>54</td>\n",
       "      <td>112.86</td>\n",
       "    </tr>\n",
       "    <tr>\n",
       "      <th>353</th>\n",
       "      <td>MINDEN</td>\n",
       "      <td>2016</td>\n",
       "      <td>1</td>\n",
       "      <td>325.50</td>\n",
       "      <td>30</td>\n",
       "      <td>110.10</td>\n",
       "    </tr>\n",
       "    <tr>\n",
       "      <th>354</th>\n",
       "      <td>TABOR</td>\n",
       "      <td>2016</td>\n",
       "      <td>1</td>\n",
       "      <td>327.18</td>\n",
       "      <td>15</td>\n",
       "      <td>109.08</td>\n",
       "    </tr>\n",
       "    <tr>\n",
       "      <th>355</th>\n",
       "      <td>REINBECK</td>\n",
       "      <td>2016</td>\n",
       "      <td>1</td>\n",
       "      <td>321.81</td>\n",
       "      <td>37</td>\n",
       "      <td>107.33</td>\n",
       "    </tr>\n",
       "    <tr>\n",
       "      <th>356</th>\n",
       "      <td>ARNOLD'S PARK</td>\n",
       "      <td>2016</td>\n",
       "      <td>1</td>\n",
       "      <td>317.33</td>\n",
       "      <td>21</td>\n",
       "      <td>105.81</td>\n",
       "    </tr>\n",
       "    <tr>\n",
       "      <th>357</th>\n",
       "      <td>ELDON</td>\n",
       "      <td>2016</td>\n",
       "      <td>1</td>\n",
       "      <td>309.11</td>\n",
       "      <td>42</td>\n",
       "      <td>103.13</td>\n",
       "    </tr>\n",
       "    <tr>\n",
       "      <th>358</th>\n",
       "      <td>MARTENSDALE</td>\n",
       "      <td>2016</td>\n",
       "      <td>1</td>\n",
       "      <td>308.88</td>\n",
       "      <td>30</td>\n",
       "      <td>103.02</td>\n",
       "    </tr>\n",
       "    <tr>\n",
       "      <th>359</th>\n",
       "      <td>DELHI</td>\n",
       "      <td>2016</td>\n",
       "      <td>1</td>\n",
       "      <td>299.89</td>\n",
       "      <td>36</td>\n",
       "      <td>100.84</td>\n",
       "    </tr>\n",
       "    <tr>\n",
       "      <th>360</th>\n",
       "      <td>GILMORE CITY</td>\n",
       "      <td>2016</td>\n",
       "      <td>1</td>\n",
       "      <td>298.80</td>\n",
       "      <td>36</td>\n",
       "      <td>99.72</td>\n",
       "    </tr>\n",
       "    <tr>\n",
       "      <th>361</th>\n",
       "      <td>WALKER</td>\n",
       "      <td>2016</td>\n",
       "      <td>1</td>\n",
       "      <td>277.68</td>\n",
       "      <td>24</td>\n",
       "      <td>92.64</td>\n",
       "    </tr>\n",
       "    <tr>\n",
       "      <th>362</th>\n",
       "      <td>PRINCETON</td>\n",
       "      <td>2016</td>\n",
       "      <td>1</td>\n",
       "      <td>270.65</td>\n",
       "      <td>40</td>\n",
       "      <td>90.23</td>\n",
       "    </tr>\n",
       "    <tr>\n",
       "      <th>363</th>\n",
       "      <td>EARLHAM</td>\n",
       "      <td>2016</td>\n",
       "      <td>1</td>\n",
       "      <td>255.42</td>\n",
       "      <td>18</td>\n",
       "      <td>85.17</td>\n",
       "    </tr>\n",
       "    <tr>\n",
       "      <th>364</th>\n",
       "      <td>HUMESTON</td>\n",
       "      <td>2016</td>\n",
       "      <td>1</td>\n",
       "      <td>246.75</td>\n",
       "      <td>34</td>\n",
       "      <td>82.32</td>\n",
       "    </tr>\n",
       "    <tr>\n",
       "      <th>365</th>\n",
       "      <td>DONNELLSON</td>\n",
       "      <td>2016</td>\n",
       "      <td>1</td>\n",
       "      <td>230.88</td>\n",
       "      <td>48</td>\n",
       "      <td>77.04</td>\n",
       "    </tr>\n",
       "    <tr>\n",
       "      <th>366</th>\n",
       "      <td>DOWS</td>\n",
       "      <td>2016</td>\n",
       "      <td>1</td>\n",
       "      <td>190.32</td>\n",
       "      <td>24</td>\n",
       "      <td>63.48</td>\n",
       "    </tr>\n",
       "    <tr>\n",
       "      <th>367</th>\n",
       "      <td>ALTA</td>\n",
       "      <td>2016</td>\n",
       "      <td>1</td>\n",
       "      <td>188.40</td>\n",
       "      <td>24</td>\n",
       "      <td>62.88</td>\n",
       "    </tr>\n",
       "    <tr>\n",
       "      <th>368</th>\n",
       "      <td>DELMAR</td>\n",
       "      <td>2016</td>\n",
       "      <td>1</td>\n",
       "      <td>175.20</td>\n",
       "      <td>15</td>\n",
       "      <td>58.44</td>\n",
       "    </tr>\n",
       "    <tr>\n",
       "      <th>369</th>\n",
       "      <td>RUNNELLS</td>\n",
       "      <td>2016</td>\n",
       "      <td>1</td>\n",
       "      <td>159.48</td>\n",
       "      <td>24</td>\n",
       "      <td>53.22</td>\n",
       "    </tr>\n",
       "    <tr>\n",
       "      <th>370</th>\n",
       "      <td>NORA SPRINGS</td>\n",
       "      <td>2016</td>\n",
       "      <td>1</td>\n",
       "      <td>119.22</td>\n",
       "      <td>9</td>\n",
       "      <td>39.75</td>\n",
       "    </tr>\n",
       "    <tr>\n",
       "      <th>371</th>\n",
       "      <td>OTHO</td>\n",
       "      <td>2016</td>\n",
       "      <td>1</td>\n",
       "      <td>102.06</td>\n",
       "      <td>6</td>\n",
       "      <td>34.02</td>\n",
       "    </tr>\n",
       "    <tr>\n",
       "      <th>372</th>\n",
       "      <td>MELBOURNE</td>\n",
       "      <td>2016</td>\n",
       "      <td>1</td>\n",
       "      <td>94.20</td>\n",
       "      <td>12</td>\n",
       "      <td>31.44</td>\n",
       "    </tr>\n",
       "    <tr>\n",
       "      <th>373</th>\n",
       "      <td>BUSSEY</td>\n",
       "      <td>2016</td>\n",
       "      <td>1</td>\n",
       "      <td>69.06</td>\n",
       "      <td>6</td>\n",
       "      <td>23.04</td>\n",
       "    </tr>\n",
       "    <tr>\n",
       "      <th>374</th>\n",
       "      <td>EVERLY</td>\n",
       "      <td>2016</td>\n",
       "      <td>1</td>\n",
       "      <td>67.50</td>\n",
       "      <td>2</td>\n",
       "      <td>22.50</td>\n",
       "    </tr>\n",
       "    <tr>\n",
       "      <th>375</th>\n",
       "      <td>ROBINS</td>\n",
       "      <td>2016</td>\n",
       "      <td>1</td>\n",
       "      <td>33.60</td>\n",
       "      <td>5</td>\n",
       "      <td>11.20</td>\n",
       "    </tr>\n",
       "  </tbody>\n",
       "</table>\n",
       "<p>376 rows × 6 columns</p>\n",
       "</div>"
      ],
      "text/plain": [
       "                City  Year  TotalNoStores  TotalSaleDollars  TotalBottlesSold  \\\n",
       "0         DES MOINES  2016             76         814355.45             65250   \n",
       "1       CEDAR RAPIDS  2016             71         437361.85             34805   \n",
       "2          DAVENPORT  2016             44         319680.64             30601   \n",
       "3         SIOUX CITY  2016             34         261621.86             18845   \n",
       "4     COUNCIL BLUFFS  2016             38         250016.18             17402   \n",
       "5          IOWA CITY  2016             25         232506.06             18289   \n",
       "6           WATERLOO  2016             40         228750.20             20717   \n",
       "7    WEST DES MOINES  2016             29         222532.42             14210   \n",
       "8            DUBUQUE  2016             28         179402.17             13430   \n",
       "9               AMES  2016             24         169224.29             11785   \n",
       "10            ANKENY  2016             21         120131.88              8413   \n",
       "11       CEDAR FALLS  2016             17         114712.91              8823   \n",
       "12        BETTENDORF  2016             11         108016.44              7202   \n",
       "13        CORALVILLE  2016             12         100892.95              6466   \n",
       "14        FORT DODGE  2016             16          87942.97              6850   \n",
       "15   WINDSOR HEIGHTS  2016              6          83995.76              5438   \n",
       "16        MASON CITY  2016             14          83627.76              6853   \n",
       "17            KEOKUK  2016              7          74122.70              4749   \n",
       "18      MARSHALLTOWN  2016             11          71585.25              5508   \n",
       "19        BURLINGTON  2016             14          65448.23              5854   \n",
       "20           CLINTON  2016             11          64118.22              5495   \n",
       "21         MUSCATINE  2016             14          58586.95              4726   \n",
       "22         URBANDALE  2016             16          58340.13              4600   \n",
       "23           ALTOONA  2016              9          57378.10              4923   \n",
       "24      MOUNT VERNON  2016              2          57144.94              4348   \n",
       "25            MARION  2016             11          46533.15              3793   \n",
       "26        CLEAR LAKE  2016              6          43020.86              3049   \n",
       "27           OTTUMWA  2016              9          42738.36              3322   \n",
       "28            WAUKEE  2016              5          40910.84              2869   \n",
       "29        STORM LAKE  2016              9          38541.09              3087   \n",
       "..               ...   ...            ...               ...               ...   \n",
       "346        VAN METER  2016              1            407.52                54   \n",
       "347     GILBERTVILLE  2016              1            407.61                33   \n",
       "348           VICTOR  2016              2            392.46                22   \n",
       "349          Cumming  2016              1            361.56                36   \n",
       "350        ARMSTRONG  2016              1            351.18                36   \n",
       "351          LATIMER  2016              1            347.40                30   \n",
       "352            EXIRA  2016              1            338.34                54   \n",
       "353           MINDEN  2016              1            325.50                30   \n",
       "354            TABOR  2016              1            327.18                15   \n",
       "355         REINBECK  2016              1            321.81                37   \n",
       "356    ARNOLD'S PARK  2016              1            317.33                21   \n",
       "357            ELDON  2016              1            309.11                42   \n",
       "358      MARTENSDALE  2016              1            308.88                30   \n",
       "359            DELHI  2016              1            299.89                36   \n",
       "360     GILMORE CITY  2016              1            298.80                36   \n",
       "361           WALKER  2016              1            277.68                24   \n",
       "362        PRINCETON  2016              1            270.65                40   \n",
       "363          EARLHAM  2016              1            255.42                18   \n",
       "364         HUMESTON  2016              1            246.75                34   \n",
       "365       DONNELLSON  2016              1            230.88                48   \n",
       "366             DOWS  2016              1            190.32                24   \n",
       "367             ALTA  2016              1            188.40                24   \n",
       "368           DELMAR  2016              1            175.20                15   \n",
       "369         RUNNELLS  2016              1            159.48                24   \n",
       "370     NORA SPRINGS  2016              1            119.22                 9   \n",
       "371             OTHO  2016              1            102.06                 6   \n",
       "372        MELBOURNE  2016              1             94.20                12   \n",
       "373           BUSSEY  2016              1             69.06                 6   \n",
       "374           EVERLY  2016              1             67.50                 2   \n",
       "375           ROBINS  2016              1             33.60                 5   \n",
       "\n",
       "     TotalTaxDollars  \n",
       "0          271700.52  \n",
       "1          145953.13  \n",
       "2          106653.37  \n",
       "3           87439.03  \n",
       "4           83399.73  \n",
       "5           77568.16  \n",
       "6           76321.35  \n",
       "7           74225.29  \n",
       "8           59869.13  \n",
       "9           56495.34  \n",
       "10          40081.22  \n",
       "11          38279.00  \n",
       "12          36040.39  \n",
       "13          33658.70  \n",
       "14          29521.54  \n",
       "15          28050.28  \n",
       "16          27928.06  \n",
       "17          24717.61  \n",
       "18          23877.36  \n",
       "19          21844.13  \n",
       "20          21396.18  \n",
       "21          19542.14  \n",
       "22          19465.39  \n",
       "23          19151.93  \n",
       "24          19071.09  \n",
       "25          15526.28  \n",
       "26          14353.58  \n",
       "27          14255.19  \n",
       "28          13656.14  \n",
       "29          13004.27  \n",
       "..               ...  \n",
       "346           136.02  \n",
       "347           135.93  \n",
       "348           130.86  \n",
       "349           120.60  \n",
       "350           117.18  \n",
       "351           115.80  \n",
       "352           112.86  \n",
       "353           110.10  \n",
       "354           109.08  \n",
       "355           107.33  \n",
       "356           105.81  \n",
       "357           103.13  \n",
       "358           103.02  \n",
       "359           100.84  \n",
       "360            99.72  \n",
       "361            92.64  \n",
       "362            90.23  \n",
       "363            85.17  \n",
       "364            82.32  \n",
       "365            77.04  \n",
       "366            63.48  \n",
       "367            62.88  \n",
       "368            58.44  \n",
       "369            53.22  \n",
       "370            39.75  \n",
       "371            34.02  \n",
       "372            31.44  \n",
       "373            23.04  \n",
       "374            22.50  \n",
       "375            11.20  \n",
       "\n",
       "[376 rows x 6 columns]"
      ]
     },
     "execution_count": 62,
     "metadata": {},
     "output_type": "execute_result"
    }
   ],
   "source": [
    "#summaries by city\n",
    "totals_bycity3_df = df.groupby(['City', 'Year'])[\"BottlesSold\"].agg({'TotalBottlesSold':sum})\n",
    "totals_bycity3_df.reset_index(inplace=True)\n",
    "totals_bycity3_df.stack(level=0, dropna=True)\n",
    "totals_bycity3_df.head(3)\n",
    "\n",
    "totals_bycity2_df = df.groupby(['City', 'Year'])[\"SaleDollars\"].agg({'TotalSaleDollars':sum})\n",
    "totals_bycity2_df.reset_index(inplace=True)\n",
    "totals_bycity2_df.stack(level=0, dropna=True)\n",
    "totals_bycity2_df.head(3)\n",
    "\n",
    "totals_bycity1_df = df.groupby(['City', 'Year'])[\"StoreNumber\"].agg({'TotalNoStores':lambda x: x.nunique()})\n",
    "totals_bycity1_df.reset_index(inplace=True)\n",
    "totals_bycity1_df.stack(level=0, dropna=True)\n",
    "totals_bycity1_df.head(3)\n",
    "\n",
    "totals_bycity4_df = df.groupby(['City', 'Year'])[\"Tax\"].agg({'TotalTaxDollars':sum})\n",
    "totals_bycity4_df.reset_index(inplace=True)\n",
    "totals_bycity4_df.stack(level=0, dropna=True)\n",
    "totals_bycity4_df.head(3)\n",
    "\n",
    "#summaries by city . Merge Above dataframe to create a dataframe by city for plotting\n",
    "\n",
    "best_stores_2015_city = pd.merge(pd.merge(\\\n",
    "pd.merge(totals_bycity1_df[totals_bycity1_df['Year']==2015],\\\n",
    "                  totals_bycity2_df[totals_bycity2_df['Year']==2015], on=['City','Year'])\\\n",
    "        ,totals_bycity3_df[totals_bycity3_df['Year']==2015] , on=(['City', 'Year'])),\\\n",
    "                                   totals_bycity4_df[totals_bycity4_df['Year']==2015] , on=(['City', 'Year'])).sort_values('City')\n",
    "    \n",
    "    \n",
    "best_stores_2015_city.head(3)\n",
    "\n",
    "\n",
    "best_stores_2016_city = pd.merge(pd.merge(\\\n",
    "pd.merge(totals_bycity1_df[totals_bycity1_df['Year']==2016],\\\n",
    "                  totals_bycity2_df[totals_bycity2_df['Year']==2016], on=['City','Year'])\\\n",
    "        ,totals_bycity3_df[totals_bycity3_df['Year']==2016] , on=(['City', 'Year'])),\\\n",
    "                                   totals_bycity4_df[totals_bycity4_df['Year']==2016] , on=(['City', 'Year'])).sort_values('City')\n",
    "    \n",
    "best_stores_2015_city.head(3)\n",
    "    \n",
    "#sort by total prfit to know the 10 more Taxable counties YEAR 2015\n",
    "best_stores_2015_city = best_stores_2015_city.sort(['TotalTaxDollars'], ascending=[0])\n",
    "best_stores_2015_city.head(3)\n",
    "                             \n",
    "#sort by total prfit to know the 10 more Taxable counties YEAR 216\n",
    "\n",
    "best_stores_2016_city = best_stores_2016_city.sort(['TotalTaxDollars'], ascending=[0])\n",
    "best_stores_2016_city.head(3)                             \n",
    "\n",
    "best_stores_2015_city.reset_index(drop=True)\n",
    "best_stores_2016_city.reset_index(drop=True)"
   ]
  },
  {
   "cell_type": "code",
   "execution_count": 88,
   "metadata": {
    "collapsed": false
   },
   "outputs": [
    {
     "data": {
      "text/html": [
       "<div>\n",
       "<table border=\"1\" class=\"dataframe\">\n",
       "  <thead>\n",
       "    <tr style=\"text-align: right;\">\n",
       "      <th></th>\n",
       "      <th>County</th>\n",
       "      <th>TotalNoStores</th>\n",
       "      <th>TotalSaleDollars</th>\n",
       "      <th>TotalBottlesSold</th>\n",
       "      <th>StateBottleRetailMed</th>\n",
       "      <th>TotalNoVendors</th>\n",
       "      <th>Population</th>\n",
       "      <th>Average of LABORFORCE</th>\n",
       "      <th>Average of EMPLAB</th>\n",
       "      <th>Average of UNEMP</th>\n",
       "      <th>Average of UNEMPRATE</th>\n",
       "      <th>Prop. Male</th>\n",
       "      <th>Prop. Female</th>\n",
       "      <th>Prop. Population over 21</th>\n",
       "    </tr>\n",
       "  </thead>\n",
       "  <tbody>\n",
       "    <tr>\n",
       "      <th>0</th>\n",
       "      <td>Adair</td>\n",
       "      <td>8</td>\n",
       "      <td>55581.34</td>\n",
       "      <td>4653</td>\n",
       "      <td>12.300</td>\n",
       "      <td>30</td>\n",
       "      <td>7228</td>\n",
       "      <td>4268.33</td>\n",
       "      <td>4131.67</td>\n",
       "      <td>135.83</td>\n",
       "      <td>3.17</td>\n",
       "      <td>0.49</td>\n",
       "      <td>0.51</td>\n",
       "      <td>0.86</td>\n",
       "    </tr>\n",
       "    <tr>\n",
       "      <th>1</th>\n",
       "      <td>Adams</td>\n",
       "      <td>1</td>\n",
       "      <td>12441.71</td>\n",
       "      <td>955</td>\n",
       "      <td>13.545</td>\n",
       "      <td>26</td>\n",
       "      <td>3796</td>\n",
       "      <td>2300.83</td>\n",
       "      <td>2235.83</td>\n",
       "      <td>63.33</td>\n",
       "      <td>2.76</td>\n",
       "      <td>0.49</td>\n",
       "      <td>0.51</td>\n",
       "      <td>0.88</td>\n",
       "    </tr>\n",
       "    <tr>\n",
       "      <th>2</th>\n",
       "      <td>Allamakee</td>\n",
       "      <td>6</td>\n",
       "      <td>99024.76</td>\n",
       "      <td>7452</td>\n",
       "      <td>12.380</td>\n",
       "      <td>36</td>\n",
       "      <td>13886</td>\n",
       "      <td>7725.83</td>\n",
       "      <td>7354.17</td>\n",
       "      <td>373.33</td>\n",
       "      <td>4.83</td>\n",
       "      <td>0.51</td>\n",
       "      <td>0.49</td>\n",
       "      <td>0.86</td>\n",
       "    </tr>\n",
       "    <tr>\n",
       "      <th>3</th>\n",
       "      <td>Appanoose</td>\n",
       "      <td>6</td>\n",
       "      <td>98527.16</td>\n",
       "      <td>8176</td>\n",
       "      <td>11.810</td>\n",
       "      <td>36</td>\n",
       "      <td>12529</td>\n",
       "      <td>6255.83</td>\n",
       "      <td>5954.17</td>\n",
       "      <td>300.83</td>\n",
       "      <td>4.81</td>\n",
       "      <td>0.49</td>\n",
       "      <td>0.51</td>\n",
       "      <td>0.87</td>\n",
       "    </tr>\n",
       "    <tr>\n",
       "      <th>4</th>\n",
       "      <td>Audubon</td>\n",
       "      <td>4</td>\n",
       "      <td>19842.23</td>\n",
       "      <td>1721</td>\n",
       "      <td>11.240</td>\n",
       "      <td>20</td>\n",
       "      <td>5773</td>\n",
       "      <td>3251.67</td>\n",
       "      <td>3126.67</td>\n",
       "      <td>126.67</td>\n",
       "      <td>3.89</td>\n",
       "      <td>0.48</td>\n",
       "      <td>0.52</td>\n",
       "      <td>0.88</td>\n",
       "    </tr>\n",
       "  </tbody>\n",
       "</table>\n",
       "</div>"
      ],
      "text/plain": [
       "      County  TotalNoStores  TotalSaleDollars  TotalBottlesSold  \\\n",
       "0      Adair              8          55581.34              4653   \n",
       "1      Adams              1          12441.71               955   \n",
       "2  Allamakee              6          99024.76              7452   \n",
       "3  Appanoose              6          98527.16              8176   \n",
       "4    Audubon              4          19842.23              1721   \n",
       "\n",
       "   StateBottleRetailMed  TotalNoVendors  Population  Average of LABORFORCE  \\\n",
       "0                12.300              30        7228                4268.33   \n",
       "1                13.545              26        3796                2300.83   \n",
       "2                12.380              36       13886                7725.83   \n",
       "3                11.810              36       12529                6255.83   \n",
       "4                11.240              20        5773                3251.67   \n",
       "\n",
       "   Average of EMPLAB  Average of UNEMP  Average of UNEMPRATE  Prop. Male  \\\n",
       "0            4131.67            135.83                  3.17        0.49   \n",
       "1            2235.83             63.33                  2.76        0.49   \n",
       "2            7354.17            373.33                  4.83        0.51   \n",
       "3            5954.17            300.83                  4.81        0.49   \n",
       "4            3126.67            126.67                  3.89        0.48   \n",
       "\n",
       "   Prop. Female  Prop. Population over 21  \n",
       "0          0.51                      0.86  \n",
       "1          0.51                      0.88  \n",
       "2          0.49                      0.86  \n",
       "3          0.51                      0.87  \n",
       "4          0.52                      0.88  "
      ]
     },
     "execution_count": 88,
     "metadata": {},
     "output_type": "execute_result"
    }
   ],
   "source": [
    "#summaries by county\n",
    "\n",
    "totals_bycounty3_df = df.groupby(['County'])[\"BottlesSold\"].agg({'TotalBottlesSold':sum})\n",
    "totals_bycounty3_df.reset_index(inplace=True)\n",
    "totals_bycounty3_df.stack(level=0, dropna=True)\n",
    "totals_bycounty3_df.head(3)\n",
    "\n",
    "totals_bycounty2_df = df.groupby(['County'])[\"SaleDollars\"].agg({'TotalSaleDollars':sum})\n",
    "totals_bycounty2_df.reset_index(inplace=True)\n",
    "totals_bycounty2_df.stack(level=0, dropna=True)\n",
    "totals_bycounty2_df.head(3)\n",
    "\n",
    "totals_bycounty1_df = df.groupby(['County'])[\"StoreNumber\"].agg({'TotalNoStores':lambda x: x.nunique()})\n",
    "totals_bycounty1_df.reset_index(inplace=True)\n",
    "totals_bycounty1_df.stack(level=0, dropna=True)\n",
    "totals_bycounty1_df.head(3)\n",
    "\n",
    "totals_bycounty4_df = df.groupby(['County'])[\"StateBottleRetail\"].agg({'StateBottleRetailMed':np.median})\n",
    "totals_bycounty4_df.reset_index(inplace=True)\n",
    "totals_bycounty4_df.stack(level=0, dropna=True)\n",
    "totals_bycounty4_df.head(3)\n",
    "\n",
    "totals_bycounty5_df = df.groupby(['County'])[\"VendorNumber\"].agg({'TotalNoVendors':lambda x: x.nunique()})\n",
    "totals_bycounty5_df.reset_index(inplace=True)\n",
    "totals_bycounty5_df.stack(level=0, dropna=True)\n",
    "totals_bycounty5_df.head(3)\n",
    "\n",
    "best_stores_county = pd.merge(pd.merge(pd.merge(\\\n",
    "pd.merge(totals_bycounty1_df,\\\n",
    "                 totals_bycounty2_df, on=['County'])\\\n",
    "       ,totals_bycounty3_df , on=(['County'])),\\\n",
    "                                  totals_bycounty4_df), \\\n",
    "        totals_bycounty5_df, on=(['County'])).sort_values('County')\n",
    "\n",
    "result = pd.merge(best_stores_county, demo_df,  on='County')\n",
    "\n",
    "result = pd.merge(result, empl_df,  on='County')\n",
    "\n",
    "result = pd.merge(result, po21_df,  on='County')\n",
    "\n",
    "result.head()"
   ]
  },
  {
   "cell_type": "code",
   "execution_count": null,
   "metadata": {
    "collapsed": true
   },
   "outputs": [],
   "source": [
    "hist_df = df.groupby(['StoreNumber'])['VolumeSoldGallons', 'BottlesSold', 'StateBottleRetail', 'SaleDollars' ].agg([sum], margins=True)\n",
    "hist_df.head()"
   ]
  },
  {
   "cell_type": "markdown",
   "metadata": {},
   "source": [
    "Here we can take a look at the distribution of bottles in each order. The histograme below breaks the data into one bin for each bottle. We can see two major spikes in the data at 12 and 6. This is expected as a liquor is often sold as a case of 12 or a half case of 6. This histogram is affected by the size of each order so a store that makes two orders of 3 bottles versus one order of 6 bottles will affect the data. Below we've group the data by store to take a look at the distribution of how many bottles each store is odering. "
   ]
  },
  {
   "cell_type": "code",
   "execution_count": null,
   "metadata": {
    "collapsed": true
   },
   "outputs": [],
   "source": [
    "plt.hist(df['BottlesSold'], range=(0, 50), bins=50)\n",
    "plt.style.use('seaborn-deep')\n",
    "plt.xlabel('Bottles per Order')\n",
    "plt.ylabel('Frequency')\n",
    "plt.title(r'Histogram of Iowa Liquor Store Orders', y=1.08)\n",
    "plt.show()"
   ]
  },
  {
   "cell_type": "markdown",
   "metadata": {},
   "source": [
    "This histogram below shows how many bottles each store is odering. We can see that most stores order between about 250 and 750 bottles and then it begins to train off in a right skewed distribution. You should expect to sell somewhere around the mode of 312 the for any new stores that open. "
   ]
  },
  {
   "cell_type": "code",
   "execution_count": null,
   "metadata": {
    "collapsed": true
   },
   "outputs": [],
   "source": [
    "hist_df['BottlesSold'].hist(range=(0,3000), bins=20)\n",
    "plt.style.use('seaborn-deep')\n",
    "plt.xlabel('Bottles per Store')\n",
    "plt.ylabel('Frequency')\n",
    "plt.title(r'Histogram of Iowa Liquor Store Orders', y=1.08)\n",
    "plt.show()"
   ]
  },
  {
   "cell_type": "markdown",
   "metadata": {},
   "source": [
    "Taking a look at the distribution of Sales Dollars per order, we can see the majority of oders are small, and then follow a near perfect log-normal distribution trailing off as orders become more expensive. This is affected by the buying habits of individual stores. Namely, do they make frequent small purchases or few large purchases. We'll group it by individual stores below. "
   ]
  },
  {
   "cell_type": "code",
   "execution_count": null,
   "metadata": {
    "collapsed": true
   },
   "outputs": [],
   "source": [
    "ax = plt.hist(df['SaleDollars'], range=(0, 500), bins=20)\n",
    "plt.style.use('seaborn-deep')\n",
    "plt.xlabel('Sales($) by Order')\n",
    "plt.ylabel('Frequency')\n",
    "plt.title(r'Histogram of Iowa Liquor Sales', y=1.08)\n",
    "plt.show()"
   ]
  },
  {
   "cell_type": "markdown",
   "metadata": {},
   "source": [
    "The histogram below shows the distribution by store of much sales the state makes to those individual stores. We can see a skewed right distribution. Most stores purchase between $2,500 and $7,500. However, we can see there is a fatter tail than some of the distributions. Any new store that opens should expect to fall somewhere around the mode of this distribution. "
   ]
  },
  {
   "cell_type": "code",
   "execution_count": null,
   "metadata": {
    "collapsed": true
   },
   "outputs": [],
   "source": [
    "hist_df['SaleDollars'].hist(range=(0,40000), bins= 40)\n",
    "plt.style.use('seaborn-deep')\n",
    "plt.xlabel('Sales per Store')\n",
    "plt.ylabel('Frequency')\n",
    "plt.title(r'Histogram of Iowa Liquor Store Purchases', y=1.08)\n",
    "plt.show()"
   ]
  },
  {
   "cell_type": "code",
   "execution_count": null,
   "metadata": {
    "collapsed": true
   },
   "outputs": [],
   "source": []
  },
  {
   "cell_type": "markdown",
   "metadata": {},
   "source": [
    "## Record your findings\n",
    "\n",
    "Be sure to write out anything observations from your exploratory analysis."
   ]
  },
  {
   "cell_type": "markdown",
   "metadata": {},
   "source": [
    "# Mine the data\n",
    "Now you are ready to compute the variables you will use for your regression from the data. For example, you may want to\n",
    "compute total sales per store from Jan to March of 2015, mean price per bottle, etc. Refer to the readme for more ideas appropriate to your scenario.\n",
    "\n",
    "Pandas is your friend for this task. Take a look at the operations [here](http://pandas.pydata.org/pandas-docs/stable/groupby.html) for ideas on how to make the best use of pandas and feel free to search for blog and Stack Overflow posts to help you group data by certain variables and compute sums, means, etc. You may find it useful to create a new data frame to house this summary data."
   ]
  },
  {
   "cell_type": "markdown",
   "metadata": {},
   "source": [
    "# Refine the data\n",
    "Look for any statistical relationships, correlations, or other relevant properties of the dataset."
   ]
  },
  {
   "cell_type": "code",
   "execution_count": null,
   "metadata": {
    "collapsed": false
   },
   "outputs": [],
   "source": [
    "df.head(3)"
   ]
  },
  {
   "cell_type": "markdown",
   "metadata": {},
   "source": [
    "# Build your models\n",
    "\n",
    "Using scikit-learn or statsmodels, build the necessary models for your scenario. Evaluate model fit."
   ]
  },
  {
   "cell_type": "code",
   "execution_count": 97,
   "metadata": {
    "collapsed": false
   },
   "outputs": [],
   "source": [
    "#Create a dummy for county\n",
    "county_dummy = {}\n",
    "counter = 0\n",
    "for i in df['County'].unique():\n",
    "    county_dummy[i] = counter\n",
    "    counter += 1\n",
    "result['county_dummy'] = result['County'].map(county_dummy)"
   ]
  },
  {
   "cell_type": "code",
   "execution_count": 104,
   "metadata": {
    "collapsed": false
   },
   "outputs": [
    {
     "ename": "NameError",
     "evalue": "name 'results' is not defined",
     "output_type": "error",
     "traceback": [
      "\u001b[0;31m---------------------------------------------------------------------------\u001b[0m",
      "\u001b[0;31mNameError\u001b[0m                                 Traceback (most recent call last)",
      "\u001b[0;32m<ipython-input-104-e596fc4f5b43>\u001b[0m in \u001b[0;36m<module>\u001b[0;34m()\u001b[0m\n\u001b[1;32m      1\u001b[0m \u001b[0;32mfor\u001b[0m \u001b[0miv\u001b[0m \u001b[0;32min\u001b[0m \u001b[0mresult\u001b[0m\u001b[0;34m.\u001b[0m\u001b[0mcolumns\u001b[0m\u001b[0;34m.\u001b[0m\u001b[0mvalues\u001b[0m\u001b[0;34m:\u001b[0m\u001b[0;34m\u001b[0m\u001b[0m\n\u001b[0;32m----> 2\u001b[0;31m     \u001b[0msns\u001b[0m\u001b[0;34m.\u001b[0m\u001b[0mjointplot\u001b[0m\u001b[0;34m(\u001b[0m\u001b[0mx\u001b[0m\u001b[0;34m=\u001b[0m\u001b[0mresults\u001b[0m\u001b[0;34m[\u001b[0m\u001b[0miv\u001b[0m\u001b[0;34m]\u001b[0m\u001b[0;34m,\u001b[0m \u001b[0my\u001b[0m\u001b[0;34m=\u001b[0m\u001b[0mtargets\u001b[0m\u001b[0;34m[\u001b[0m\u001b[0;34m'TotalSaleDollars'\u001b[0m\u001b[0;34m]\u001b[0m\u001b[0;34m)\u001b[0m\u001b[0;34m\u001b[0m\u001b[0m\n\u001b[0m",
      "\u001b[0;31mNameError\u001b[0m: name 'results' is not defined"
     ]
    }
   ],
   "source": [
    "# for iv in result.columns.values:\n",
    "#     sns.jointplot(x=results[iv], y=targets['TotalSaleDollars'])"
   ]
  },
  {
   "cell_type": "code",
   "execution_count": 106,
   "metadata": {
    "collapsed": false
   },
   "outputs": [
    {
     "data": {
      "text/plain": [
       "<matplotlib.axes._subplots.AxesSubplot at 0x11b41c090>"
      ]
     },
     "execution_count": 106,
     "metadata": {},
     "output_type": "execute_result"
    },
    {
     "data": {
      "image/png": "[encoded data removed]",
      "text/plain": [
       "<matplotlib.figure.Figure at 0x11ae82e50>"
      ]
     },
     "metadata": {},
     "output_type": "display_data"
    }
   ],
   "source": [
    "sns.set(rc={\"figure.figsize\": (8, 8)});\n",
    "sns.heatmap(result.corr())"
   ]
  },
  {
   "cell_type": "code",
   "execution_count": null,
   "metadata": {
    "collapsed": true
   },
   "outputs": [],
   "source": [
    "# For our model, our features are: \n",
    "# 1.Total number of stores, \n",
    "# 2.total bottles sold\n",
    "# 3.total number of vendors (variety of product in store increases sales)\n",
    "# 4.county_dummy\n",
    "# 5.Average of LABORFORCE"
   ]
  },
  {
   "cell_type": "code",
   "execution_count": 176,
   "metadata": {
    "collapsed": false
   },
   "outputs": [
    {
     "data": {
      "text/plain": [
       "array([  5.55813400e+04,   1.24417100e+04,   9.90247600e+04,\n",
       "         9.85271600e+04,   1.98422300e+04,   8.00636100e+04,\n",
       "         1.93996530e+06,   2.53390130e+05,   2.07252090e+05,\n",
       "         2.86780170e+05,   2.14559380e+05,   3.40996300e+04,\n",
       "         3.59925300e+04,   3.07335410e+05,   1.31086830e+05,\n",
       "         7.29537300e+04,   6.98364650e+05,   8.72938400e+04,\n",
       "         4.44572600e+04,   7.91767800e+04,   1.77249820e+05,\n",
       "         8.98331300e+04,   4.22759470e+05,   1.55494180e+05,\n",
       "         2.64294820e+05,   1.31975200e+04,   1.98052800e+04,\n",
       "         1.01095240e+05,   4.68105530e+05,   4.53477250e+05,\n",
       "         1.08938538e+06,   6.82194700e+04,   1.55308380e+05,\n",
       "         1.49402510e+05,   6.47486400e+04,   3.55763000e+03,\n",
       "         7.49232600e+04,   3.89583100e+04,   3.78666900e+04,\n",
       "         1.04248010e+05,   3.70148400e+04,   1.54759200e+05,\n",
       "         6.47571300e+04,   1.46004480e+05,   9.51462200e+04,\n",
       "         6.14282500e+04,   7.61940800e+04,   8.97792770e+05,\n",
       "         1.55546030e+05,   3.83955100e+04,   1.04475230e+05,\n",
       "         1.96255383e+06,   1.25650780e+05,   1.91071100e+04,\n",
       "         2.20696940e+05,   4.86037980e+05,   3.16547195e+06,\n",
       "         3.07026100e+04,   4.82003900e+04,   9.64055500e+04,\n",
       "         1.00211410e+05,   2.90096000e+03,   2.41943410e+05,\n",
       "         3.50584750e+05,   5.54199600e+04,   5.14538500e+04,\n",
       "         6.77795300e+04,   3.39010000e+04,   7.89790600e+04,\n",
       "         3.58164340e+05,   1.65575720e+05,   3.03576300e+04,\n",
       "         1.36951990e+05,   7.15642600e+04,   1.71437020e+05,\n",
       "         4.47933300e+04,   8.12185445e+06,   1.28069505e+06,\n",
       "         1.66091180e+05,   1.82807700e+04,   6.40232300e+04,\n",
       "         1.85763722e+06,   1.04073530e+05,   1.96484350e+05,\n",
       "         1.07527294e+06,   7.80706400e+04,   1.49810900e+04,\n",
       "         1.16084550e+05,   2.15659700e+04,   3.30366160e+05,\n",
       "         3.08798420e+05,   1.74254550e+05,   1.34032400e+04,\n",
       "         6.82903220e+05,   9.53589600e+04,   1.49154740e+05,\n",
       "         1.26900168e+06,   3.76392900e+04,   9.22695600e+04])"
      ]
     },
     "execution_count": 176,
     "metadata": {},
     "output_type": "execute_result"
    }
   ],
   "source": [
    "result_features = {'County_Dummy':result['county_dummy'].values,'Total_No_Stores':result['TotalNoStores'].values, 'Total_Bottles_Sold':result['TotalBottlesSold'].values, 'Total_No_Vendors':result['TotalNoVendors'], 'Average_Laborforce':result['Average of LABORFORCE']}\n",
    "result_label = [item for item in result['TotalSaleDollars'].values]  \n",
    "np.asarray(result_label)"
   ]
  },
  {
   "cell_type": "code",
   "execution_count": 177,
   "metadata": {
    "collapsed": true
   },
   "outputs": [],
   "source": [
    "X = pd.DataFrame(result_features)\n",
    "y = result_label"
   ]
  },
  {
   "cell_type": "code",
   "execution_count": 178,
   "metadata": {
    "collapsed": false
   },
   "outputs": [
    {
     "data": {
      "text/plain": [
       "LinearRegression(copy_X=True, fit_intercept=True, n_jobs=1, normalize=False)"
      ]
     },
     "execution_count": 178,
     "metadata": {},
     "output_type": "execute_result"
    }
   ],
   "source": [
    "lr = linear_model.LinearRegression()\n",
    "lr_model = lr.fit(X,y)\n",
    "lr_model"
   ]
  },
  {
   "cell_type": "code",
   "execution_count": 179,
   "metadata": {
    "collapsed": false
   },
   "outputs": [
    {
     "data": {
      "text/plain": [
       "0.99613143992353048"
      ]
     },
     "execution_count": 179,
     "metadata": {},
     "output_type": "execute_result"
    }
   ],
   "source": [
    "y_true = np.array(y)\n",
    "y_pred = lr_model.predict(X)\n",
    "\n",
    "lr_r2 =  r2_score(y_true=y_true, y_pred=y_pred)\n",
    "lr_r2"
   ]
  },
  {
   "cell_type": "markdown",
   "metadata": {},
   "source": [
    "## Plot your results\n",
    "\n",
    "Again make sure that you record any valuable information. For example, in the tax scenario, did you find the sales from the first three months of the year to be a good predictor of the total sales for the year? Plot the predictions versus the true values and discuss the successes and limitations of your models"
   ]
  },
  {
   "cell_type": "code",
   "execution_count": 181,
   "metadata": {
    "collapsed": false
   },
   "outputs": [
    {
     "data": {
      "image/png": "[encoded data removed]",
      "text/plain": [
       "<matplotlib.figure.Figure at 0x11bf5b0d0>"
      ]
     },
     "metadata": {},
     "output_type": "display_data"
    }
   ],
   "source": [
    "plt.style.use('seaborn-white')\n",
    "\n",
    "ax = sns.regplot(y_pred, y_true)\n",
    "ax.figure.set_figheight(6)\n",
    "ax.figure.set_figwidth(14)\n",
    "plt.annotate('r-squared = ' + str(round(lr_r2,2)), xy=(41,-7), fontsize=12)\n",
    "ax.set_ylabel('Actual Values')\n",
    "ax.set_xlabel('Predicted Values')\n",
    "ax.set_title('Predicted vs. Actual Values');"
   ]
  },
  {
   "cell_type": "code",
   "execution_count": 119,
   "metadata": {
    "collapsed": false
   },
   "outputs": [
    {
     "data": {
      "text/plain": [
       "704.23344567447998"
      ]
     },
     "execution_count": 119,
     "metadata": {},
     "output_type": "execute_result"
    }
   ],
   "source": [
    "abs(lr_model.coef_).mean()"
   ]
  },
  {
   "cell_type": "code",
   "execution_count": 120,
   "metadata": {
    "collapsed": false
   },
   "outputs": [
    {
     "data": {
      "text/plain": [
       "570.01515441703373"
      ]
     },
     "execution_count": 120,
     "metadata": {},
     "output_type": "execute_result"
    }
   ],
   "source": [
    "lr_model.coef_.max()"
   ]
  },
  {
   "cell_type": "code",
   "execution_count": 121,
   "metadata": {
    "collapsed": false
   },
   "outputs": [],
   "source": [
    "lasso = linear_model.Lasso(alpha=1)"
   ]
  },
  {
   "cell_type": "code",
   "execution_count": 122,
   "metadata": {
    "collapsed": true
   },
   "outputs": [],
   "source": [
    "lasso_model = lasso.fit(X, y)"
   ]
  },
  {
   "cell_type": "code",
   "execution_count": 129,
   "metadata": {
    "collapsed": true
   },
   "outputs": [],
   "source": [
    "y_true_lasso = y\n",
    "y_pred_lasso = lasso_model.predict(X)\n",
    "\n",
    "lasso_r2 =  r2_score(y_true=y_true_lasso, y_pred=y_pred_lasso)"
   ]
  },
  {
   "cell_type": "code",
   "execution_count": 130,
   "metadata": {
    "collapsed": false
   },
   "outputs": [
    {
     "data": {
      "text/plain": [
       "0.99613143992338105"
      ]
     },
     "execution_count": 130,
     "metadata": {},
     "output_type": "execute_result"
    }
   ],
   "source": [
    "lasso_r2"
   ]
  },
  {
   "cell_type": "code",
   "execution_count": 138,
   "metadata": {
    "collapsed": false
   },
   "outputs": [
    {
     "data": {
      "image/png": "[encoded data removed]",
      "text/plain": [
       "<matplotlib.figure.Figure at 0x11a12fd50>"
      ]
     },
     "metadata": {},
     "output_type": "display_data"
    },
    {
     "name": "stdout",
     "output_type": "stream",
     "text": [
      "r^2: [ 0.94949724  0.98832043  0.98329862  0.99675497  0.97831623  0.99582871\n",
      "  0.9875558   0.98526293  0.94446785  0.99850153]\n"
     ]
    }
   ],
   "source": [
    "plt.style.use('seaborn-white')\n",
    "\n",
    "lr = linear_model.Lasso(normalize=True)\n",
    "predicted = cross_val_predict(lr, X, y, cv=10)\n",
    "\n",
    "fig, ax = plt.subplots()\n",
    "ax.scatter(y, predicted)\n",
    "\n",
    "ax.set_xlabel('Measured')\n",
    "ax.set_ylabel('Predicted')\n",
    "plt.show()\n",
    "print \"r^2:\", cross_val_score(lr, X, y, cv=10)"
   ]
  },
  {
   "cell_type": "code",
   "execution_count": 146,
   "metadata": {
    "collapsed": false
   },
   "outputs": [
    {
     "data": {
      "text/html": [
       "<div>\n",
       "<table border=\"1\" class=\"dataframe\">\n",
       "  <thead>\n",
       "    <tr style=\"text-align: right;\">\n",
       "      <th></th>\n",
       "      <th>index</th>\n",
       "      <th>County</th>\n",
       "      <th>TotalNoStores</th>\n",
       "      <th>TotalSaleDollars</th>\n",
       "      <th>TotalBottlesSold</th>\n",
       "      <th>StateBottleRetailMed</th>\n",
       "      <th>TotalNoVendors</th>\n",
       "      <th>Population</th>\n",
       "      <th>Average of LABORFORCE</th>\n",
       "      <th>Average of EMPLAB</th>\n",
       "      <th>Average of UNEMP</th>\n",
       "      <th>Average of UNEMPRATE</th>\n",
       "      <th>Prop. Male</th>\n",
       "      <th>Prop. Female</th>\n",
       "      <th>Prop. Population over 21</th>\n",
       "      <th>county_dummy</th>\n",
       "    </tr>\n",
       "  </thead>\n",
       "  <tbody>\n",
       "    <tr>\n",
       "      <th>0</th>\n",
       "      <td>76</td>\n",
       "      <td>Polk</td>\n",
       "      <td>210</td>\n",
       "      <td>8.121854e+06</td>\n",
       "      <td>596571</td>\n",
       "      <td>12.38</td>\n",
       "      <td>103</td>\n",
       "      <td>467711</td>\n",
       "      <td>255758.33</td>\n",
       "      <td>246600.00</td>\n",
       "      <td>9183.33</td>\n",
       "      <td>3.58</td>\n",
       "      <td>0.49</td>\n",
       "      <td>0.51</td>\n",
       "      <td>0.85</td>\n",
       "      <td>8</td>\n",
       "    </tr>\n",
       "    <tr>\n",
       "      <th>1</th>\n",
       "      <td>56</td>\n",
       "      <td>Linn</td>\n",
       "      <td>104</td>\n",
       "      <td>3.165472e+06</td>\n",
       "      <td>247691</td>\n",
       "      <td>11.76</td>\n",
       "      <td>78</td>\n",
       "      <td>219916</td>\n",
       "      <td>119816.67</td>\n",
       "      <td>115366.67</td>\n",
       "      <td>4458.33</td>\n",
       "      <td>3.71</td>\n",
       "      <td>0.49</td>\n",
       "      <td>0.51</td>\n",
       "      <td>0.86</td>\n",
       "      <td>5</td>\n",
       "    </tr>\n",
       "    <tr>\n",
       "      <th>2</th>\n",
       "      <td>51</td>\n",
       "      <td>Johnson</td>\n",
       "      <td>47</td>\n",
       "      <td>1.962554e+06</td>\n",
       "      <td>137611</td>\n",
       "      <td>12.38</td>\n",
       "      <td>84</td>\n",
       "      <td>144251</td>\n",
       "      <td>83891.67</td>\n",
       "      <td>81716.67</td>\n",
       "      <td>2191.67</td>\n",
       "      <td>2.60</td>\n",
       "      <td>0.50</td>\n",
       "      <td>0.50</td>\n",
       "      <td>0.87</td>\n",
       "      <td>12</td>\n",
       "    </tr>\n",
       "    <tr>\n",
       "      <th>3</th>\n",
       "      <td>6</td>\n",
       "      <td>Black Hawk</td>\n",
       "      <td>73</td>\n",
       "      <td>1.939965e+06</td>\n",
       "      <td>173653</td>\n",
       "      <td>11.43</td>\n",
       "      <td>70</td>\n",
       "      <td>133455</td>\n",
       "      <td>70491.67</td>\n",
       "      <td>67325.00</td>\n",
       "      <td>3166.67</td>\n",
       "      <td>4.50</td>\n",
       "      <td>0.49</td>\n",
       "      <td>0.51</td>\n",
       "      <td>0.87</td>\n",
       "      <td>2</td>\n",
       "    </tr>\n",
       "    <tr>\n",
       "      <th>4</th>\n",
       "      <td>81</td>\n",
       "      <td>Scott</td>\n",
       "      <td>56</td>\n",
       "      <td>1.857637e+06</td>\n",
       "      <td>165905</td>\n",
       "      <td>11.21</td>\n",
       "      <td>65</td>\n",
       "      <td>172126</td>\n",
       "      <td>87141.67</td>\n",
       "      <td>83125.00</td>\n",
       "      <td>4025.00</td>\n",
       "      <td>4.61</td>\n",
       "      <td>0.49</td>\n",
       "      <td>0.51</td>\n",
       "      <td>0.86</td>\n",
       "      <td>1</td>\n",
       "    </tr>\n",
       "    <tr>\n",
       "      <th>5</th>\n",
       "      <td>77</td>\n",
       "      <td>Pottawattamie</td>\n",
       "      <td>53</td>\n",
       "      <td>1.280695e+06</td>\n",
       "      <td>95411</td>\n",
       "      <td>11.40</td>\n",
       "      <td>60</td>\n",
       "      <td>93671</td>\n",
       "      <td>49275.00</td>\n",
       "      <td>47508.33</td>\n",
       "      <td>1758.33</td>\n",
       "      <td>3.57</td>\n",
       "      <td>0.49</td>\n",
       "      <td>0.51</td>\n",
       "      <td>0.86</td>\n",
       "      <td>17</td>\n",
       "    </tr>\n",
       "    <tr>\n",
       "      <th>6</th>\n",
       "      <td>96</td>\n",
       "      <td>Woodbury</td>\n",
       "      <td>38</td>\n",
       "      <td>1.269002e+06</td>\n",
       "      <td>96169</td>\n",
       "      <td>12.30</td>\n",
       "      <td>68</td>\n",
       "      <td>102782</td>\n",
       "      <td>55891.67</td>\n",
       "      <td>53816.67</td>\n",
       "      <td>2083.33</td>\n",
       "      <td>3.72</td>\n",
       "      <td>0.49</td>\n",
       "      <td>0.51</td>\n",
       "      <td>0.85</td>\n",
       "      <td>23</td>\n",
       "    </tr>\n",
       "    <tr>\n",
       "      <th>7</th>\n",
       "      <td>30</td>\n",
       "      <td>Dubuque</td>\n",
       "      <td>41</td>\n",
       "      <td>1.089385e+06</td>\n",
       "      <td>80308</td>\n",
       "      <td>12.38</td>\n",
       "      <td>54</td>\n",
       "      <td>97125</td>\n",
       "      <td>55741.67</td>\n",
       "      <td>53733.33</td>\n",
       "      <td>2000.00</td>\n",
       "      <td>3.58</td>\n",
       "      <td>0.49</td>\n",
       "      <td>0.51</td>\n",
       "      <td>0.86</td>\n",
       "      <td>30</td>\n",
       "    </tr>\n",
       "    <tr>\n",
       "      <th>8</th>\n",
       "      <td>84</td>\n",
       "      <td>Story</td>\n",
       "      <td>38</td>\n",
       "      <td>1.075273e+06</td>\n",
       "      <td>76886</td>\n",
       "      <td>12.38</td>\n",
       "      <td>80</td>\n",
       "      <td>96021</td>\n",
       "      <td>57375.00</td>\n",
       "      <td>55991.67</td>\n",
       "      <td>1375.00</td>\n",
       "      <td>2.41</td>\n",
       "      <td>0.52</td>\n",
       "      <td>0.48</td>\n",
       "      <td>0.86</td>\n",
       "      <td>3</td>\n",
       "    </tr>\n",
       "    <tr>\n",
       "      <th>9</th>\n",
       "      <td>47</td>\n",
       "      <td>Iowa</td>\n",
       "      <td>27</td>\n",
       "      <td>8.977928e+05</td>\n",
       "      <td>61838</td>\n",
       "      <td>13.01</td>\n",
       "      <td>68</td>\n",
       "      <td>16401</td>\n",
       "      <td>10410.00</td>\n",
       "      <td>10052.50</td>\n",
       "      <td>358.33</td>\n",
       "      <td>3.46</td>\n",
       "      <td>0.49</td>\n",
       "      <td>0.51</td>\n",
       "      <td>0.86</td>\n",
       "      <td>51</td>\n",
       "    </tr>\n",
       "  </tbody>\n",
       "</table>\n",
       "</div>"
      ],
      "text/plain": [
       "   index         County  TotalNoStores  TotalSaleDollars  TotalBottlesSold  \\\n",
       "0     76           Polk            210      8.121854e+06            596571   \n",
       "1     56           Linn            104      3.165472e+06            247691   \n",
       "2     51        Johnson             47      1.962554e+06            137611   \n",
       "3      6     Black Hawk             73      1.939965e+06            173653   \n",
       "4     81          Scott             56      1.857637e+06            165905   \n",
       "5     77  Pottawattamie             53      1.280695e+06             95411   \n",
       "6     96       Woodbury             38      1.269002e+06             96169   \n",
       "7     30        Dubuque             41      1.089385e+06             80308   \n",
       "8     84          Story             38      1.075273e+06             76886   \n",
       "9     47           Iowa             27      8.977928e+05             61838   \n",
       "\n",
       "   StateBottleRetailMed  TotalNoVendors  Population  Average of LABORFORCE  \\\n",
       "0                 12.38             103      467711              255758.33   \n",
       "1                 11.76              78      219916              119816.67   \n",
       "2                 12.38              84      144251               83891.67   \n",
       "3                 11.43              70      133455               70491.67   \n",
       "4                 11.21              65      172126               87141.67   \n",
       "5                 11.40              60       93671               49275.00   \n",
       "6                 12.30              68      102782               55891.67   \n",
       "7                 12.38              54       97125               55741.67   \n",
       "8                 12.38              80       96021               57375.00   \n",
       "9                 13.01              68       16401               10410.00   \n",
       "\n",
       "   Average of EMPLAB  Average of UNEMP  Average of UNEMPRATE  Prop. Male  \\\n",
       "0          246600.00           9183.33                  3.58        0.49   \n",
       "1          115366.67           4458.33                  3.71        0.49   \n",
       "2           81716.67           2191.67                  2.60        0.50   \n",
       "3           67325.00           3166.67                  4.50        0.49   \n",
       "4           83125.00           4025.00                  4.61        0.49   \n",
       "5           47508.33           1758.33                  3.57        0.49   \n",
       "6           53816.67           2083.33                  3.72        0.49   \n",
       "7           53733.33           2000.00                  3.58        0.49   \n",
       "8           55991.67           1375.00                  2.41        0.52   \n",
       "9           10052.50            358.33                  3.46        0.49   \n",
       "\n",
       "   Prop. Female  Prop. Population over 21  county_dummy  \n",
       "0          0.51                      0.85             8  \n",
       "1          0.51                      0.86             5  \n",
       "2          0.50                      0.87            12  \n",
       "3          0.51                      0.87             2  \n",
       "4          0.51                      0.86             1  \n",
       "5          0.51                      0.86            17  \n",
       "6          0.51                      0.85            23  \n",
       "7          0.51                      0.86            30  \n",
       "8          0.48                      0.86             3  \n",
       "9          0.51                      0.86            51  "
      ]
     },
     "execution_count": 146,
     "metadata": {},
     "output_type": "execute_result"
    }
   ],
   "source": [
    "my_df = result.sort_values(by=\"TotalSaleDollars\", ascending=False)\n",
    "my_df.reset_index(inplace=True)\n",
    "my_df.head(10)"
   ]
  },
  {
   "cell_type": "code",
   "execution_count": 156,
   "metadata": {
    "collapsed": false
   },
   "outputs": [
    {
     "data": {
      "image/png": "[encoded data removed]",
      "text/plain": [
       "<matplotlib.figure.Figure at 0x12816e6d0>"
      ]
     },
     "metadata": {},
     "output_type": "display_data"
    }
   ],
   "source": [
    "fig, axes = plt.subplots(4,1, figsize=(10,20))\n",
    "\n",
    "plt.subplot(411)\n",
    "plt.subplots_adjust(hspace=1)\n",
    "counties = my_df['County'].head(10).values\n",
    "y_pos = np.arange(len(counties))\n",
    "performance = my_df['TotalSaleDollars'].head(10).values\n",
    "error = np.random.rand(len(counties))\n",
    "\n",
    "plt.barh(y_pos, performance, xerr=error, align='center', alpha=0.4)\n",
    "plt.yticks(y_pos, counties)\n",
    "plt.xlabel('Total Sale Dollars')\n",
    "plt.title('Total Sale Dollars by County')\n",
    "\n",
    "plt.subplot(412)\n",
    "plt.subplots_adjust(hspace=1)\n",
    "counties = my_df['County'].head(10).values\n",
    "y_pos = np.arange(len(counties))\n",
    "performance = my_df['TotalNoStores'].head(10).values\n",
    "error = np.random.rand(len(counties))\n",
    "\n",
    "plt.barh(y_pos, performance, xerr=error, align='center', alpha=0.4)\n",
    "plt.yticks(y_pos, counties)\n",
    "plt.xlabel('Total Number of Stores')\n",
    "plt.title('Total Number of Stores by County');\n",
    "\n",
    "plt.subplot(413)\n",
    "plt.subplots_adjust(hspace=1)\n",
    "counties = my_df['County'].head(10).values\n",
    "y_pos = np.arange(len(counties))\n",
    "performance = my_df['TotalBottlesSold'].head(10).values\n",
    "error = np.random.rand(len(counties))\n",
    "\n",
    "plt.barh(y_pos, performance, xerr=error, align='center', alpha=0.4)\n",
    "plt.yticks(y_pos, counties)\n",
    "plt.xlabel('Total Bottles Sold')\n",
    "plt.title('Total Bottles Sold by County');\n",
    "\n",
    "plt.subplot(414)\n",
    "plt.subplots_adjust(hspace=1)\n",
    "counties = my_df['County'].head(10).values\n",
    "y_pos = np.arange(len(counties))\n",
    "performance = my_df['TotalNoVendors'].head(10).values\n",
    "error = np.random.rand(len(counties))\n",
    "\n",
    "plt.barh(y_pos, performance, xerr=error, align='center', alpha=0.4)\n",
    "plt.yticks(y_pos, counties)\n",
    "plt.xlabel('Total Number of Vendors')\n",
    "plt.title('Total Vendors by County');"
   ]
  },
  {
   "cell_type": "code",
   "execution_count": null,
   "metadata": {
    "collapsed": false
   },
   "outputs": [],
   "source": [
    "#Join predictions to a dataframe\n",
    "\n",
    "import pandas\n",
    "import numpy\n",
    "\n",
    "\n",
    "dtype = [('predictions','float32')]\n",
    "values = [predictions[i] for i in range(0, len(predictions))]\n",
    "index = [i for i in range(0, len(predictions))]\n",
    "\n",
    "\n",
    "\n",
    "df2 = pandas.DataFrame(values)\n",
    "df2[0]\n",
    "#len(df2)\n",
    "dfx1 = dfx\n",
    "#len(predictions)\n",
    "dfx1 ['Predictions'] = df2[0]\n",
    "dfx1 ['TotalSaleDollars'] = targets[\"TotalSaleDollars\"]\n",
    "dfx1\n",
    "#dfx1 ['SalesDollars'] = targets['SaleDollars']\n",
    "#dfx1['Predictions'].head(5)\n"
   ]
  },
  {
   "cell_type": "markdown",
   "metadata": {
    "collapsed": true
   },
   "source": [
    "# Summary\n",
    "\n",
    "At the outset, we intended to discover the features most highly correlated with liquor sales to determine which geographic locations would be most suitable for an entrepreneur looking to build or exand their liquor franchise in Iowa. \n",
    "\n",
    "After reviewing the existing literature on the subject, we found five recurring features correlated with liquor consumption. These five features were:\n",
    "\n",
    "1. The density of alcohol vendors in a given neighborhood, and resultant access to alcohol, seemed to increase alcohol consumption.$^1$$^,$$^2$\n",
    "2. Economic Factors - Better economy, better booze sales.$^3$\n",
    "3. Gender - Men are more likely to binge drink than women.$^3$\n",
    "4. Age Profile - The proportion of people in the region over the U.S. legal drinking age of 21.$^4$\n",
    "5. Population Density - More people, more alcohol consumption.$^3$\n",
    "\n",
    "We appended additional demographic data to our existing Iowa government dataset to test the correlation between these features, as well as the included features, and alcohol sales. After running a seaborn heatmap on the correlation between these features, we whittled down the number of features most highly correlated with total sales to just four: total number of stores (store density per county), total bottles sold (per county), total number of vendors (diversity of product offerings) and average labor force (employment metric, at the county level). We then built a linear regression to model the relationship between these four features and sales.\n",
    "\n",
    "As was borne out by the model, these four features were extremely highly correlated with liquor sales -- giving us an r squared of .99. We cross validated our linear regression model with a lasso regression, which returned comparably high r squared values, ranging from .94 to .99 over 10 cross validations. \n",
    "\n",
    "# Risks and Assumptions\n",
    "\n",
    "A brief, important word should be devoted to the nature of the dataset and to the high r-squared. Our dataset consisted of features that were very highly collinear with sales, some definitionally so. For example, the 'Sales (Dollars)' column in the original dataset (renamed \"TotalSalesDollars\") was simply the product of the 'State Bottle Retail' column and the 'Bottles Sold' column. Thus, if looking at features correlated with 'Sales (Dollars)', we definitionally have two features that can describe all movement in 'Sales (Dollars)'. As a result of this, we would expect most properly executed models using this dataset to have very high r squared's.\n",
    "\n",
    "One major, implicit assumption that we make in all of this is that 'Sales (Dollars)', viewed at any level of specificity (store level, county level, zip code level), is an indicator of profitability, and it is not. This feature is a misnomer - the 'Sale (Dollars)' column reflects the cost a point of sale incurred when purchasing the liquor from the Iowa government. The extent to which the retailer is marking up the liquor and the speed at which they're turning their inventory is completely unknown. We assume that stores buying lots of liquor are selling a lot too but we don't know at the individual store level whether this is true at all, given the data. \n",
    "\n",
    "# Results\n",
    "\n",
    "Our analysis, which was conducted at the county level, shows that the 10 Iowa counties most with the highest sales, in order, are:\n",
    "\n",
    "1. Polk\n",
    "2. Linn\n",
    "3. Johnson\n",
    "4. Black Hawk\n",
    "5. Scott\n",
    "6. Pottawattamie\n",
    "7. Woodbury\n",
    "8. Dubuque\n",
    "9. Story\n",
    "10. Iowa County\n",
    "\n",
    "For an entrepreneur looking to set up shop or expand further into Iowa, these locales would be the soundest places to start. Given our model's fit with the data and the tremendously high r squared, it is very unlikely that there would be material variance in 'Sales (Dollars)' for the entrepreneur, and these 10 counties represent the top of the 'Sales (Dollars)' list. "
   ]
  },
  {
   "cell_type": "markdown",
   "metadata": {
    "collapsed": true
   },
   "source": [
    "# Sources \n",
    "1. https://www.ncbi.nlm.nih.gov/pmc/articles/PMC2936987/; accessed 10/12/2015\n",
    "2. http://www.arcr.niaaa.nih.gov/arcr/arcr381/article08.htm; accessed 10/12/2015 \n",
    "3. http://www.usatoday.com/story/money/business/2015/07/02/24-7-wall-st-states-drinking-most-beer/29574619/; accessed 10/12/2015\n",
    "4. http://helenair.com/news/state-and-regional/demographic-factors-also-influence-drinking-and-driving/article_fdd73b94-3a30-11df-a889-001cc4c03286.html; accessed 10/12/2015"
   ]
  }
 ],
 "metadata": {
  "anaconda-cloud": {},
  "kernelspec": {
   "display_name": "Python [py27]",
   "language": "python",
   "name": "Python [py27]"
  },
  "language_info": {
   "codemirror_mode": {
    "name": "ipython",
    "version": 2
   },
   "file_extension": ".py",
   "mimetype": "text/x-python",
   "name": "python",
   "nbconvert_exporter": "python",
   "pygments_lexer": "ipython2",
   "version": "2.7.12"
  }
 },
 "nbformat": 4,
 "nbformat_minor": 0
}
