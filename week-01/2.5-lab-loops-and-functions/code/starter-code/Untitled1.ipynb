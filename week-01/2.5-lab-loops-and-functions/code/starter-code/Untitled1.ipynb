{
 "cells": [
  {
   "cell_type": "code",
   "execution_count": 4,
   "metadata": {
    "collapsed": false
   },
   "outputs": [
    {
     "name": "stdout",
     "output_type": "stream",
     "text": [
      "Please enter the square side : 2\n",
      "area =  4\n"
     ]
    }
   ],
   "source": [
    "def areaSquare(side): \n",
    "    area = side * 2\n",
    "    print \"area = \", area\n",
    "    return\n",
    "\n",
    "x = int(raw_input(\"Please enter the square side : \"))\n",
    "\n",
    "areaSquare(x)\n",
    "\n"
   ]
  },
  {
   "cell_type": "code",
   "execution_count": 8,
   "metadata": {
    "collapsed": false
   },
   "outputs": [
    {
     "name": "stdout",
     "output_type": "stream",
     "text": [
      "Please enter the length of the rectancle : 2\n",
      "Please enter the width of the rectancle : 3\n",
      "area =  6\n"
     ]
    }
   ],
   "source": [
    "def arearectangle(l, w): \n",
    "    area = l * w\n",
    "    print \"area = \", area\n",
    "    return\n",
    "\n",
    "le = int(input(\"Please enter the length of the rectancle : \"))\n",
    "wi = int(input(\"Please enter the width of the rectancle : \"))\n",
    "\n",
    "arearectangle(le,wi)\n",
    "\n"
   ]
  },
  {
   "cell_type": "code",
   "execution_count": 19,
   "metadata": {
    "collapsed": false
   },
   "outputs": [
    {
     "name": "stdout",
     "output_type": "stream",
     "text": [
      "Please enter the length of the Cuboid : 2\n",
      "Please enter the width of the Cuboid : 3\n",
      "Please enter the height of the Cuboid : 4\n",
      "area =  52\n"
     ]
    }
   ],
   "source": [
    "def surfaceAreaCuboid(length,width,height):\n",
    "    area = 2 * ((length*width)+(width*height)+(height*length))\n",
    "    print \"area = \", area\n",
    "    return\n",
    "\n",
    "l = int(raw_input(\"Please enter the length of the Cuboid : \"))\n",
    "w = int(raw_input(\"Please enter the width of the Cuboid : \"))\n",
    "h = int(raw_input(\"Please enter the height of the Cuboid : \"))\n",
    "\n",
    "surfaceAreaCuboid(l,w,h)    \n"
   ]
  },
  {
   "cell_type": "code",
   "execution_count": null,
   "metadata": {
    "collapsed": true
   },
   "outputs": [],
   "source": []
  }
 ],
 "metadata": {
  "kernelspec": {
   "display_name": "Python [Root]",
   "language": "python",
   "name": "Python [Root]"
  },
  "language_info": {
   "codemirror_mode": {
    "name": "ipython",
    "version": 2
   },
   "file_extension": ".py",
   "mimetype": "text/x-python",
   "name": "python",
   "nbconvert_exporter": "python",
   "pygments_lexer": "ipython2",
   "version": "2.7.12"
  }
 },
 "nbformat": 4,
 "nbformat_minor": 0
}
